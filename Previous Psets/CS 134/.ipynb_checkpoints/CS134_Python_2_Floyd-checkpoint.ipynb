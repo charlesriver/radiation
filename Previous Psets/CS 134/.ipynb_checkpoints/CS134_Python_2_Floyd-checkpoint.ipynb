{
 "cells": [
  {
   "cell_type": "markdown",
   "metadata": {},
   "source": [
    "<center> <h1>CS 134: Networks Pset #2</h1> </center>\n",
    "<center> <h4>Christine Zhang</h4> </center>"
   ]
  },
  {
   "cell_type": "markdown",
   "metadata": {},
   "source": [
    "----"
   ]
  },
  {
   "cell_type": "code",
   "execution_count": 23,
   "metadata": {
    "collapsed": false
   },
   "outputs": [],
   "source": [
    "import matplotlib.pyplot as plt\n",
    "import numpy as np\n",
    "import pandas as pd\n",
    "import random\n",
    "import math"
   ]
  },
  {
   "cell_type": "code",
   "execution_count": 24,
   "metadata": {
    "collapsed": false
   },
   "outputs": [],
   "source": [
    "def k2_grid (r, k, l):\n",
    "    \n",
    "    # initialize with matrix of zeros\n",
    "    adj = [np.zeros(r**2) for each in range(0, r**2)]\n",
    "    \n",
    "    for i in range(0, r**2):\n",
    "        # grid\n",
    "        # left\n",
    "        if (i % r) - 1 >= 0:\n",
    "            adj[i][i - 1] = 1\n",
    "        # right\n",
    "        if (i % r) + 1 < r:\n",
    "            adj[i][i + 1] = 1\n",
    "        # up\n",
    "        if i - r >= 0:\n",
    "            adj[i][i - r] = 1\n",
    "        # down\n",
    "        if i + r < r**2:\n",
    "            adj[i][i + r] = 1\n",
    "            \n",
    "        # k = 2 edges\n",
    "        # left\n",
    "        if (i % r) - 2 >= 0 and (i % r) - 1 >= 0:\n",
    "            adj[i][i - 2] = 1\n",
    "        # right\n",
    "        if (i % r) + 2 < r and (i % r) + 1 < r:\n",
    "            adj[i][i + 2] = 1\n",
    "        # up\n",
    "        if i - 2*r >= 0:\n",
    "            adj[i][i - 2*r] = 1\n",
    "        # down\n",
    "        if i + 2*r < r**2:\n",
    "            adj[i][i + 2*r] = 1\n",
    "        # down and right\n",
    "        if (i + 1) % r != 0 and i + r + 1 < r**2:\n",
    "            adj[i][i + 1 + r] = 1\n",
    "        # up and right\n",
    "        if (i + 1) % r != 0 and i + 1 - r > 0:\n",
    "            adj[i][i + 1 - r] = 1\n",
    "        # up and left\n",
    "        if i % r != 0 and i - 1 - r > 0:\n",
    "            adj[i][i - 1 - r] = 1\n",
    "        # down and left \n",
    "        if i % r != 0 and i - 1 + r < r**2:\n",
    "            adj[i][i - 1 + r] = 1\n",
    "\n",
    "    return adj\n",
    "\n",
    "k2_matrix = k2_grid (4, 2, 2)"
   ]
  },
  {
   "cell_type": "code",
   "execution_count": 40,
   "metadata": {
    "collapsed": false
   },
   "outputs": [
    {
     "name": "stdout",
     "output_type": "stream",
     "text": [
      "Watts-Strogatz matrix:\n"
     ]
    },
    {
     "data": {
      "text/plain": [
       "[array([0, 1, 1, 0, 1, 1, 0, 0, 1, 1, 0, 0, 0, 0, 0, 0]),\n",
       " array([1, 0, 1, 1, 1, 1, 1, 1, 0, 1, 0, 0, 0, 0, 0, 0]),\n",
       " array([1, 1, 0, 1, 0, 1, 1, 1, 1, 1, 1, 0, 0, 0, 0, 0]),\n",
       " array([0, 1, 1, 0, 0, 0, 1, 1, 0, 0, 1, 1, 0, 1, 0, 0]),\n",
       " array([1, 1, 0, 1, 0, 1, 1, 0, 1, 1, 0, 0, 1, 0, 0, 0]),\n",
       " array([0, 1, 1, 0, 1, 0, 1, 1, 1, 1, 1, 0, 1, 1, 1, 0]),\n",
       " array([0, 1, 1, 1, 1, 1, 1, 1, 0, 1, 1, 1, 0, 0, 1, 0]),\n",
       " array([0, 0, 1, 1, 0, 1, 1, 0, 0, 0, 1, 1, 0, 0, 1, 1]),\n",
       " array([1, 1, 0, 0, 1, 1, 0, 0, 0, 1, 1, 0, 1, 1, 0, 0]),\n",
       " array([1, 1, 0, 0, 1, 1, 1, 0, 1, 1, 1, 1, 1, 1, 1, 0]),\n",
       " array([0, 0, 1, 0, 1, 1, 1, 1, 1, 1, 0, 1, 0, 1, 1, 1]),\n",
       " array([0, 0, 1, 1, 0, 0, 1, 1, 0, 1, 1, 0, 0, 0, 1, 1]),\n",
       " array([0, 0, 0, 1, 1, 0, 0, 0, 1, 1, 0, 0, 0, 1, 1, 0]),\n",
       " array([0, 1, 0, 0, 0, 1, 0, 1, 1, 1, 1, 0, 1, 0, 1, 1]),\n",
       " array([0, 0, 0, 0, 0, 0, 1, 1, 0, 1, 1, 1, 1, 1, 0, 1]),\n",
       " array([1, 0, 1, 0, 0, 0, 0, 1, 0, 0, 1, 1, 0, 1, 1, 0])]"
      ]
     },
     "execution_count": 40,
     "metadata": {},
     "output_type": "execute_result"
    }
   ],
   "source": [
    "def watts (r, k, l):\n",
    "    \n",
    "    k2_matrix = k2_grid (r, k, l)\n",
    "    \n",
    "    for i in range(0, r**2):\n",
    "        for j in range(0, l):\n",
    "        # random long range edges\n",
    "            k2_matrix[i][random.randrange(0, r**2)] = 1\n",
    "        \n",
    "    return k2_matrix\n",
    "\n",
    "watts_matrix = watts (4, 2, 2)\n",
    "np.set_printoptions(formatter={'float': lambda x: \"{0:0.0f}\".format(x)})\n",
    "print \"Watts-Strogatz matrix:\"\n",
    "watts_matrix"
   ]
  },
  {
   "cell_type": "code",
   "execution_count": 26,
   "metadata": {
    "collapsed": false
   },
   "outputs": [],
   "source": [
    "# turn adjacency matrix into adjacency list\n",
    "def adj_list (watts_matrix):\n",
    "    counter = 0\n",
    "    dic = {}\n",
    "    for row in watts_matrix:\n",
    "        dic[counter] = {i : 1 for i,j in enumerate(row) if j != 0}\n",
    "        counter += 1\n",
    "    return dic  \n",
    "dictionary = adj_list (watts_matrix)"
   ]
  },
  {
   "cell_type": "code",
   "execution_count": 27,
   "metadata": {
    "collapsed": false
   },
   "outputs": [],
   "source": [
    "# floyd warshall algorithm\n",
    "def floydwarshall(graph):\n",
    " \n",
    "    # Initialize dist and pred:\n",
    "    # copy graph into dist, but add infinite where there is\n",
    "    # no edge, and 0 in the diagonal\n",
    "    dist = {}\n",
    "    pred = {}\n",
    "    for u in graph:\n",
    "        dist[u] = {}\n",
    "        pred[u] = {}\n",
    "        for v in graph:\n",
    "            dist[u][v] = 1000\n",
    "            pred[u][v] = -1\n",
    "        dist[u][u] = 0\n",
    "        for neighbor in graph[u]:\n",
    "            dist[u][neighbor] = graph[u][neighbor]\n",
    "            pred[u][neighbor] = u\n",
    " \n",
    "    for t in graph:\n",
    "        # given dist u to v, check if path u - t - v is shorter\n",
    "        for u in graph:\n",
    "            for v in graph:\n",
    "                newdist = dist[u][t] + dist[t][v]\n",
    "                if newdist < dist[u][v]:\n",
    "                    dist[u][v] = newdist\n",
    "                    pred[u][v] = pred[t][v] # route new path through t\n",
    " \n",
    "    return dist, pred"
   ]
  },
  {
   "cell_type": "code",
   "execution_count": 42,
   "metadata": {
    "collapsed": false
   },
   "outputs": [
    {
     "name": "stdout",
     "output_type": "stream",
     "text": [
      "Shortest distance from each vertex:\n",
      "0: {0: 0, 1: 1, 2: 1, 3: 2, 4: 1, 5: 1, 6: 2, 7: 2, 8: 1, 9: 2, 10: 2, 11: 1, 12: 2, 13: 2, 14: 2, 15: 1}\n",
      "1: {0: 1, 1: 0, 2: 1, 3: 1, 4: 1, 5: 1, 6: 1, 7: 2, 8: 2, 9: 1, 10: 2, 11: 2, 12: 1, 13: 2, 14: 2, 15: 2}\n",
      "2: {0: 1, 1: 1, 2: 0, 3: 1, 4: 2, 5: 1, 6: 1, 7: 1, 8: 2, 9: 2, 10: 1, 11: 2, 12: 2, 13: 2, 14: 2, 15: 2}\n",
      "3: {0: 2, 1: 1, 2: 1, 3: 0, 4: 2, 5: 2, 6: 1, 7: 1, 8: 1, 9: 2, 10: 1, 11: 1, 12: 2, 13: 2, 14: 2, 15: 2}\n",
      "4: {0: 1, 1: 1, 2: 2, 3: 2, 4: 0, 5: 1, 6: 1, 7: 2, 8: 1, 9: 1, 10: 2, 11: 2, 12: 1, 13: 2, 14: 2, 15: 1}\n",
      "5: {0: 2, 1: 1, 2: 1, 3: 2, 4: 1, 5: 0, 6: 1, 7: 1, 8: 1, 9: 1, 10: 1, 11: 2, 12: 2, 13: 1, 14: 2, 15: 2}\n",
      "6: {0: 1, 1: 1, 2: 1, 3: 1, 4: 1, 5: 1, 6: 0, 7: 1, 8: 2, 9: 1, 10: 1, 11: 1, 12: 2, 13: 2, 14: 1, 15: 2}\n",
      "7: {0: 2, 1: 2, 2: 1, 3: 1, 4: 2, 5: 1, 6: 1, 7: 0, 8: 1, 9: 2, 10: 1, 11: 1, 12: 1, 13: 2, 14: 2, 15: 1}\n",
      "8: {0: 1, 1: 2, 2: 2, 3: 2, 4: 1, 5: 1, 6: 1, 7: 1, 8: 0, 9: 1, 10: 1, 11: 2, 12: 1, 13: 1, 14: 2, 15: 2}\n",
      "9: {0: 2, 1: 1, 2: 2, 3: 2, 4: 1, 5: 1, 6: 1, 7: 2, 8: 1, 9: 0, 10: 1, 11: 1, 12: 1, 13: 1, 14: 1, 15: 2}\n",
      "10: {0: 2, 1: 2, 2: 1, 3: 2, 4: 2, 5: 1, 6: 1, 7: 1, 8: 1, 9: 1, 10: 0, 11: 1, 12: 2, 13: 1, 14: 1, 15: 1}\n",
      "11: {0: 1, 1: 2, 2: 2, 3: 1, 4: 1, 5: 2, 6: 1, 7: 1, 8: 2, 9: 1, 10: 1, 11: 0, 12: 2, 13: 2, 14: 1, 15: 1}\n",
      "12: {0: 1, 1: 2, 2: 2, 3: 2, 4: 1, 5: 2, 6: 1, 7: 2, 8: 1, 9: 1, 10: 2, 11: 2, 12: 0, 13: 1, 14: 1, 15: 2}\n",
      "13: {0: 2, 1: 2, 2: 2, 3: 3, 4: 2, 5: 1, 6: 2, 7: 2, 8: 1, 9: 1, 10: 1, 11: 2, 12: 1, 13: 0, 14: 1, 15: 1}\n",
      "14: {0: 2, 1: 2, 2: 2, 3: 2, 4: 2, 5: 2, 6: 1, 7: 2, 8: 1, 9: 1, 10: 1, 11: 1, 12: 1, 13: 1, 14: 1, 15: 1}\n",
      "15: {0: 1, 1: 2, 2: 2, 3: 2, 4: 2, 5: 2, 6: 2, 7: 1, 8: 2, 9: 2, 10: 1, 11: 1, 12: 2, 13: 1, 14: 1, 15: 0}\n"
     ]
    }
   ],
   "source": [
    "# run floyd warshall and print distances\n",
    "dist, pred = floydwarshall(dictionary)\n",
    "print \"Shortest distance from each vertex:\"\n",
    "for v in dist: print \"%s: %s\" % (v, dist[v])"
   ]
  },
  {
   "cell_type": "code",
   "execution_count": 29,
   "metadata": {
    "collapsed": false
   },
   "outputs": [],
   "source": [
    "# find the average shortest length\n",
    "def shortest_length(dist, r):\n",
    "    average = 0\n",
    "    count = 0\n",
    "    len = []\n",
    "    for i in range(0, r**2):\n",
    "        for j in range(0, r**2): \n",
    "            if dist[i][j] >= 1:\n",
    "                average += dist[i][j]\n",
    "                count += 1\n",
    "    return float(average) / float(count)\n",
    "    \n",
    "shortest_dist = shortest_length(dist, 4)"
   ]
  },
  {
   "cell_type": "code",
   "execution_count": 30,
   "metadata": {
    "collapsed": true
   },
   "outputs": [],
   "source": [
    "# function that combines and runs all above functions together\n",
    "def all_together(r, k, l):\n",
    "    watts_matrix = watts (r, k, l)\n",
    "    dictionary = adj_list (watts_matrix)\n",
    "    dist, pred = floydwarshall(dictionary)\n",
    "    FW = shortest_length(dist, r)\n",
    "    return FW"
   ]
  },
  {
   "cell_type": "code",
   "execution_count": 46,
   "metadata": {
    "collapsed": false
   },
   "outputs": [
    {
     "name": "stdout",
     "output_type": "stream",
     "text": [
      "N values: [1, 4, 9, 16, 25, 36, 49, 64, 81, 100] \n",
      "\n",
      "Log(n) values:  [0.0, 1.3862943611198906, 2.1972245773362196, 2.772588722239781, 3.2188758248682006, 3.58351893845611, 3.8918202981106265, 4.1588830833596715, 4.394449154672439, 4.605170185988092] \n",
      "\n",
      "Average shortest distance for Watts-Strogatz Model: \n",
      "[1.0, 1.0769230769230769, 1.2191780821917808, 1.4541666666666666, 1.6511627906976745, 1.8541996830427891, 1.969825754356141, 2.1001487357461577, 2.2434058306339657, 2.352994647005353]\n"
     ]
    }
   ],
   "source": [
    "# print values of n to test\n",
    "r_values = range(1, 11)\n",
    "n_values = [x**2 for x in r_values]\n",
    "print \"N values:\", n_values, \"\\n\"\n",
    "\n",
    "# take log to get big O estimates\n",
    "log_x = [math.log(x) for x in n_values]\n",
    "print \"Log(n) values: \", log_x, \"\\n\"\n",
    "\n",
    "# run watts-strogatz on different values of n\n",
    "shortest_lst = []\n",
    "for r in r_values:\n",
    "    shortest_lst.append(all_together(r, 2, 2))\n",
    "print \"Average shortest distance for Watts-Strogatz Model: \"\n",
    "print shortest_lst"
   ]
  },
  {
   "cell_type": "markdown",
   "metadata": {},
   "source": [
    "----"
   ]
  },
  {
   "cell_type": "code",
   "execution_count": 32,
   "metadata": {
    "collapsed": false
   },
   "outputs": [],
   "source": [
    "# calculate the lattice distance between two nodes\n",
    "def distance(matrix):\n",
    "    denom = 0\n",
    "    r = math.sqrt(len(matrix))\n",
    "    for i in range(0,len(matrix)):\n",
    "        for j in range(0,len(matrix)):\n",
    "            if matrix[i][j] == 1:\n",
    "                denom += math.floor(math.fabs(j - i) / r) + (math.fabs(j - i)) % r \n",
    "    return denom\n",
    "    \n",
    "denom = distance(k2_matrix)"
   ]
  },
  {
   "cell_type": "code",
   "execution_count": 33,
   "metadata": {
    "collapsed": false
   },
   "outputs": [],
   "source": [
    "# determine probabilities of each pair of nodes\n",
    "def longrange(kmatrix, r):\n",
    "    \n",
    "    prob = [np.zeros(r**2) for each in range(0, r**2)]\n",
    "    np.set_printoptions(formatter={'float': lambda x: \"{0:0.3f}\".format(x)})\n",
    "\n",
    "    for i in range(0, len(kmatrix)):\n",
    "        for j in range(0, len(kmatrix)):\n",
    "            calc = float(math.floor(math.fabs(j - i) / r) + (math.fabs(j - i)) % r)\n",
    "            if calc > 0:\n",
    "                prob[i][j] = calc**(-2) / float(denom)**(-2)\n",
    "    \n",
    "    # normalize probabilities\n",
    "    for i in range(0, len(kmatrix)):\n",
    "        sum_total = 0\n",
    "        for j in range(0, len(kmatrix)):\n",
    "            sum_total += prob[i][j]\n",
    "        prob[i] = prob[i] / sum_total\n",
    "    \n",
    "    # sum adjacent nodes to create \"buckets\" of size porportional to probability \n",
    "    for i in range(0, len(kmatrix)):\n",
    "        for j in range(1, len(kmatrix)):\n",
    "            prob[i][j] = prob[i][j-1] + prob[i][j]\n",
    "        \n",
    "    arg_list = [np.zeros(2) for each in range(0, r**2)]\n",
    "    \n",
    "    # randomly select which nodes are drawn\n",
    "    for k in range(0, 2):\n",
    "        for i in range(0, len(kmatrix)):\n",
    "            rand_index = random.uniform(0, 1)\n",
    "            marker = True\n",
    "            for j in range(0, len(kmatrix)):\n",
    "                if rand_index < prob[i][j] and marker == True:\n",
    "                    arg_list[i][k] = j\n",
    "                    marker = False\n",
    "                    \n",
    "    return arg_list\n",
    "\n",
    "arg_list = longrange(k2_matrix, 4)"
   ]
  },
  {
   "cell_type": "code",
   "execution_count": 47,
   "metadata": {
    "collapsed": false
   },
   "outputs": [
    {
     "name": "stdout",
     "output_type": "stream",
     "text": [
      "Randomly selected nodes for long-range edges, calculated based on probability: \n"
     ]
    },
    {
     "data": {
      "text/plain": [
       "[array([6, 5]),\n",
       " array([15, 12]),\n",
       " array([6, 3]),\n",
       " array([2, 4]),\n",
       " array([6, 5]),\n",
       " array([6, 0]),\n",
       " array([4, 10]),\n",
       " array([3, 13]),\n",
       " array([9, 4]),\n",
       " array([1, 1]),\n",
       " array([7, 0]),\n",
       " array([12, 14]),\n",
       " array([8, 13]),\n",
       " array([15, 15]),\n",
       " array([15, 13]),\n",
       " array([3, 12])]"
      ]
     },
     "execution_count": 47,
     "metadata": {},
     "output_type": "execute_result"
    }
   ],
   "source": [
    "print \"Randomly selected nodes for long-range edges, calculated based on probability: \"\n",
    "arg_list"
   ]
  },
  {
   "cell_type": "code",
   "execution_count": 49,
   "metadata": {
    "collapsed": false
   },
   "outputs": [
    {
     "name": "stdout",
     "output_type": "stream",
     "text": [
      "Kleinberg matrix: \n"
     ]
    },
    {
     "data": {
      "text/plain": [
       "[array([0, 1, 1, 0, 1, 1, 1, 0, 1, 0, 0, 0, 0, 0, 0, 0]),\n",
       " array([1, 0, 1, 1, 1, 1, 1, 0, 0, 1, 0, 0, 1, 0, 0, 1]),\n",
       " array([1, 1, 0, 1, 0, 1, 1, 1, 0, 0, 1, 0, 0, 0, 0, 0]),\n",
       " array([0, 1, 1, 0, 1, 0, 1, 1, 0, 0, 0, 1, 0, 0, 0, 0]),\n",
       " array([1, 1, 0, 0, 0, 1, 1, 0, 1, 1, 0, 0, 1, 0, 0, 0]),\n",
       " array([1, 1, 1, 0, 1, 0, 1, 1, 1, 1, 1, 0, 0, 1, 0, 0]),\n",
       " array([0, 1, 1, 1, 1, 1, 0, 1, 0, 1, 1, 1, 0, 0, 1, 0]),\n",
       " array([0, 0, 1, 1, 0, 1, 1, 0, 0, 0, 1, 1, 0, 1, 0, 1]),\n",
       " array([1, 0, 0, 0, 1, 1, 0, 0, 0, 1, 1, 0, 1, 1, 0, 0]),\n",
       " array([0, 1, 0, 0, 1, 1, 1, 0, 1, 0, 1, 1, 1, 1, 1, 0]),\n",
       " array([1, 0, 1, 0, 0, 1, 1, 1, 1, 1, 0, 1, 0, 1, 1, 1]),\n",
       " array([0, 0, 0, 1, 0, 0, 1, 1, 0, 1, 1, 0, 1, 0, 1, 1]),\n",
       " array([0, 0, 0, 0, 1, 0, 0, 0, 1, 1, 0, 0, 0, 1, 1, 0]),\n",
       " array([0, 0, 0, 0, 0, 1, 0, 0, 1, 1, 1, 0, 1, 0, 1, 1]),\n",
       " array([0, 0, 0, 0, 0, 0, 1, 0, 0, 1, 1, 1, 1, 1, 0, 1]),\n",
       " array([0, 0, 0, 1, 0, 0, 0, 1, 0, 0, 1, 1, 1, 1, 1, 0])]"
      ]
     },
     "execution_count": 49,
     "metadata": {},
     "output_type": "execute_result"
    }
   ],
   "source": [
    "def kleinberg (r, k, l, arg_list):\n",
    "    \n",
    "    # generate k=2 square lattice from above code\n",
    "    klein_matrix = k2_grid (r, k, l)\n",
    "    \n",
    "    for i in range(0, r**2):\n",
    "        # long range by probability \n",
    "        klein_matrix[i][int(arg_list[i][0])] = 1\n",
    "        klein_matrix[i][int(arg_list[i][1])] = 1\n",
    "        \n",
    "    return klein_matrix\n",
    "\n",
    "klein = kleinberg (4, 2, 2, arg_list)\n",
    "print \"Kleinberg matrix: \"\n",
    "klein"
   ]
  },
  {
   "cell_type": "code",
   "execution_count": 36,
   "metadata": {
    "collapsed": true
   },
   "outputs": [],
   "source": [
    "# function that runs all the above code\n",
    "def all_together_k (r, k, l):\n",
    "    k2_matrix = k2_grid (r, k, l)\n",
    "    denom = distance(k2_matrix)\n",
    "    arg_list = longrange(k2_matrix, r)\n",
    "    klein = kleinberg (r, k, l, arg_list)\n",
    "    dictionary = adj_list (klein)\n",
    "    dist, pred = floydwarshall(dictionary)\n",
    "    FW = shortest_length(dist, r)\n",
    "    return FW"
   ]
  },
  {
   "cell_type": "code",
   "execution_count": 51,
   "metadata": {
    "collapsed": false
   },
   "outputs": [
    {
     "name": "stdout",
     "output_type": "stream",
     "text": [
      "N values:  [4, 9, 16, 25, 36, 49, 64, 81, 100] \n",
      "\n",
      "Log(n) values:  [1.9218120556728056, 4.827795843250328, 7.687248222691222, 10.361161575920939, 12.841607982273604, 15.146265232785886, 17.296308501055247, 19.311183373001313, 21.207592441913597] \n",
      "\n",
      "Average Shortest Distance of Kleinberg matrix:\n",
      "[1.0833333333333333, 1.2083333333333333, 1.5625, 1.7883333333333333, 1.9603174603174602, 2.213860544217687, 2.482142857142857, 2.522685185185185, 2.695959595959596]\n"
     ]
    }
   ],
   "source": [
    "# generate values of n to test\n",
    "r_values = range(2, 11)\n",
    "n_values = [x**2 for x in r_values]\n",
    "print \"N values: \", n_values, \"\\n\"\n",
    "\n",
    "# generate log^2 values for big O comparison\n",
    "log_x = [(math.log(x))**2 for x in n_values]\n",
    "print \"Log(n) values: \", log_x, \"\\n\"\n",
    "\n",
    "# generate average shortest distances\n",
    "shortest_lst = []\n",
    "for r in r_values:\n",
    "    shortest_lst.append(all_together_k (r, 2, 2))\n",
    "print \"Average Shortest Distance of Kleinberg matrix:\"\n",
    "print shortest_lst"
   ]
  },
  {
   "cell_type": "markdown",
   "metadata": {},
   "source": [
    "----"
   ]
  },
  {
   "cell_type": "code",
   "execution_count": 90,
   "metadata": {
    "collapsed": false
   },
   "outputs": [
    {
     "data": {
      "text/plain": [
       "array([[    0,     1],\n",
       "       [    1,     0],\n",
       "       [    1,     2],\n",
       "       ..., \n",
       "       [36689, 36690],\n",
       "       [36690, 36689],\n",
       "       [36691,  8203]])"
      ]
     },
     "execution_count": 90,
     "metadata": {},
     "output_type": "execute_result"
    }
   ],
   "source": [
    "# read in enron dataset\n",
    "enron = pd.read_csv('enron.csv', names = [\"index\", \"value\"])\n",
    "enron = enron.as_matrix()\n",
    "enron"
   ]
  },
  {
   "cell_type": "code",
   "execution_count": 102,
   "metadata": {
    "collapsed": false
   },
   "outputs": [],
   "source": [
    "# randomly sample points\n",
    "sample_size = 1000\n",
    "enron_sub = random.sample(enron, sample_size)"
   ]
  },
  {
   "cell_type": "code",
   "execution_count": 105,
   "metadata": {
    "collapsed": false
   },
   "outputs": [],
   "source": [
    "# turn the data into an adjacency matrix\n",
    "enron_matrix = [np.zeros(len(enron)) for each in range(0, len(enron))]\n",
    "for row in enron_sub:\n",
    "    enron_matrix[row[0]][row[1]] = 1"
   ]
  },
  {
   "cell_type": "code",
   "execution_count": null,
   "metadata": {
    "collapsed": false
   },
   "outputs": [],
   "source": [
    "# turn the adjacency matrix into a list \n",
    "def adj_list (enron_matrix):\n",
    "    counter = 0\n",
    "    dic = {}\n",
    "    for row in enron_matrix:\n",
    "        dic[counter] = {i : 1 for i,j in enumerate(row) if j != 0}\n",
    "        counter += 1\n",
    "    return dic  \n",
    "enron_dict = adj_list (enron_matrix)"
   ]
  },
  {
   "cell_type": "code",
   "execution_count": null,
   "metadata": {
    "collapsed": true
   },
   "outputs": [],
   "source": [
    "# BFS algorithm\n",
    "def bfs(graph, start):\n",
    "    visited, queue = set(), [start]\n",
    "    while queue:\n",
    "        vertex = queue.pop(0)\n",
    "        if vertex not in visited:\n",
    "            visited.add(vertex)\n",
    "            queue.extend(graph[vertex] - visited)\n",
    "    return visited"
   ]
  },
  {
   "cell_type": "code",
   "execution_count": null,
   "metadata": {
    "collapsed": true
   },
   "outputs": [],
   "source": [
    "dist = bfs(enron_matrix, 0)"
   ]
  },
  {
   "cell_type": "code",
   "execution_count": null,
   "metadata": {
    "collapsed": true
   },
   "outputs": [],
   "source": [
    "# calculate the shortest lengths\n",
    "def shortest_length(dist, r):\n",
    "    average = 0\n",
    "    count = 0\n",
    "    len = []\n",
    "    for i in range(0, r**2):\n",
    "        for j in range(0, r**2): \n",
    "            if dist[i][j] >= 1:\n",
    "                average += dist[i][j]\n",
    "                count += 1\n",
    "    return float(average) / float(count)\n",
    "    \n",
    "shortest_dist = shortest_length(dist, 4)"
   ]
  },
  {
   "cell_type": "code",
   "execution_count": null,
   "metadata": {
    "collapsed": true
   },
   "outputs": [],
   "source": [
    "# run all the above functions\n",
    "def all_together(r, k, l):\n",
    "    watts_matrix = watts (r, k, l)\n",
    "    enron_dict = adj_list (enron_matrix)\n",
    "    dist = bfs(enron_matrix, 0)\n",
    "    FW = shortest_length(dist, r)\n",
    "    return FW"
   ]
  },
  {
   "cell_type": "code",
   "execution_count": null,
   "metadata": {
    "collapsed": true
   },
   "outputs": [],
   "source": [
    "# generate values of n to test\n",
    "r_values = range(1, 11)\n",
    "n_values = [x**2 for x in r_values]\n",
    "print n_values\n",
    "\n",
    "# generate log values for big O calculation\n",
    "log_x = [math.log(x) for x in n_values]\n",
    "print log_x\n",
    "\n",
    "# print average shortest distances list\n",
    "shortest_lst = []\n",
    "for r in r_values:\n",
    "    shortest_lst.append(all_together(r, 2, 2))\n",
    "print shortest_lst"
   ]
  },
  {
   "cell_type": "code",
   "execution_count": null,
   "metadata": {
    "collapsed": true
   },
   "outputs": [],
   "source": []
  }
 ],
 "metadata": {
  "anaconda-cloud": {},
  "kernelspec": {
   "display_name": "Python 2",
   "language": "python",
   "name": "python2"
  },
  "language_info": {
   "codemirror_mode": {
    "name": "ipython",
    "version": 2
   },
   "file_extension": ".py",
   "mimetype": "text/x-python",
   "name": "python",
   "nbconvert_exporter": "python",
   "pygments_lexer": "ipython2",
   "version": "2.7.13"
  }
 },
 "nbformat": 4,
 "nbformat_minor": 0
}
