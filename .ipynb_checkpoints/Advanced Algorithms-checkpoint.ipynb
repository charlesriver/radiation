{
 "cells": [
  {
   "cell_type": "code",
   "execution_count": 2,
   "metadata": {
    "collapsed": false
   },
   "outputs": [
    {
     "data": {
      "text/html": [
       "<script>\n",
       "code_show=true; \n",
       "function code_toggle() {\n",
       " if (code_show){\n",
       " $('div.input').hide();\n",
       " } else {\n",
       " $('div.input').show();\n",
       " }\n",
       " code_show = !code_show\n",
       "} \n",
       "$( document ).ready(code_toggle);\n",
       "</script>\n",
       "<form action=\"javascript:code_toggle()\"><input type=\"submit\" value=\"Click here to toggle on/off the raw code.\"></form>"
      ],
      "text/plain": [
       "<IPython.core.display.HTML object>"
      ]
     },
     "execution_count": 2,
     "metadata": {},
     "output_type": "execute_result"
    }
   ],
   "source": [
    "from IPython.display import HTML\n",
    "\n",
    "HTML('''<script>\n",
    "code_show=true; \n",
    "function code_toggle() {\n",
    " if (code_show){\n",
    " $('div.input').hide();\n",
    " } else {\n",
    " $('div.input').show();\n",
    " }\n",
    " code_show = !code_show\n",
    "} \n",
    "$( document ).ready(code_toggle);\n",
    "</script>\n",
    "<form action=\"javascript:code_toggle()\"><input type=\"submit\" value=\"Click here to toggle on/off the raw code.\"></form>''')"
   ]
  },
  {
   "cell_type": "markdown",
   "metadata": {},
   "source": [
    "<h1 align=\"center\"> Advanced Algorithms </h1>\n",
    "<h3 align=\"center\"> Christine Zhang </h3>"
   ]
  },
  {
   "cell_type": "markdown",
   "metadata": {},
   "source": [
    "----"
   ]
  },
  {
   "cell_type": "code",
   "execution_count": 33,
   "metadata": {
    "collapsed": false
   },
   "outputs": [],
   "source": [
    "import numpy as np\n",
    "import pandas as pd\n",
    "import scipy as sp\n",
    "import pickle\n",
    "from sklearn import preprocessing\n",
    "from sklearn.linear_model import LinearRegression\n",
    "from sklearn.ensemble import RandomForestRegressor\n",
    "from sklearn import linear_model\n",
    "from sklearn.model_selection import train_test_split\n",
    "from sklearn.svm import SVR\n",
    "import matplotlib.pyplot as plt\n",
    "from sklearn.decomposition import PCA\n",
    "from sklearn.model_selection import GridSearchCV\n",
    "%matplotlib inline"
   ]
  },
  {
   "cell_type": "code",
   "execution_count": 2,
   "metadata": {
    "collapsed": false
   },
   "outputs": [
    {
     "data": {
      "text/html": [
       "<div>\n",
       "<table border=\"1\" class=\"dataframe\">\n",
       "  <thead>\n",
       "    <tr style=\"text-align: right;\">\n",
       "      <th></th>\n",
       "      <th>0</th>\n",
       "      <th>1</th>\n",
       "      <th>2</th>\n",
       "      <th>3</th>\n",
       "      <th>4</th>\n",
       "      <th>5</th>\n",
       "      <th>6</th>\n",
       "      <th>7</th>\n",
       "      <th>8</th>\n",
       "      <th>9</th>\n",
       "      <th>...</th>\n",
       "      <th>488</th>\n",
       "      <th>489</th>\n",
       "      <th>490</th>\n",
       "      <th>491</th>\n",
       "      <th>492</th>\n",
       "      <th>493</th>\n",
       "      <th>494</th>\n",
       "      <th>495</th>\n",
       "      <th>496</th>\n",
       "      <th>497</th>\n",
       "    </tr>\n",
       "  </thead>\n",
       "  <tbody>\n",
       "    <tr>\n",
       "      <th>0</th>\n",
       "      <td>3</td>\n",
       "      <td>7</td>\n",
       "      <td>10</td>\n",
       "      <td>15</td>\n",
       "      <td>16</td>\n",
       "      <td>19</td>\n",
       "      <td>21</td>\n",
       "      <td>22</td>\n",
       "      <td>23</td>\n",
       "      <td>25</td>\n",
       "      <td>...</td>\n",
       "      <td>1271</td>\n",
       "      <td>1273</td>\n",
       "      <td>1278</td>\n",
       "      <td>1279</td>\n",
       "      <td>1280</td>\n",
       "      <td>1281</td>\n",
       "      <td>1282</td>\n",
       "      <td>1283</td>\n",
       "      <td>1285</td>\n",
       "      <td>1286</td>\n",
       "    </tr>\n",
       "  </tbody>\n",
       "</table>\n",
       "<p>1 rows × 498 columns</p>\n",
       "</div>"
      ],
      "text/plain": [
       "   0    1    2    3    4    5    6    7    8    9    ...    488   489   490  \\\n",
       "0    3    7   10   15   16   19   21   22   23   25  ...   1271  1273  1278   \n",
       "\n",
       "    491   492   493   494   495   496   497  \n",
       "0  1279  1280  1281  1282  1283  1285  1286  \n",
       "\n",
       "[1 rows x 498 columns]"
      ]
     },
     "execution_count": 2,
     "metadata": {},
     "output_type": "execute_result"
    }
   ],
   "source": [
    "ccl_pd = pd.read_csv('datasets_498/masterccleids.csv', header=None, sep =\",\")\n",
    "ccl = ccl_pd.as_matrix()\n",
    "ccl_pd.head()"
   ]
  },
  {
   "cell_type": "code",
   "execution_count": 3,
   "metadata": {
    "collapsed": false
   },
   "outputs": [
    {
     "data": {
      "text/html": [
       "<div>\n",
       "<table border=\"1\" class=\"dataframe\">\n",
       "  <thead>\n",
       "    <tr style=\"text-align: right;\">\n",
       "      <th></th>\n",
       "      <th>3</th>\n",
       "      <th>7</th>\n",
       "      <th>10</th>\n",
       "      <th>15</th>\n",
       "      <th>16</th>\n",
       "      <th>19</th>\n",
       "      <th>21</th>\n",
       "      <th>22</th>\n",
       "      <th>23</th>\n",
       "      <th>25</th>\n",
       "      <th>...</th>\n",
       "      <th>1271</th>\n",
       "      <th>1273</th>\n",
       "      <th>1278</th>\n",
       "      <th>1279</th>\n",
       "      <th>1280</th>\n",
       "      <th>1281</th>\n",
       "      <th>1282</th>\n",
       "      <th>1283</th>\n",
       "      <th>1285</th>\n",
       "      <th>1286</th>\n",
       "    </tr>\n",
       "  </thead>\n",
       "  <tbody>\n",
       "    <tr>\n",
       "      <th>0</th>\n",
       "      <td>2.473</td>\n",
       "      <td>2.142</td>\n",
       "      <td>3.38</td>\n",
       "      <td>3.374</td>\n",
       "      <td>3.123</td>\n",
       "      <td>3.779</td>\n",
       "      <td>3.471</td>\n",
       "      <td>2.625</td>\n",
       "      <td>4.677</td>\n",
       "      <td>2.751</td>\n",
       "      <td>...</td>\n",
       "      <td>2.469</td>\n",
       "      <td>3.071</td>\n",
       "      <td>5.351</td>\n",
       "      <td>3.929</td>\n",
       "      <td>3.912</td>\n",
       "      <td>4.913</td>\n",
       "      <td>3.755</td>\n",
       "      <td>1.712</td>\n",
       "      <td>4.61</td>\n",
       "      <td>5.46</td>\n",
       "    </tr>\n",
       "  </tbody>\n",
       "</table>\n",
       "<p>1 rows × 498 columns</p>\n",
       "</div>"
      ],
      "text/plain": [
       "    3      7     10     15     16     19     21     22     23     25    ...   \\\n",
       "0  2.473  2.142  3.38  3.374  3.123  3.779  3.471  2.625  4.677  2.751  ...    \n",
       "\n",
       "    1271   1273   1278   1279   1280   1281   1282   1283  1285  1286  \n",
       "0  2.469  3.071  5.351  3.929  3.912  4.913  3.755  1.712  4.61  5.46  \n",
       "\n",
       "[1 rows x 498 columns]"
      ]
     },
     "execution_count": 3,
     "metadata": {},
     "output_type": "execute_result"
    }
   ],
   "source": [
    "auc_trans_pd = pd.read_csv('datasets_498/auc.csv', names = ccl[0], sep =\",\")\n",
    "auc_trans_pd.head()"
   ]
  },
  {
   "cell_type": "code",
   "execution_count": 4,
   "metadata": {
    "collapsed": false
   },
   "outputs": [
    {
     "data": {
      "text/html": [
       "<div>\n",
       "<table border=\"1\" class=\"dataframe\">\n",
       "  <thead>\n",
       "    <tr style=\"text-align: right;\">\n",
       "      <th></th>\n",
       "      <th>0</th>\n",
       "    </tr>\n",
       "  </thead>\n",
       "  <tbody>\n",
       "    <tr>\n",
       "      <th>3</th>\n",
       "      <td>2.473</td>\n",
       "    </tr>\n",
       "    <tr>\n",
       "      <th>7</th>\n",
       "      <td>2.142</td>\n",
       "    </tr>\n",
       "    <tr>\n",
       "      <th>10</th>\n",
       "      <td>3.380</td>\n",
       "    </tr>\n",
       "    <tr>\n",
       "      <th>15</th>\n",
       "      <td>3.374</td>\n",
       "    </tr>\n",
       "    <tr>\n",
       "      <th>16</th>\n",
       "      <td>3.123</td>\n",
       "    </tr>\n",
       "  </tbody>\n",
       "</table>\n",
       "</div>"
      ],
      "text/plain": [
       "        0\n",
       "3   2.473\n",
       "7   2.142\n",
       "10  3.380\n",
       "15  3.374\n",
       "16  3.123"
      ]
     },
     "execution_count": 4,
     "metadata": {},
     "output_type": "execute_result"
    }
   ],
   "source": [
    "auc_pd = auc_trans_pd.transpose()\n",
    "auc = auc_pd.as_matrix()\n",
    "auc_pd.head()"
   ]
  },
  {
   "cell_type": "code",
   "execution_count": 5,
   "metadata": {
    "collapsed": false
   },
   "outputs": [
    {
     "name": "stdout",
     "output_type": "stream",
     "text": [
      "(18543, 1)\n"
     ]
    },
    {
     "data": {
      "text/html": [
       "<div>\n",
       "<table border=\"1\" class=\"dataframe\">\n",
       "  <thead>\n",
       "    <tr style=\"text-align: right;\">\n",
       "      <th></th>\n",
       "      <th>0</th>\n",
       "    </tr>\n",
       "  </thead>\n",
       "  <tbody>\n",
       "    <tr>\n",
       "      <th>0</th>\n",
       "      <td>100009676</td>\n",
       "    </tr>\n",
       "    <tr>\n",
       "      <th>1</th>\n",
       "      <td>10000</td>\n",
       "    </tr>\n",
       "    <tr>\n",
       "      <th>2</th>\n",
       "      <td>10001</td>\n",
       "    </tr>\n",
       "    <tr>\n",
       "      <th>3</th>\n",
       "      <td>10002</td>\n",
       "    </tr>\n",
       "    <tr>\n",
       "      <th>4</th>\n",
       "      <td>10003</td>\n",
       "    </tr>\n",
       "  </tbody>\n",
       "</table>\n",
       "</div>"
      ],
      "text/plain": [
       "           0\n",
       "0  100009676\n",
       "1      10000\n",
       "2      10001\n",
       "3      10002\n",
       "4      10003"
      ]
     },
     "execution_count": 5,
     "metadata": {},
     "output_type": "execute_result"
    }
   ],
   "source": [
    "geneexp_header_pd = pd.read_csv('datasets_498/geneexp_entrezid.csv', header = None, sep =\",\")\n",
    "geneexp_header = geneexp_header_pd.as_matrix()\n",
    "print geneexp_header_pd.shape\n",
    "geneexp_header_pd.head()"
   ]
  },
  {
   "cell_type": "code",
   "execution_count": 6,
   "metadata": {
    "collapsed": false
   },
   "outputs": [
    {
     "name": "stdout",
     "output_type": "stream",
     "text": [
      "(18543, 498)\n"
     ]
    },
    {
     "data": {
      "text/html": [
       "<div>\n",
       "<table border=\"1\" class=\"dataframe\">\n",
       "  <thead>\n",
       "    <tr style=\"text-align: right;\">\n",
       "      <th></th>\n",
       "      <th>3</th>\n",
       "      <th>7</th>\n",
       "      <th>10</th>\n",
       "      <th>15</th>\n",
       "      <th>16</th>\n",
       "      <th>19</th>\n",
       "      <th>21</th>\n",
       "      <th>22</th>\n",
       "      <th>23</th>\n",
       "      <th>25</th>\n",
       "      <th>...</th>\n",
       "      <th>1271</th>\n",
       "      <th>1273</th>\n",
       "      <th>1278</th>\n",
       "      <th>1279</th>\n",
       "      <th>1280</th>\n",
       "      <th>1281</th>\n",
       "      <th>1282</th>\n",
       "      <th>1283</th>\n",
       "      <th>1285</th>\n",
       "      <th>1286</th>\n",
       "    </tr>\n",
       "  </thead>\n",
       "  <tbody>\n",
       "    <tr>\n",
       "      <th>100009676</th>\n",
       "      <td>5.979812</td>\n",
       "      <td>6.079415</td>\n",
       "      <td>5.373842</td>\n",
       "      <td>6.025009</td>\n",
       "      <td>5.444892</td>\n",
       "      <td>5.838828</td>\n",
       "      <td>6.044784</td>\n",
       "      <td>6.110702</td>\n",
       "      <td>5.957453</td>\n",
       "      <td>5.353808</td>\n",
       "      <td>...</td>\n",
       "      <td>5.914540</td>\n",
       "      <td>5.449070</td>\n",
       "      <td>5.509434</td>\n",
       "      <td>6.467376</td>\n",
       "      <td>5.225789</td>\n",
       "      <td>5.056441</td>\n",
       "      <td>5.648520</td>\n",
       "      <td>5.431827</td>\n",
       "      <td>5.229068</td>\n",
       "      <td>5.173519</td>\n",
       "    </tr>\n",
       "    <tr>\n",
       "      <th>10000</th>\n",
       "      <td>6.595651</td>\n",
       "      <td>4.521625</td>\n",
       "      <td>6.631749</td>\n",
       "      <td>7.510764</td>\n",
       "      <td>7.544216</td>\n",
       "      <td>7.328450</td>\n",
       "      <td>8.240295</td>\n",
       "      <td>7.339923</td>\n",
       "      <td>7.133862</td>\n",
       "      <td>8.464749</td>\n",
       "      <td>...</td>\n",
       "      <td>8.165614</td>\n",
       "      <td>7.180522</td>\n",
       "      <td>5.359294</td>\n",
       "      <td>6.755762</td>\n",
       "      <td>6.430797</td>\n",
       "      <td>6.566739</td>\n",
       "      <td>6.907085</td>\n",
       "      <td>6.997253</td>\n",
       "      <td>5.847498</td>\n",
       "      <td>4.367224</td>\n",
       "    </tr>\n",
       "    <tr>\n",
       "      <th>10001</th>\n",
       "      <td>9.663415</td>\n",
       "      <td>8.845639</td>\n",
       "      <td>10.001350</td>\n",
       "      <td>9.289334</td>\n",
       "      <td>8.715909</td>\n",
       "      <td>8.410834</td>\n",
       "      <td>9.613478</td>\n",
       "      <td>9.227492</td>\n",
       "      <td>8.561879</td>\n",
       "      <td>8.308694</td>\n",
       "      <td>...</td>\n",
       "      <td>8.862251</td>\n",
       "      <td>8.676574</td>\n",
       "      <td>9.098502</td>\n",
       "      <td>9.503690</td>\n",
       "      <td>9.022547</td>\n",
       "      <td>9.840038</td>\n",
       "      <td>9.083045</td>\n",
       "      <td>8.351265</td>\n",
       "      <td>9.277778</td>\n",
       "      <td>9.036209</td>\n",
       "    </tr>\n",
       "    <tr>\n",
       "      <th>10002</th>\n",
       "      <td>4.040661</td>\n",
       "      <td>3.768181</td>\n",
       "      <td>3.610522</td>\n",
       "      <td>3.685390</td>\n",
       "      <td>4.173643</td>\n",
       "      <td>3.776557</td>\n",
       "      <td>4.021159</td>\n",
       "      <td>3.547729</td>\n",
       "      <td>3.898854</td>\n",
       "      <td>3.589157</td>\n",
       "      <td>...</td>\n",
       "      <td>3.709869</td>\n",
       "      <td>3.704990</td>\n",
       "      <td>4.277868</td>\n",
       "      <td>4.014417</td>\n",
       "      <td>4.223398</td>\n",
       "      <td>3.986096</td>\n",
       "      <td>4.068887</td>\n",
       "      <td>3.556416</td>\n",
       "      <td>4.645180</td>\n",
       "      <td>4.055940</td>\n",
       "    </tr>\n",
       "    <tr>\n",
       "      <th>10003</th>\n",
       "      <td>4.159523</td>\n",
       "      <td>4.044822</td>\n",
       "      <td>4.242035</td>\n",
       "      <td>3.656942</td>\n",
       "      <td>3.663081</td>\n",
       "      <td>4.047007</td>\n",
       "      <td>4.597602</td>\n",
       "      <td>4.252498</td>\n",
       "      <td>3.742255</td>\n",
       "      <td>3.612253</td>\n",
       "      <td>...</td>\n",
       "      <td>3.764959</td>\n",
       "      <td>4.515754</td>\n",
       "      <td>3.751250</td>\n",
       "      <td>3.879979</td>\n",
       "      <td>3.825131</td>\n",
       "      <td>3.752928</td>\n",
       "      <td>3.977737</td>\n",
       "      <td>3.786633</td>\n",
       "      <td>3.665520</td>\n",
       "      <td>3.903062</td>\n",
       "    </tr>\n",
       "  </tbody>\n",
       "</table>\n",
       "<p>5 rows × 498 columns</p>\n",
       "</div>"
      ],
      "text/plain": [
       "               3         7          10        15        16        19    \\\n",
       "100009676  5.979812  6.079415   5.373842  6.025009  5.444892  5.838828   \n",
       "10000      6.595651  4.521625   6.631749  7.510764  7.544216  7.328450   \n",
       "10001      9.663415  8.845639  10.001350  9.289334  8.715909  8.410834   \n",
       "10002      4.040661  3.768181   3.610522  3.685390  4.173643  3.776557   \n",
       "10003      4.159523  4.044822   4.242035  3.656942  3.663081  4.047007   \n",
       "\n",
       "               21        22        23        25      ...         1271  \\\n",
       "100009676  6.044784  6.110702  5.957453  5.353808    ...     5.914540   \n",
       "10000      8.240295  7.339923  7.133862  8.464749    ...     8.165614   \n",
       "10001      9.613478  9.227492  8.561879  8.308694    ...     8.862251   \n",
       "10002      4.021159  3.547729  3.898854  3.589157    ...     3.709869   \n",
       "10003      4.597602  4.252498  3.742255  3.612253    ...     3.764959   \n",
       "\n",
       "               1273      1278      1279      1280      1281      1282  \\\n",
       "100009676  5.449070  5.509434  6.467376  5.225789  5.056441  5.648520   \n",
       "10000      7.180522  5.359294  6.755762  6.430797  6.566739  6.907085   \n",
       "10001      8.676574  9.098502  9.503690  9.022547  9.840038  9.083045   \n",
       "10002      3.704990  4.277868  4.014417  4.223398  3.986096  4.068887   \n",
       "10003      4.515754  3.751250  3.879979  3.825131  3.752928  3.977737   \n",
       "\n",
       "               1283      1285      1286  \n",
       "100009676  5.431827  5.229068  5.173519  \n",
       "10000      6.997253  5.847498  4.367224  \n",
       "10001      8.351265  9.277778  9.036209  \n",
       "10002      3.556416  4.645180  4.055940  \n",
       "10003      3.786633  3.665520  3.903062  \n",
       "\n",
       "[5 rows x 498 columns]"
      ]
     },
     "execution_count": 6,
     "metadata": {},
     "output_type": "execute_result"
    }
   ],
   "source": [
    "geneexp_values_pd = pd.read_csv('datasets_498/geneexp_values.csv', names = ccl[0], sep =\",\")\n",
    "geneexp_values = geneexp_values_pd.as_matrix()\n",
    "print geneexp_values_pd.shape\n",
    "geneexp_values_pd.set_index(geneexp_header, inplace=True)\n",
    "geneexp_values_pd.head()"
   ]
  },
  {
   "cell_type": "code",
   "execution_count": 7,
   "metadata": {
    "collapsed": false
   },
   "outputs": [
    {
     "name": "stdout",
     "output_type": "stream",
     "text": [
      "(3235, 1)\n"
     ]
    },
    {
     "data": {
      "text/html": [
       "<div>\n",
       "<table border=\"1\" class=\"dataframe\">\n",
       "  <thead>\n",
       "    <tr style=\"text-align: right;\">\n",
       "      <th></th>\n",
       "      <th>0</th>\n",
       "    </tr>\n",
       "  </thead>\n",
       "  <tbody>\n",
       "    <tr>\n",
       "      <th>0</th>\n",
       "      <td>'AAK1_p._ANY_CODING_MUTATION'</td>\n",
       "    </tr>\n",
       "    <tr>\n",
       "      <th>1</th>\n",
       "      <td>'AAK1_p.Q541'</td>\n",
       "    </tr>\n",
       "    <tr>\n",
       "      <th>2</th>\n",
       "      <td>'AAK1_p.Q541indel2&gt;Q'</td>\n",
       "    </tr>\n",
       "    <tr>\n",
       "      <th>3</th>\n",
       "      <td>'AATK_p._ANY_CODING_MUTATION'</td>\n",
       "    </tr>\n",
       "    <tr>\n",
       "      <th>4</th>\n",
       "      <td>'ABCA3_p._ANY_CODING_MUTATION'</td>\n",
       "    </tr>\n",
       "  </tbody>\n",
       "</table>\n",
       "</div>"
      ],
      "text/plain": [
       "                                0\n",
       "0   'AAK1_p._ANY_CODING_MUTATION'\n",
       "1                   'AAK1_p.Q541'\n",
       "2           'AAK1_p.Q541indel2>Q'\n",
       "3   'AATK_p._ANY_CODING_MUTATION'\n",
       "4  'ABCA3_p._ANY_CODING_MUTATION'"
      ]
     },
     "execution_count": 7,
     "metadata": {},
     "output_type": "execute_result"
    }
   ],
   "source": [
    "mutation_header_pd = pd.read_csv('datasets_498/mutation_hugo.csv', header = None, sep = \" \")\n",
    "mutation_header = mutation_header_pd.as_matrix()\n",
    "print mutation_header_pd.shape\n",
    "mutation_header_pd.head()"
   ]
  },
  {
   "cell_type": "code",
   "execution_count": 8,
   "metadata": {
    "collapsed": false
   },
   "outputs": [
    {
     "name": "stdout",
     "output_type": "stream",
     "text": [
      "(3235, 498)\n"
     ]
    },
    {
     "data": {
      "text/html": [
       "<div>\n",
       "<table border=\"1\" class=\"dataframe\">\n",
       "  <thead>\n",
       "    <tr style=\"text-align: right;\">\n",
       "      <th></th>\n",
       "      <th>3</th>\n",
       "      <th>7</th>\n",
       "      <th>10</th>\n",
       "      <th>15</th>\n",
       "      <th>16</th>\n",
       "      <th>19</th>\n",
       "      <th>21</th>\n",
       "      <th>22</th>\n",
       "      <th>23</th>\n",
       "      <th>25</th>\n",
       "      <th>...</th>\n",
       "      <th>1271</th>\n",
       "      <th>1273</th>\n",
       "      <th>1278</th>\n",
       "      <th>1279</th>\n",
       "      <th>1280</th>\n",
       "      <th>1281</th>\n",
       "      <th>1282</th>\n",
       "      <th>1283</th>\n",
       "      <th>1285</th>\n",
       "      <th>1286</th>\n",
       "    </tr>\n",
       "  </thead>\n",
       "  <tbody>\n",
       "    <tr>\n",
       "      <th>0</th>\n",
       "      <td>1.0</td>\n",
       "      <td>1.0</td>\n",
       "      <td>0.0</td>\n",
       "      <td>0.0</td>\n",
       "      <td>0.0</td>\n",
       "      <td>0.0</td>\n",
       "      <td>1.0</td>\n",
       "      <td>0.0</td>\n",
       "      <td>1.0</td>\n",
       "      <td>0.0</td>\n",
       "      <td>...</td>\n",
       "      <td>0.0</td>\n",
       "      <td>0.0</td>\n",
       "      <td>0.0</td>\n",
       "      <td>0.0</td>\n",
       "      <td>1.0</td>\n",
       "      <td>0.0</td>\n",
       "      <td>1.0</td>\n",
       "      <td>0.0</td>\n",
       "      <td>0.0</td>\n",
       "      <td>0.0</td>\n",
       "    </tr>\n",
       "    <tr>\n",
       "      <th>1</th>\n",
       "      <td>1.0</td>\n",
       "      <td>0.0</td>\n",
       "      <td>0.0</td>\n",
       "      <td>0.0</td>\n",
       "      <td>0.0</td>\n",
       "      <td>0.0</td>\n",
       "      <td>1.0</td>\n",
       "      <td>0.0</td>\n",
       "      <td>1.0</td>\n",
       "      <td>0.0</td>\n",
       "      <td>...</td>\n",
       "      <td>0.0</td>\n",
       "      <td>0.0</td>\n",
       "      <td>0.0</td>\n",
       "      <td>0.0</td>\n",
       "      <td>1.0</td>\n",
       "      <td>0.0</td>\n",
       "      <td>1.0</td>\n",
       "      <td>0.0</td>\n",
       "      <td>0.0</td>\n",
       "      <td>0.0</td>\n",
       "    </tr>\n",
       "    <tr>\n",
       "      <th>2</th>\n",
       "      <td>1.0</td>\n",
       "      <td>0.0</td>\n",
       "      <td>0.0</td>\n",
       "      <td>0.0</td>\n",
       "      <td>0.0</td>\n",
       "      <td>0.0</td>\n",
       "      <td>1.0</td>\n",
       "      <td>0.0</td>\n",
       "      <td>1.0</td>\n",
       "      <td>0.0</td>\n",
       "      <td>...</td>\n",
       "      <td>0.0</td>\n",
       "      <td>0.0</td>\n",
       "      <td>0.0</td>\n",
       "      <td>0.0</td>\n",
       "      <td>1.0</td>\n",
       "      <td>0.0</td>\n",
       "      <td>1.0</td>\n",
       "      <td>0.0</td>\n",
       "      <td>0.0</td>\n",
       "      <td>0.0</td>\n",
       "    </tr>\n",
       "    <tr>\n",
       "      <th>3</th>\n",
       "      <td>0.0</td>\n",
       "      <td>0.0</td>\n",
       "      <td>0.0</td>\n",
       "      <td>0.0</td>\n",
       "      <td>0.0</td>\n",
       "      <td>0.0</td>\n",
       "      <td>0.0</td>\n",
       "      <td>0.0</td>\n",
       "      <td>0.0</td>\n",
       "      <td>0.0</td>\n",
       "      <td>...</td>\n",
       "      <td>0.0</td>\n",
       "      <td>0.0</td>\n",
       "      <td>0.0</td>\n",
       "      <td>0.0</td>\n",
       "      <td>0.0</td>\n",
       "      <td>0.0</td>\n",
       "      <td>0.0</td>\n",
       "      <td>0.0</td>\n",
       "      <td>0.0</td>\n",
       "      <td>0.0</td>\n",
       "    </tr>\n",
       "    <tr>\n",
       "      <th>4</th>\n",
       "      <td>0.0</td>\n",
       "      <td>0.0</td>\n",
       "      <td>0.0</td>\n",
       "      <td>0.0</td>\n",
       "      <td>1.0</td>\n",
       "      <td>0.0</td>\n",
       "      <td>0.0</td>\n",
       "      <td>0.0</td>\n",
       "      <td>0.0</td>\n",
       "      <td>0.0</td>\n",
       "      <td>...</td>\n",
       "      <td>0.0</td>\n",
       "      <td>0.0</td>\n",
       "      <td>0.0</td>\n",
       "      <td>0.0</td>\n",
       "      <td>0.0</td>\n",
       "      <td>0.0</td>\n",
       "      <td>0.0</td>\n",
       "      <td>0.0</td>\n",
       "      <td>0.0</td>\n",
       "      <td>0.0</td>\n",
       "    </tr>\n",
       "  </tbody>\n",
       "</table>\n",
       "<p>5 rows × 498 columns</p>\n",
       "</div>"
      ],
      "text/plain": [
       "   3     7     10    15    16    19    21    22    23    25    ...   1271  \\\n",
       "0   1.0   1.0   0.0   0.0   0.0   0.0   1.0   0.0   1.0   0.0  ...    0.0   \n",
       "1   1.0   0.0   0.0   0.0   0.0   0.0   1.0   0.0   1.0   0.0  ...    0.0   \n",
       "2   1.0   0.0   0.0   0.0   0.0   0.0   1.0   0.0   1.0   0.0  ...    0.0   \n",
       "3   0.0   0.0   0.0   0.0   0.0   0.0   0.0   0.0   0.0   0.0  ...    0.0   \n",
       "4   0.0   0.0   0.0   0.0   1.0   0.0   0.0   0.0   0.0   0.0  ...    0.0   \n",
       "\n",
       "   1273  1278  1279  1280  1281  1282  1283  1285  1286  \n",
       "0   0.0   0.0   0.0   1.0   0.0   1.0   0.0   0.0   0.0  \n",
       "1   0.0   0.0   0.0   1.0   0.0   1.0   0.0   0.0   0.0  \n",
       "2   0.0   0.0   0.0   1.0   0.0   1.0   0.0   0.0   0.0  \n",
       "3   0.0   0.0   0.0   0.0   0.0   0.0   0.0   0.0   0.0  \n",
       "4   0.0   0.0   0.0   0.0   0.0   0.0   0.0   0.0   0.0  \n",
       "\n",
       "[5 rows x 498 columns]"
      ]
     },
     "execution_count": 8,
     "metadata": {},
     "output_type": "execute_result"
    }
   ],
   "source": [
    "mutation_values_pd = pd.read_csv('datasets_498/mutation_value.csv', names = ccl[0], sep =\",\")\n",
    "mutation_values = mutation_values_pd.as_matrix()\n",
    "print mutation_values_pd.shape\n",
    "mutation_values_pd = mutation_values_pd.astype('float64')\n",
    "# mutation_values_pd.set_index(mutation_header, inplace=True)\n",
    "mutation_values_pd.head()"
   ]
  },
  {
   "cell_type": "code",
   "execution_count": 9,
   "metadata": {
    "collapsed": false
   },
   "outputs": [
    {
     "name": "stdout",
     "output_type": "stream",
     "text": [
      "(23174, 1)\n"
     ]
    },
    {
     "data": {
      "text/html": [
       "<div>\n",
       "<table border=\"1\" class=\"dataframe\">\n",
       "  <thead>\n",
       "    <tr style=\"text-align: right;\">\n",
       "      <th></th>\n",
       "      <th>0</th>\n",
       "    </tr>\n",
       "  </thead>\n",
       "  <tbody>\n",
       "    <tr>\n",
       "      <th>0</th>\n",
       "      <td>1</td>\n",
       "    </tr>\n",
       "    <tr>\n",
       "      <th>1</th>\n",
       "      <td>503538</td>\n",
       "    </tr>\n",
       "    <tr>\n",
       "      <th>2</th>\n",
       "      <td>29974</td>\n",
       "    </tr>\n",
       "    <tr>\n",
       "      <th>3</th>\n",
       "      <td>2</td>\n",
       "    </tr>\n",
       "    <tr>\n",
       "      <th>4</th>\n",
       "      <td>144571</td>\n",
       "    </tr>\n",
       "  </tbody>\n",
       "</table>\n",
       "</div>"
      ],
      "text/plain": [
       "        0\n",
       "0       1\n",
       "1  503538\n",
       "2   29974\n",
       "3       2\n",
       "4  144571"
      ]
     },
     "execution_count": 9,
     "metadata": {},
     "output_type": "execute_result"
    }
   ],
   "source": [
    "copynum_header_pd = pd.read_csv('datasets_498/copynum_entrezid.csv', header = None, sep =\",\")\n",
    "copynum_header = copynum_header_pd.as_matrix()\n",
    "print copynum_header_pd.shape\n",
    "copynum_header_pd.head()"
   ]
  },
  {
   "cell_type": "code",
   "execution_count": 10,
   "metadata": {
    "collapsed": false
   },
   "outputs": [
    {
     "name": "stdout",
     "output_type": "stream",
     "text": [
      "(23174, 498)\n"
     ]
    },
    {
     "data": {
      "text/html": [
       "<div>\n",
       "<table border=\"1\" class=\"dataframe\">\n",
       "  <thead>\n",
       "    <tr style=\"text-align: right;\">\n",
       "      <th></th>\n",
       "      <th>3</th>\n",
       "      <th>7</th>\n",
       "      <th>10</th>\n",
       "      <th>15</th>\n",
       "      <th>16</th>\n",
       "      <th>19</th>\n",
       "      <th>21</th>\n",
       "      <th>22</th>\n",
       "      <th>23</th>\n",
       "      <th>25</th>\n",
       "      <th>...</th>\n",
       "      <th>1271</th>\n",
       "      <th>1273</th>\n",
       "      <th>1278</th>\n",
       "      <th>1279</th>\n",
       "      <th>1280</th>\n",
       "      <th>1281</th>\n",
       "      <th>1282</th>\n",
       "      <th>1283</th>\n",
       "      <th>1285</th>\n",
       "      <th>1286</th>\n",
       "    </tr>\n",
       "  </thead>\n",
       "  <tbody>\n",
       "    <tr>\n",
       "      <th>1</th>\n",
       "      <td>-0.0324</td>\n",
       "      <td>-0.0762</td>\n",
       "      <td>0.0346</td>\n",
       "      <td>0.2934</td>\n",
       "      <td>0.0463</td>\n",
       "      <td>-0.2432</td>\n",
       "      <td>0.0985</td>\n",
       "      <td>-0.1109</td>\n",
       "      <td>0.1655</td>\n",
       "      <td>0.7457</td>\n",
       "      <td>...</td>\n",
       "      <td>-0.2609</td>\n",
       "      <td>-0.3295</td>\n",
       "      <td>-0.5956</td>\n",
       "      <td>-0.5522</td>\n",
       "      <td>-0.0281</td>\n",
       "      <td>-0.1666</td>\n",
       "      <td>0.5718</td>\n",
       "      <td>0.2424</td>\n",
       "      <td>0.1895</td>\n",
       "      <td>0.4302</td>\n",
       "    </tr>\n",
       "    <tr>\n",
       "      <th>503538</th>\n",
       "      <td>-0.0324</td>\n",
       "      <td>-0.0762</td>\n",
       "      <td>0.0346</td>\n",
       "      <td>0.2934</td>\n",
       "      <td>0.0463</td>\n",
       "      <td>-0.2432</td>\n",
       "      <td>0.0985</td>\n",
       "      <td>-0.1109</td>\n",
       "      <td>0.1655</td>\n",
       "      <td>0.7457</td>\n",
       "      <td>...</td>\n",
       "      <td>-0.2609</td>\n",
       "      <td>-0.3295</td>\n",
       "      <td>-0.5956</td>\n",
       "      <td>-0.5522</td>\n",
       "      <td>-0.0281</td>\n",
       "      <td>-0.1666</td>\n",
       "      <td>0.5718</td>\n",
       "      <td>0.2424</td>\n",
       "      <td>0.1895</td>\n",
       "      <td>0.4302</td>\n",
       "    </tr>\n",
       "    <tr>\n",
       "      <th>29974</th>\n",
       "      <td>-0.4928</td>\n",
       "      <td>-0.0025</td>\n",
       "      <td>-0.0522</td>\n",
       "      <td>-0.3050</td>\n",
       "      <td>0.0436</td>\n",
       "      <td>0.1438</td>\n",
       "      <td>-0.3561</td>\n",
       "      <td>-0.1415</td>\n",
       "      <td>-0.3390</td>\n",
       "      <td>-0.1974</td>\n",
       "      <td>...</td>\n",
       "      <td>-0.1827</td>\n",
       "      <td>-0.1941</td>\n",
       "      <td>0.2785</td>\n",
       "      <td>0.0867</td>\n",
       "      <td>0.1208</td>\n",
       "      <td>0.2966</td>\n",
       "      <td>-0.9912</td>\n",
       "      <td>-0.1204</td>\n",
       "      <td>0.0398</td>\n",
       "      <td>0.1423</td>\n",
       "    </tr>\n",
       "    <tr>\n",
       "      <th>2</th>\n",
       "      <td>-0.0657</td>\n",
       "      <td>0.4486</td>\n",
       "      <td>-0.3816</td>\n",
       "      <td>0.1603</td>\n",
       "      <td>-0.0112</td>\n",
       "      <td>0.0006</td>\n",
       "      <td>-0.1888</td>\n",
       "      <td>-0.1786</td>\n",
       "      <td>0.2086</td>\n",
       "      <td>-0.8266</td>\n",
       "      <td>...</td>\n",
       "      <td>-0.1841</td>\n",
       "      <td>-0.3723</td>\n",
       "      <td>0.4479</td>\n",
       "      <td>0.0099</td>\n",
       "      <td>0.3918</td>\n",
       "      <td>-0.1186</td>\n",
       "      <td>0.0701</td>\n",
       "      <td>-0.1141</td>\n",
       "      <td>0.9592</td>\n",
       "      <td>0.1203</td>\n",
       "    </tr>\n",
       "    <tr>\n",
       "      <th>144571</th>\n",
       "      <td>-0.0657</td>\n",
       "      <td>0.4486</td>\n",
       "      <td>-0.3816</td>\n",
       "      <td>0.1603</td>\n",
       "      <td>-0.0112</td>\n",
       "      <td>0.0006</td>\n",
       "      <td>-0.1888</td>\n",
       "      <td>-0.1786</td>\n",
       "      <td>0.2086</td>\n",
       "      <td>-0.8266</td>\n",
       "      <td>...</td>\n",
       "      <td>-0.1841</td>\n",
       "      <td>-0.3723</td>\n",
       "      <td>0.4479</td>\n",
       "      <td>0.0099</td>\n",
       "      <td>0.3918</td>\n",
       "      <td>-0.1186</td>\n",
       "      <td>0.0701</td>\n",
       "      <td>-0.1141</td>\n",
       "      <td>0.9592</td>\n",
       "      <td>0.1203</td>\n",
       "    </tr>\n",
       "  </tbody>\n",
       "</table>\n",
       "<p>5 rows × 498 columns</p>\n",
       "</div>"
      ],
      "text/plain": [
       "          3       7       10      15      16      19      21      22    \\\n",
       "1      -0.0324 -0.0762  0.0346  0.2934  0.0463 -0.2432  0.0985 -0.1109   \n",
       "503538 -0.0324 -0.0762  0.0346  0.2934  0.0463 -0.2432  0.0985 -0.1109   \n",
       "29974  -0.4928 -0.0025 -0.0522 -0.3050  0.0436  0.1438 -0.3561 -0.1415   \n",
       "2      -0.0657  0.4486 -0.3816  0.1603 -0.0112  0.0006 -0.1888 -0.1786   \n",
       "144571 -0.0657  0.4486 -0.3816  0.1603 -0.0112  0.0006 -0.1888 -0.1786   \n",
       "\n",
       "          23      25     ...      1271    1273    1278    1279    1280  \\\n",
       "1       0.1655  0.7457   ...   -0.2609 -0.3295 -0.5956 -0.5522 -0.0281   \n",
       "503538  0.1655  0.7457   ...   -0.2609 -0.3295 -0.5956 -0.5522 -0.0281   \n",
       "29974  -0.3390 -0.1974   ...   -0.1827 -0.1941  0.2785  0.0867  0.1208   \n",
       "2       0.2086 -0.8266   ...   -0.1841 -0.3723  0.4479  0.0099  0.3918   \n",
       "144571  0.2086 -0.8266   ...   -0.1841 -0.3723  0.4479  0.0099  0.3918   \n",
       "\n",
       "          1281    1282    1283    1285    1286  \n",
       "1      -0.1666  0.5718  0.2424  0.1895  0.4302  \n",
       "503538 -0.1666  0.5718  0.2424  0.1895  0.4302  \n",
       "29974   0.2966 -0.9912 -0.1204  0.0398  0.1423  \n",
       "2      -0.1186  0.0701 -0.1141  0.9592  0.1203  \n",
       "144571 -0.1186  0.0701 -0.1141  0.9592  0.1203  \n",
       "\n",
       "[5 rows x 498 columns]"
      ]
     },
     "execution_count": 10,
     "metadata": {},
     "output_type": "execute_result"
    }
   ],
   "source": [
    "copynum_values_pd = pd.read_csv('datasets_498/copynum_values.csv', names = ccl[0], sep =\",\")\n",
    "copynum_values = copynum_values_pd.as_matrix()\n",
    "print np.shape(copynum_values_pd)\n",
    "copynum_values_pd.set_index(copynum_header, inplace=True)\n",
    "copynum_values_pd.head()"
   ]
  },
  {
   "cell_type": "markdown",
   "metadata": {},
   "source": [
    "### Naive Testing"
   ]
  },
  {
   "cell_type": "markdown",
   "metadata": {},
   "source": [
    "----"
   ]
  },
  {
   "cell_type": "code",
   "execution_count": 11,
   "metadata": {
    "collapsed": false
   },
   "outputs": [
    {
     "name": "stdout",
     "output_type": "stream",
     "text": [
      "(41717, 498)\n"
     ]
    },
    {
     "data": {
      "text/html": [
       "<div>\n",
       "<table border=\"1\" class=\"dataframe\">\n",
       "  <thead>\n",
       "    <tr style=\"text-align: right;\">\n",
       "      <th></th>\n",
       "      <th>3</th>\n",
       "      <th>7</th>\n",
       "      <th>10</th>\n",
       "      <th>15</th>\n",
       "      <th>16</th>\n",
       "      <th>19</th>\n",
       "      <th>21</th>\n",
       "      <th>22</th>\n",
       "      <th>23</th>\n",
       "      <th>25</th>\n",
       "      <th>...</th>\n",
       "      <th>1271</th>\n",
       "      <th>1273</th>\n",
       "      <th>1278</th>\n",
       "      <th>1279</th>\n",
       "      <th>1280</th>\n",
       "      <th>1281</th>\n",
       "      <th>1282</th>\n",
       "      <th>1283</th>\n",
       "      <th>1285</th>\n",
       "      <th>1286</th>\n",
       "    </tr>\n",
       "  </thead>\n",
       "  <tbody>\n",
       "    <tr>\n",
       "      <th>1</th>\n",
       "      <td>-0.0324</td>\n",
       "      <td>-0.0762</td>\n",
       "      <td>0.0346</td>\n",
       "      <td>0.2934</td>\n",
       "      <td>0.0463</td>\n",
       "      <td>-0.2432</td>\n",
       "      <td>0.0985</td>\n",
       "      <td>-0.1109</td>\n",
       "      <td>0.1655</td>\n",
       "      <td>0.7457</td>\n",
       "      <td>...</td>\n",
       "      <td>-0.2609</td>\n",
       "      <td>-0.3295</td>\n",
       "      <td>-0.5956</td>\n",
       "      <td>-0.5522</td>\n",
       "      <td>-0.0281</td>\n",
       "      <td>-0.1666</td>\n",
       "      <td>0.5718</td>\n",
       "      <td>0.2424</td>\n",
       "      <td>0.1895</td>\n",
       "      <td>0.4302</td>\n",
       "    </tr>\n",
       "    <tr>\n",
       "      <th>503538</th>\n",
       "      <td>-0.0324</td>\n",
       "      <td>-0.0762</td>\n",
       "      <td>0.0346</td>\n",
       "      <td>0.2934</td>\n",
       "      <td>0.0463</td>\n",
       "      <td>-0.2432</td>\n",
       "      <td>0.0985</td>\n",
       "      <td>-0.1109</td>\n",
       "      <td>0.1655</td>\n",
       "      <td>0.7457</td>\n",
       "      <td>...</td>\n",
       "      <td>-0.2609</td>\n",
       "      <td>-0.3295</td>\n",
       "      <td>-0.5956</td>\n",
       "      <td>-0.5522</td>\n",
       "      <td>-0.0281</td>\n",
       "      <td>-0.1666</td>\n",
       "      <td>0.5718</td>\n",
       "      <td>0.2424</td>\n",
       "      <td>0.1895</td>\n",
       "      <td>0.4302</td>\n",
       "    </tr>\n",
       "    <tr>\n",
       "      <th>29974</th>\n",
       "      <td>-0.4928</td>\n",
       "      <td>-0.0025</td>\n",
       "      <td>-0.0522</td>\n",
       "      <td>-0.3050</td>\n",
       "      <td>0.0436</td>\n",
       "      <td>0.1438</td>\n",
       "      <td>-0.3561</td>\n",
       "      <td>-0.1415</td>\n",
       "      <td>-0.3390</td>\n",
       "      <td>-0.1974</td>\n",
       "      <td>...</td>\n",
       "      <td>-0.1827</td>\n",
       "      <td>-0.1941</td>\n",
       "      <td>0.2785</td>\n",
       "      <td>0.0867</td>\n",
       "      <td>0.1208</td>\n",
       "      <td>0.2966</td>\n",
       "      <td>-0.9912</td>\n",
       "      <td>-0.1204</td>\n",
       "      <td>0.0398</td>\n",
       "      <td>0.1423</td>\n",
       "    </tr>\n",
       "    <tr>\n",
       "      <th>2</th>\n",
       "      <td>-0.0657</td>\n",
       "      <td>0.4486</td>\n",
       "      <td>-0.3816</td>\n",
       "      <td>0.1603</td>\n",
       "      <td>-0.0112</td>\n",
       "      <td>0.0006</td>\n",
       "      <td>-0.1888</td>\n",
       "      <td>-0.1786</td>\n",
       "      <td>0.2086</td>\n",
       "      <td>-0.8266</td>\n",
       "      <td>...</td>\n",
       "      <td>-0.1841</td>\n",
       "      <td>-0.3723</td>\n",
       "      <td>0.4479</td>\n",
       "      <td>0.0099</td>\n",
       "      <td>0.3918</td>\n",
       "      <td>-0.1186</td>\n",
       "      <td>0.0701</td>\n",
       "      <td>-0.1141</td>\n",
       "      <td>0.9592</td>\n",
       "      <td>0.1203</td>\n",
       "    </tr>\n",
       "    <tr>\n",
       "      <th>144571</th>\n",
       "      <td>-0.0657</td>\n",
       "      <td>0.4486</td>\n",
       "      <td>-0.3816</td>\n",
       "      <td>0.1603</td>\n",
       "      <td>-0.0112</td>\n",
       "      <td>0.0006</td>\n",
       "      <td>-0.1888</td>\n",
       "      <td>-0.1786</td>\n",
       "      <td>0.2086</td>\n",
       "      <td>-0.8266</td>\n",
       "      <td>...</td>\n",
       "      <td>-0.1841</td>\n",
       "      <td>-0.3723</td>\n",
       "      <td>0.4479</td>\n",
       "      <td>0.0099</td>\n",
       "      <td>0.3918</td>\n",
       "      <td>-0.1186</td>\n",
       "      <td>0.0701</td>\n",
       "      <td>-0.1141</td>\n",
       "      <td>0.9592</td>\n",
       "      <td>0.1203</td>\n",
       "    </tr>\n",
       "  </tbody>\n",
       "</table>\n",
       "<p>5 rows × 498 columns</p>\n",
       "</div>"
      ],
      "text/plain": [
       "          3       7       10      15      16      19      21      22    \\\n",
       "1      -0.0324 -0.0762  0.0346  0.2934  0.0463 -0.2432  0.0985 -0.1109   \n",
       "503538 -0.0324 -0.0762  0.0346  0.2934  0.0463 -0.2432  0.0985 -0.1109   \n",
       "29974  -0.4928 -0.0025 -0.0522 -0.3050  0.0436  0.1438 -0.3561 -0.1415   \n",
       "2      -0.0657  0.4486 -0.3816  0.1603 -0.0112  0.0006 -0.1888 -0.1786   \n",
       "144571 -0.0657  0.4486 -0.3816  0.1603 -0.0112  0.0006 -0.1888 -0.1786   \n",
       "\n",
       "          23      25     ...      1271    1273    1278    1279    1280  \\\n",
       "1       0.1655  0.7457   ...   -0.2609 -0.3295 -0.5956 -0.5522 -0.0281   \n",
       "503538  0.1655  0.7457   ...   -0.2609 -0.3295 -0.5956 -0.5522 -0.0281   \n",
       "29974  -0.3390 -0.1974   ...   -0.1827 -0.1941  0.2785  0.0867  0.1208   \n",
       "2       0.2086 -0.8266   ...   -0.1841 -0.3723  0.4479  0.0099  0.3918   \n",
       "144571  0.2086 -0.8266   ...   -0.1841 -0.3723  0.4479  0.0099  0.3918   \n",
       "\n",
       "          1281    1282    1283    1285    1286  \n",
       "1      -0.1666  0.5718  0.2424  0.1895  0.4302  \n",
       "503538 -0.1666  0.5718  0.2424  0.1895  0.4302  \n",
       "29974   0.2966 -0.9912 -0.1204  0.0398  0.1423  \n",
       "2      -0.1186  0.0701 -0.1141  0.9592  0.1203  \n",
       "144571 -0.1186  0.0701 -0.1141  0.9592  0.1203  \n",
       "\n",
       "[5 rows x 498 columns]"
      ]
     },
     "execution_count": 11,
     "metadata": {},
     "output_type": "execute_result"
    }
   ],
   "source": [
    "exp_cn_trans_pd = pd.concat([copynum_values_pd, geneexp_values_pd])\n",
    "exp_cn_trans = exp_cn_trans_pd.as_matrix()\n",
    "print exp_cn_trans_pd.shape\n",
    "exp_cn_trans_pd.head()"
   ]
  },
  {
   "cell_type": "code",
   "execution_count": 12,
   "metadata": {
    "collapsed": true
   },
   "outputs": [],
   "source": [
    "exp_cn_pd = exp_cn_trans_pd.transpose()\n",
    "exp_cn = exp_cn_pd.as_matrix()"
   ]
  },
  {
   "cell_type": "code",
   "execution_count": 22,
   "metadata": {
    "collapsed": true
   },
   "outputs": [],
   "source": [
    "linreg = LinearRegression()\n",
    "svr_rbf = SVR(kernel = \"rbf\")\n",
    "svr_lin = SVR(kernel = \"linear\")\n",
    "rf = RandomForestRegressor()\n",
    "\n",
    "# test naive models\n",
    "def test_model (model):\n",
    "    clf = model\n",
    "    clf.fit(x_train_pca, y_train)\n",
    "    y_pred = clf.predict(x_test_pca)\n",
    "    r2 = clf.score(x_test_pca, y_test)\n",
    "    return y_pred, r2\n",
    "\n",
    "def draw_plot (ax, y_pred, title, y_score):\n",
    "    y_pred = y_pred.flatten()\n",
    "    ax.scatter(y_pred, y_test)\n",
    "    ax.plot(np.unique(y_pred), np.poly1d(np.polyfit(y_pred, y_test, 1))(np.unique(y_pred)))\n",
    "    ax.set_title(\"%s r2 accuracy: %s\" %(title, round(y_score, 3)))\n",
    "    ax.set_xlabel(\"Predicted AUC\")\n",
    "    ax.set_ylabel(\"Actual AUC\")\n",
    "    return plt"
   ]
  },
  {
   "cell_type": "code",
   "execution_count": 23,
   "metadata": {
    "collapsed": false
   },
   "outputs": [
    {
     "name": "stdout",
     "output_type": "stream",
     "text": [
      "Amount of Variance explained by each component:  [ 0.09721839  0.05087327  0.0288741   0.02571524  0.02219551  0.01830684\n",
      "  0.01751177  0.01514748  0.01359785  0.01199543  0.01136526  0.01068635\n",
      "  0.01011804  0.00974531  0.00964194  0.00884243  0.00877468  0.00852567\n",
      "  0.00827958  0.00789453  0.0076154   0.00752317  0.00727128  0.00686639\n",
      "  0.00675201  0.00643069  0.00631952  0.00604687  0.00595625  0.00581129\n",
      "  0.00573958  0.00544585  0.00533574  0.00524581  0.00517916  0.00510925\n",
      "  0.0049645   0.00488838  0.00475669  0.00458428  0.00451695  0.00448536\n",
      "  0.00436748  0.00433073  0.00419762  0.0040563   0.00401604  0.00388138\n",
      "  0.003803    0.00380232]\n",
      "Total Variance Captured 0.554608974855\n"
     ]
    }
   ],
   "source": [
    "x_train, x_test, y_train, y_test = train_test_split(exp_cn, auc, test_size=0.2, random_state=42)\n",
    "y_test = y_test.flatten()\n",
    "y_train = y_train.flatten()\n",
    "pca = PCA(n_components=50)\n",
    "pca.fit(x_train)    \n",
    "x_train_pca = pca.transform(x_train)\n",
    "x_test_pca = pca.transform(x_test)\n",
    "print \"Amount of Variance explained by each component: \", pca.explained_variance_ratio_\n",
    "print \"Total Variance Captured\", np.sum(pca.explained_variance_ratio_)"
   ]
  },
  {
   "cell_type": "code",
   "execution_count": 25,
   "metadata": {
    "collapsed": false
   },
   "outputs": [
    {
     "data": {
      "image/png": "[encoded data removed]",
      "text/plain": [
       "<matplotlib.figure.Figure at 0x119f2b890>"
      ]
     },
     "metadata": {},
     "output_type": "display_data"
    }
   ],
   "source": [
    "# calculated r_2 values\n",
    "y_pred_linreg_PCA, r2_linreg_PCA = test_model (linreg)\n",
    "y_pred_svr_rbf_PCA, r2_svr_rbf_PCA = test_model (svr_rbf)\n",
    "y_pred_svr_lin_PCA, r2_svr_lin_PCA = test_model (svr_lin)\n",
    "y_pred_rf_PCA, r2_rf_PCA = test_model (rf)\n",
    "# y_pred_lasso_PCA, r2_lasso_PCA = test_model (lasso)\n",
    "# y_pred_net_PCA, r2_net_PCA = test_model (net)\n",
    "\n",
    "fig_all, ax = plt.subplots(2, 2, figsize=(15, 10))\n",
    "ax[0,0] = draw_plot (ax[0,0], y_pred_linreg_PCA, \"Linear Regression\", r2_linreg_PCA)\n",
    "ax[0,1] = draw_plot (ax[0,1], y_pred_svr_rbf_PCA, \"SVR RBF\", r2_svr_rbf_PCA)\n",
    "ax[1,0] = draw_plot (ax[1,0], y_pred_svr_lin_PCA, \"SVR Lin\", r2_svr_lin_PCA)\n",
    "ax[1,1] = draw_plot (ax[1,1], y_pred_rf_PCA, \"Random Forest\", r2_rf_PCA)\n",
    "# ax[1,1] = draw_plot (ax[1,1], y_pred_lasso_PCA, \"Lasso\", r2_lasso_PCA)\n",
    "# ax[1,2] = draw_plot (ax[1,2], y_pred_net_PCA, \"Elastic Net\", r2_net_PCA)"
   ]
  },
  {
   "cell_type": "code",
   "execution_count": 16,
   "metadata": {
    "collapsed": true
   },
   "outputs": [],
   "source": [
    "x_train, x_test, y_train, y_test = train_test_split(exp_cn, auc, test_size=0.2, random_state=42)\n",
    "y_test = y_test.flatten()\n",
    "y_train = y_train.flatten()"
   ]
  },
  {
   "cell_type": "code",
   "execution_count": 17,
   "metadata": {
    "collapsed": false
   },
   "outputs": [
    {
     "data": {
      "image/png": "[encoded data removed]",
      "text/plain": [
       "<matplotlib.figure.Figure at 0x10e5815d0>"
      ]
     },
     "metadata": {},
     "output_type": "display_data"
    }
   ],
   "source": [
    "# calculated r_2 values\n",
    "y_pred_linreg_PCA, r2_linreg_PCA = test_model (linreg)\n",
    "y_pred_svr_rbf_PCA, r2_svr_rbf_PCA = test_model (svr_rbf)\n",
    "y_pred_svr_lin_PCA, r2_svr_lin_PCA = test_model (svr_lin)\n",
    "y_pred_rf_PCA, r2_rf_PCA = test_model (rf)\n",
    "# y_pred_lasso_PCA, r2_lasso_PCA = test_model (lasso)\n",
    "# y_pred_net_PCA, r2_net_PCA = test_model (net)\n",
    "\n",
    "fig_all, ax = plt.subplots(2, 2, figsize=(20, 10))\n",
    "ax[0,0] = draw_plot (ax[0,0], y_pred_linreg_PCA, \"Linear Regression\", r2_linreg_PCA)\n",
    "ax[0,1] = draw_plot (ax[0,1], y_pred_svr_rbf_PCA, \"SVR RBF\", r2_svr_rbf_PCA)\n",
    "ax[0,2] = draw_plot (ax[0,2], y_pred_svr_lin_PCA, \"SVR Lin\", r2_svr_lin_PCA)\n",
    "ax[1,0] = draw_plot (ax[1,0], y_pred_rf_PCA, \"Random Forest\", r2_rf_PCA)\n",
    "# ax[1,1] = draw_plot (ax[1,1], y_pred_lasso_PCA, \"Lasso\", r2_lasso_PCA)\n",
    "# ax[1,2] = draw_plot (ax[1,2], y_pred_net_PCA, \"Elastic Net\", r2_net_PCA)"
   ]
  },
  {
   "cell_type": "markdown",
   "metadata": {
    "collapsed": true
   },
   "source": [
    "### Timo's Algorithm"
   ]
  },
  {
   "cell_type": "markdown",
   "metadata": {},
   "source": [
    "---"
   ]
  },
  {
   "cell_type": "code",
   "execution_count": 298,
   "metadata": {
    "collapsed": true
   },
   "outputs": [],
   "source": [
    "param_lst = {\"rf\": {\"n_estimators\": range(1, 5)}, \n",
    "             \"svr_rbf\": {\"C\": [1, 10, 100, 1000], \"gamma\": [10**(-2), 10**(-1)]}, \n",
    "             \"svr_lin\": {\"C\": [1, 10, 100, 1000], \"gamma\": [10**(-2), 10**(-1)]}}\n",
    "algo_lst = [\"rf\", \"svr_rbf\", \"svr_lin\"]"
   ]
  },
  {
   "cell_type": "code",
   "execution_count": 308,
   "metadata": {
    "collapsed": false
   },
   "outputs": [
    {
     "name": "stdout",
     "output_type": "stream",
     "text": [
      "rf [-0.56397107 -0.30225357 -0.18812884 -0.02876075]\n",
      "svr_rbf [-0.00769026 -0.00769026 -0.01044155 -0.01044155 -0.01044155 -0.01044155\n",
      " -0.01044155 -0.01044155]\n",
      "svr_lin [ 0.13247526  0.13247526  0.13247526  0.13247526  0.13247526  0.13247526\n",
      "  0.13247526  0.13247526]\n"
     ]
    }
   ],
   "source": [
    "for algo in algo_lst:\n",
    "    if algo == \"rf\":\n",
    "        clf = RandomForestRegressor()\n",
    "    if algo == \"svr_rbf\":\n",
    "        clf = SVR(kernel = \"rbf\")\n",
    "    if algo == \"svr_lin\":\n",
    "        clf = SVR(kernel = \"linear\")\n",
    "    grid = GridSearchCV(clf, param_grid=param_lst[algo], cv=2)\n",
    "    grid.fit(in_x_train, in_y_train)\n",
    "    results = grid.cv_results_\n",
    "    best_fit = np.argmax(results.get(\"mean_test_score\"))\n",
    "    r2 = results.get(\"mean_test_score\")\n",
    "    get_params = results.get(\"params\")[best_fit]\n",
    "    param_inner[algo].append([get_params])\n",
    "    score_inner[algo].append([r2])\n",
    "    print algo, r2"
   ]
  },
  {
   "cell_type": "code",
   "execution_count": 317,
   "metadata": {
    "collapsed": false
   },
   "outputs": [
    {
     "name": "stdout",
     "output_type": "stream",
     "text": [
      "{'rf': [-0.27077855843037291], 'svr_rbf': [-0.0097537307393228134], 'svr_lin': [0.13247526289554559]}\n"
     ]
    }
   ],
   "source": [
    "for algo in algo_lst:\n",
    "    score_outer[algo] = list(map(lambda x: np.mean(x), score_inner[algo]))\n",
    "print score_outer"
   ]
  },
  {
   "cell_type": "code",
   "execution_count": 321,
   "metadata": {
    "collapsed": false
   },
   "outputs": [
    {
     "name": "stdout",
     "output_type": "stream",
     "text": [
      "0\n",
      "[{'n_estimators': 4}]\n",
      "{'rf': [{'n_estimators': 4}], 'svr_rbf': [], 'svr_lin': []}\n",
      "0\n",
      "[{'C': 1, 'gamma': 0.01}]\n",
      "{'rf': [{'n_estimators': 4}], 'svr_rbf': [{'C': 1, 'gamma': 0.01}], 'svr_lin': []}\n",
      "0\n",
      "[{'C': 1, 'gamma': 0.01}]\n",
      "{'rf': [{'n_estimators': 4}], 'svr_rbf': [{'C': 1, 'gamma': 0.01}], 'svr_lin': [{'C': 1, 'gamma': 0.01}]}\n"
     ]
    }
   ],
   "source": [
    "for algo in algo_lst:\n",
    "        best_case = np.argmax(score_outer[algo])\n",
    "        print best_case\n",
    "        print param_inner[algo][0]\n",
    "        param_outer[algo] = list(map(lambda x: x, param_inner[algo][best_case]))\n",
    "        print param_outer\n",
    "        if algo == \"rf\":\n",
    "            clf = RandomForestRegressor(n_estimators = param_outer[algo][0][\"n_estimators\"])\n",
    "        if algo == \"svr_rbf\":\n",
    "            clf = SVR(kernel = \"rbf\", C = param_outer[algo][0][\"C\"], gamma = param_outer[algo][0][\"gamma\"])\n",
    "        if algo == \"svr_lin\":\n",
    "            clf = SVR(kernel = \"linear\", C = param_outer[algo][0][\"C\"], gamma = param_outer[algo][0][\"gamma\"])\n",
    "        clf.fit(out_x_train, out_y_train)\n",
    "        r2 = clf.score(out_x_test, out_y_test)\n",
    "        if algo == \"rf\":\n",
    "            r2_rf.append(r2)\n",
    "        if algo == \"svr_rbf\":\n",
    "            r2_svr_rbf.append(r2)\n",
    "        if algo == \"svr_lin\":\n",
    "            r2_svr_lin.append(r2)"
   ]
  },
  {
   "cell_type": "code",
   "execution_count": 274,
   "metadata": {
    "collapsed": false
   },
   "outputs": [
    {
     "name": "stdout",
     "output_type": "stream",
     "text": [
      "rf {'n_estimators': 4} 0.0808996001031\n",
      "svr_rbf {'C': 10, 'gamma': 0.01} -0.0491774566818\n",
      "svr_lin {'C': 1, 'gamma': 0.01} 0.104139015846\n"
     ]
    }
   ],
   "source": [
    "for algo in algo_lst:\n",
    "    best_case = np.argmax(score_outer[algo])\n",
    "    param_outer[algo] = list(map(lambda x: x, param_inner[str(algo)][best_case]))\n",
    "    if algo == \"rf\":\n",
    "        clf = RandomForestRegressor(n_estimators = param_outer[algo][0][\"n_estimators\"])\n",
    "    if algo == \"svr_rbf\":\n",
    "        clf = SVR(kernel = \"rbf\", C = param_outer[algo][0][\"C\"], gamma = param_outer[algo][0][\"gamma\"])\n",
    "    if algo == \"svr_lin\":\n",
    "        clf = SVR(kernel = \"linear\", C = param_outer[algo][0][\"C\"], gamma = param_outer[algo][0][\"gamma\"])\n",
    "    clf.fit(out_x_train, out_y_train)\n",
    "    r2 = clf.score(out_x_test, out_y_test)\n",
    "    print algo, param_outer[algo][best_case], r2"
   ]
  },
  {
   "cell_type": "code",
   "execution_count": null,
   "metadata": {
    "collapsed": false,
    "scrolled": false
   },
   "outputs": [
    {
     "name": "stdout",
     "output_type": "stream",
     "text": [
      "rf [-0.92537058 -0.30905494 -0.26089323 -0.12837605]\n",
      "svr_rbf [-0.06435575 -0.06435575 -0.06290631 -0.06290631 -0.06290631 -0.06290631\n",
      " -0.06290631 -0.06290631]\n",
      "svr_lin [ 0.10273321  0.10273321  0.10273321  0.10273321  0.10273321  0.10273321\n",
      "  0.10273321  0.10273321]\n",
      "rf [-0.98779177 -0.37079928 -0.05086113 -0.09452305]\n",
      "svr_rbf [-0.06435575 -0.06435575 -0.06290631 -0.06290631 -0.06290631 -0.06290631\n",
      " -0.06290631 -0.06290631]\n",
      "svr_lin [ 0.10273321  0.10273321  0.10273321  0.10273321  0.10273321  0.10273321\n",
      "  0.10273321  0.10273321]\n",
      "{'rf': [-0.40592369676591555, -0.37599380807909821], 'svr_rbf': [-0.063268672184990687, -0.063268672184990687], 'svr_lin': [0.10273321073676014, 0.10273321073676014]}\n",
      "{'rf': [{'n_estimators': 3}], 'svr_rbf': [], 'svr_lin': []}\n",
      "{'rf': [{'n_estimators': 3}], 'svr_rbf': [{'C': 10, 'gamma': 0.01}], 'svr_lin': []}\n",
      "{'rf': [{'n_estimators': 3}], 'svr_rbf': [{'C': 10, 'gamma': 0.01}], 'svr_lin': [{'C': 1, 'gamma': 0.01}]}\n",
      "rf [-0.63841004 -0.4241823  -0.18842143 -0.11988607]\n",
      "svr_rbf [-0.06435575 -0.06435575 -0.06290631 -0.06290631 -0.06290631 -0.06290631\n",
      " -0.06290631 -0.06290631]\n",
      "svr_lin [ 0.10273321  0.10273321  0.10273321  0.10273321  0.10273321  0.10273321\n",
      "  0.10273321  0.10273321]\n",
      "rf [-0.82973124 -0.29346487 -0.16556417 -0.12116124]\n",
      "svr_rbf [-0.06435575 -0.06435575 -0.06290631 -0.06290631 -0.06290631 -0.06290631\n",
      " -0.06290631 -0.06290631]\n"
     ]
    }
   ],
   "source": [
    "num_trials = 2\n",
    "r2_rf, r2_svr_rbf, r2_svr_lin = [], [], []\n",
    "for outerMCCV in range(num_trials):\n",
    "    out_x_train, out_x_test, out_y_train, out_y_test = train_test_split(exp_cn, auc, test_size=0.2, random_state=42)\n",
    "    out_y_train = out_y_train.flatten()\n",
    "    out_y_test = out_y_test.flatten()\n",
    "    param_outer, score_outer = {\"rf\": [], \"svr_rbf\": [], \"svr_lin\": []}, {\"rf\": [], \"svr_rbf\": [], \"svr_lin\": []}\n",
    "    param_inner, score_inner = {\"rf\": [], \"svr_rbf\": [], \"svr_lin\": []}, {\"rf\": [], \"svr_rbf\": [], \"svr_lin\": []}\n",
    "    for innerMCCV in range(num_trials):\n",
    "        for algo in algo_lst:\n",
    "            if algo == \"rf\":\n",
    "                clf = RandomForestRegressor()\n",
    "            if algo == \"svr_rbf\":\n",
    "                clf = SVR(kernel = \"rbf\")\n",
    "            if algo == \"svr_lin\":\n",
    "                clf = SVR(kernel = \"linear\")\n",
    "            grid = GridSearchCV(clf, param_grid=param_lst[algo], cv=5)\n",
    "            grid.fit(in_x_train, in_y_train)\n",
    "            results = grid.cv_results_\n",
    "            best_fit = np.argmax(results.get(\"mean_test_score\"))\n",
    "            r2 = results.get(\"mean_test_score\")\n",
    "            get_params = results.get(\"params\")[best_fit]\n",
    "            param_inner[algo].append([get_params])\n",
    "            score_inner[algo].append([r2])\n",
    "            print algo, r2\n",
    "    for algo in algo_lst:\n",
    "        score_outer[algo] = list(map(lambda x: np.mean(x), score_inner[algo]))\n",
    "    print score_outer\n",
    "    for algo in algo_lst:\n",
    "        best_case = np.argmax(score_outer[algo])\n",
    "        param_outer[algo] = list(map(lambda x: x, param_inner[algo][best_case]))\n",
    "        print param_outer\n",
    "        if algo == \"rf\":\n",
    "            clf = RandomForestRegressor(n_estimators = param_outer[algo][0][\"n_estimators\"])\n",
    "        if algo == \"svr_rbf\":\n",
    "            clf = SVR(kernel = \"rbf\", C = param_outer[algo][0][\"C\"], gamma = param_outer[algo][0][\"gamma\"])\n",
    "        if algo == \"svr_lin\":\n",
    "            clf = SVR(kernel = \"linear\", C = param_outer[algo][0][\"C\"], gamma = param_outer[algo][0][\"gamma\"])\n",
    "        clf.fit(out_x_train, out_y_train)\n",
    "        r2 = clf.score(out_x_test, out_y_test)\n",
    "        if algo == \"rf\":\n",
    "            r2_rf.append(r2)\n",
    "        if algo == \"svr_rbf\":\n",
    "            r2_svr_rbf.append(r2)\n",
    "        if algo == \"svr_lin\":\n",
    "            r2_svr_lin.append(r2)\n",
    "print \"rf :\", np.average(r2_rf)\n",
    "print \"svr rbf :\", np.average(r2_svr_rbf)\n",
    "print \"svr lin :\", np.average(r2_svr_lin)"
   ]
  },
  {
   "cell_type": "code",
   "execution_count": null,
   "metadata": {
    "collapsed": true
   },
   "outputs": [],
   "source": []
  }
 ],
 "metadata": {
  "kernelspec": {
   "display_name": "Python 2",
   "language": "python",
   "name": "python2"
  },
  "language_info": {
   "codemirror_mode": {
    "name": "ipython",
    "version": 2
   },
   "file_extension": ".py",
   "mimetype": "text/x-python",
   "name": "python",
   "nbconvert_exporter": "python",
   "pygments_lexer": "ipython2",
   "version": "2.7.13"
  }
 },
 "nbformat": 4,
 "nbformat_minor": 2
}
