{
 "cells": [
  {
   "cell_type": "code",
   "execution_count": 1,
   "metadata": {
    "collapsed": false
   },
   "outputs": [
    {
     "data": {
      "text/html": [
       "<script>\n",
       "code_show=true; \n",
       "function code_toggle() {\n",
       " if (code_show){\n",
       " $('div.input').hide();\n",
       " } else {\n",
       " $('div.input').show();\n",
       " }\n",
       " code_show = !code_show\n",
       "} \n",
       "$( document ).ready(code_toggle);\n",
       "</script>\n",
       "<form action=\"javascript:code_toggle()\"><input type=\"submit\" value=\"Click here to toggle on/off the raw code.\"></form>"
      ],
      "text/plain": [
       "<IPython.core.display.HTML object>"
      ]
     },
     "execution_count": 1,
     "metadata": {},
     "output_type": "execute_result"
    }
   ],
   "source": [
    "from IPython.display import HTML\n",
    "\n",
    "HTML('''<script>\n",
    "code_show=true; \n",
    "function code_toggle() {\n",
    " if (code_show){\n",
    " $('div.input').hide();\n",
    " } else {\n",
    " $('div.input').show();\n",
    " }\n",
    " code_show = !code_show\n",
    "} \n",
    "$( document ).ready(code_toggle);\n",
    "</script>\n",
    "<form action=\"javascript:code_toggle()\"><input type=\"submit\" value=\"Click here to toggle on/off the raw code.\"></form>''')"
   ]
  },
  {
   "cell_type": "markdown",
   "metadata": {},
   "source": [
    "<h1 align=\"center\"> Somewhat Informed </h1>\n",
    "<h3 align=\"center\"> Christine Zhang </h3>"
   ]
  },
  {
   "cell_type": "markdown",
   "metadata": {},
   "source": [
    "---"
   ]
  },
  {
   "cell_type": "code",
   "execution_count": 1,
   "metadata": {
    "collapsed": true
   },
   "outputs": [],
   "source": [
    "import numpy as np\n",
    "import pandas as pd\n",
    "import scipy as sp\n",
    "import pickle\n",
    "from sklearn import preprocessing\n",
    "from sklearn.linear_model import LinearRegression\n",
    "from sklearn.ensemble import RandomForestRegressor\n",
    "from sklearn import linear_model\n",
    "from sklearn.model_selection import train_test_split\n",
    "from sklearn.svm import SVR\n",
    "import matplotlib.pyplot as plt\n",
    "from sklearn.decomposition import PCA\n",
    "%matplotlib inline"
   ]
  },
  {
   "cell_type": "markdown",
   "metadata": {},
   "source": [
    "### Lung One-Hot"
   ]
  },
  {
   "cell_type": "markdown",
   "metadata": {},
   "source": [
    "---"
   ]
  },
  {
   "cell_type": "code",
   "execution_count": 2,
   "metadata": {
    "collapsed": false
   },
   "outputs": [
    {
     "data": {
      "text/plain": [
       "41              non_small_cell_carcinoma\n",
       "46               squamous_cell_carcinoma\n",
       "47                        adenocarcinoma\n",
       "55                                    NS\n",
       "61                  small_cell_carcinoma\n",
       "114        mixed_adenosquamous_carcinoma\n",
       "117                 large_cell_carcinoma\n",
       "289    bronchioloalveolar_adenocarcinoma\n",
       "319             mucoepidermoid_carcinoma\n",
       "Name: Subhistology, dtype: object"
      ]
     },
     "execution_count": 2,
     "metadata": {},
     "output_type": "execute_result"
    }
   ],
   "source": [
    "auc_pd = pd.read_csv('dataset1.csv', skiprows = [0,1], sep =\",\", \n",
    "                          names = [\"Cclid\", \"Cellline\", \"Sites\", \"Histology\", \"Subhistology\", \"Culture\", \"SNP\", \"AUC\"])\n",
    "auc = auc_pd.as_matrix()\n",
    "auc_pd[auc_pd[\"Sites\"]==\"lung\"][\"Subhistology\"].drop_duplicates()"
   ]
  },
  {
   "cell_type": "code",
   "execution_count": 3,
   "metadata": {
    "collapsed": false
   },
   "outputs": [
    {
     "data": {
      "text/html": [
       "<div>\n",
       "<table border=\"1\" class=\"dataframe\">\n",
       "  <thead>\n",
       "    <tr style=\"text-align: right;\">\n",
       "      <th></th>\n",
       "      <th>Cclid</th>\n",
       "      <th>Cellline</th>\n",
       "      <th>Sites</th>\n",
       "      <th>Histology</th>\n",
       "      <th>Subhistology</th>\n",
       "      <th>Culture</th>\n",
       "      <th>SNP</th>\n",
       "      <th>AUC</th>\n",
       "    </tr>\n",
       "  </thead>\n",
       "  <tbody>\n",
       "    <tr>\n",
       "      <th>0</th>\n",
       "      <td>3</td>\n",
       "      <td>5637</td>\n",
       "      <td>urinary_tract</td>\n",
       "      <td>carcinoma</td>\n",
       "      <td>NS</td>\n",
       "      <td>RPMI001</td>\n",
       "      <td>SNP-matched-reference</td>\n",
       "      <td>2.473</td>\n",
       "    </tr>\n",
       "    <tr>\n",
       "      <th>1</th>\n",
       "      <td>7</td>\n",
       "      <td>22RV1</td>\n",
       "      <td>prostate</td>\n",
       "      <td>carcinoma</td>\n",
       "      <td>NS</td>\n",
       "      <td>RPMI001</td>\n",
       "      <td>SNP-matched-reference</td>\n",
       "      <td>2.142</td>\n",
       "    </tr>\n",
       "    <tr>\n",
       "      <th>2</th>\n",
       "      <td>10</td>\n",
       "      <td>42MGBA</td>\n",
       "      <td>central_nervous_system</td>\n",
       "      <td>glioma</td>\n",
       "      <td>astrocytoma_Grade_IV</td>\n",
       "      <td>RPMIMEM001</td>\n",
       "      <td>SNP-matched-reference</td>\n",
       "      <td>3.380</td>\n",
       "    </tr>\n",
       "    <tr>\n",
       "      <th>3</th>\n",
       "      <td>15</td>\n",
       "      <td>647V</td>\n",
       "      <td>urinary_tract</td>\n",
       "      <td>carcinoma</td>\n",
       "      <td>transitional_cell_carcinoma</td>\n",
       "      <td>DMEM011</td>\n",
       "      <td>SNP-matched-reference</td>\n",
       "      <td>3.374</td>\n",
       "    </tr>\n",
       "    <tr>\n",
       "      <th>4</th>\n",
       "      <td>16</td>\n",
       "      <td>769P</td>\n",
       "      <td>kidney</td>\n",
       "      <td>carcinoma</td>\n",
       "      <td>clear_cell_renal_cell_carcinoma</td>\n",
       "      <td>RPMI001</td>\n",
       "      <td>SNP-matched-reference</td>\n",
       "      <td>3.123</td>\n",
       "    </tr>\n",
       "  </tbody>\n",
       "</table>\n",
       "</div>"
      ],
      "text/plain": [
       "   Cclid Cellline                   Sites  Histology  \\\n",
       "0      3     5637           urinary_tract  carcinoma   \n",
       "1      7    22RV1                prostate  carcinoma   \n",
       "2     10   42MGBA  central_nervous_system     glioma   \n",
       "3     15     647V           urinary_tract  carcinoma   \n",
       "4     16     769P                  kidney  carcinoma   \n",
       "\n",
       "                      Subhistology     Culture                    SNP    AUC  \n",
       "0                               NS     RPMI001  SNP-matched-reference  2.473  \n",
       "1                               NS     RPMI001  SNP-matched-reference  2.142  \n",
       "2             astrocytoma_Grade_IV  RPMIMEM001  SNP-matched-reference  3.380  \n",
       "3      transitional_cell_carcinoma     DMEM011  SNP-matched-reference  3.374  \n",
       "4  clear_cell_renal_cell_carcinoma     RPMI001  SNP-matched-reference  3.123  "
      ]
     },
     "execution_count": 3,
     "metadata": {},
     "output_type": "execute_result"
    }
   ],
   "source": [
    "for index, row in auc_pd.iterrows():\n",
    "    if auc_pd.loc[index,\"Sites\"] == \"lung\":\n",
    "        if auc_pd.loc[index,\"Subhistology\"] == \"bronchioloalveolar_adenocarcinoma\" or auc_pd.loc[index,\"Subhistology\"] == \"mixed_adenosquamous_carcinoma\":\n",
    "            auc_pd.loc[index,\"Sites\"] = \"adenocarcinoma\"\n",
    "        elif auc_pd.loc[index,\"Subhistology\"] == \"mucoepidermoid_carcinoma\":\n",
    "            auc_pd.loc[index,\"Sites\"] = \"squamous_cell_carcinoma\"\n",
    "        else:\n",
    "            auc_pd.loc[index,\"Sites\"] = auc_pd.loc[index,\"Subhistology\"]\n",
    "auc_pd.head()"
   ]
  },
  {
   "cell_type": "code",
   "execution_count": 4,
   "metadata": {
    "collapsed": false
   },
   "outputs": [
    {
     "name": "stdout",
     "output_type": "stream",
     "text": [
      "(472, 24704)\n"
     ]
    },
    {
     "data": {
      "text/html": [
       "<div>\n",
       "<table border=\"1\" class=\"dataframe\">\n",
       "  <thead>\n",
       "    <tr style=\"text-align: right;\">\n",
       "      <th>Entrez_id</th>\n",
       "      <th>1.0</th>\n",
       "      <th>503538.0</th>\n",
       "      <th>29974.0</th>\n",
       "      <th>2.0</th>\n",
       "      <th>144571.0</th>\n",
       "      <th>144568.0</th>\n",
       "      <th>3.0</th>\n",
       "      <th>53947.0</th>\n",
       "      <th>51146.0</th>\n",
       "      <th>100506677.0</th>\n",
       "      <th>...</th>\n",
       "      <th>6608.0</th>\n",
       "      <th>8522.0</th>\n",
       "      <th>2885.0</th>\n",
       "      <th>2161.0</th>\n",
       "      <th>27255.0</th>\n",
       "      <th>23072.0</th>\n",
       "      <th>6725.0</th>\n",
       "      <th>9149.0</th>\n",
       "      <th>6241.0</th>\n",
       "      <th>8301.0</th>\n",
       "    </tr>\n",
       "  </thead>\n",
       "  <tbody>\n",
       "    <tr>\n",
       "      <th>3</th>\n",
       "      <td>-0.0324</td>\n",
       "      <td>-0.0324</td>\n",
       "      <td>-0.4928</td>\n",
       "      <td>-0.0657</td>\n",
       "      <td>-0.0657</td>\n",
       "      <td>-0.0657</td>\n",
       "      <td>-0.0657</td>\n",
       "      <td>-0.0390</td>\n",
       "      <td>0.0518</td>\n",
       "      <td>0.4291</td>\n",
       "      <td>...</td>\n",
       "      <td>0.0</td>\n",
       "      <td>0.0</td>\n",
       "      <td>0.0</td>\n",
       "      <td>0.0</td>\n",
       "      <td>0.0</td>\n",
       "      <td>0.0</td>\n",
       "      <td>0.0</td>\n",
       "      <td>0.0</td>\n",
       "      <td>0.0</td>\n",
       "      <td>0.0</td>\n",
       "    </tr>\n",
       "    <tr>\n",
       "      <th>7</th>\n",
       "      <td>-0.0762</td>\n",
       "      <td>-0.0762</td>\n",
       "      <td>-0.0025</td>\n",
       "      <td>0.4486</td>\n",
       "      <td>0.4486</td>\n",
       "      <td>0.4486</td>\n",
       "      <td>0.4486</td>\n",
       "      <td>-0.0574</td>\n",
       "      <td>-0.0303</td>\n",
       "      <td>-0.0712</td>\n",
       "      <td>...</td>\n",
       "      <td>0.0</td>\n",
       "      <td>0.0</td>\n",
       "      <td>0.0</td>\n",
       "      <td>0.0</td>\n",
       "      <td>0.0</td>\n",
       "      <td>0.0</td>\n",
       "      <td>0.0</td>\n",
       "      <td>0.0</td>\n",
       "      <td>0.0</td>\n",
       "      <td>0.0</td>\n",
       "    </tr>\n",
       "    <tr>\n",
       "      <th>10</th>\n",
       "      <td>0.0346</td>\n",
       "      <td>0.0346</td>\n",
       "      <td>-0.0522</td>\n",
       "      <td>-0.3816</td>\n",
       "      <td>-0.3816</td>\n",
       "      <td>-0.3816</td>\n",
       "      <td>-0.3816</td>\n",
       "      <td>-0.0155</td>\n",
       "      <td>-0.2675</td>\n",
       "      <td>-0.7758</td>\n",
       "      <td>...</td>\n",
       "      <td>0.0</td>\n",
       "      <td>0.0</td>\n",
       "      <td>0.0</td>\n",
       "      <td>0.0</td>\n",
       "      <td>0.0</td>\n",
       "      <td>0.0</td>\n",
       "      <td>0.0</td>\n",
       "      <td>0.0</td>\n",
       "      <td>0.0</td>\n",
       "      <td>0.0</td>\n",
       "    </tr>\n",
       "    <tr>\n",
       "      <th>15</th>\n",
       "      <td>0.2934</td>\n",
       "      <td>0.2934</td>\n",
       "      <td>-0.3050</td>\n",
       "      <td>0.1603</td>\n",
       "      <td>0.1603</td>\n",
       "      <td>0.1603</td>\n",
       "      <td>0.1603</td>\n",
       "      <td>-0.2881</td>\n",
       "      <td>0.2831</td>\n",
       "      <td>0.0613</td>\n",
       "      <td>...</td>\n",
       "      <td>0.0</td>\n",
       "      <td>0.0</td>\n",
       "      <td>0.0</td>\n",
       "      <td>0.0</td>\n",
       "      <td>0.0</td>\n",
       "      <td>0.0</td>\n",
       "      <td>0.0</td>\n",
       "      <td>0.0</td>\n",
       "      <td>0.0</td>\n",
       "      <td>0.0</td>\n",
       "    </tr>\n",
       "    <tr>\n",
       "      <th>16</th>\n",
       "      <td>0.0463</td>\n",
       "      <td>0.0463</td>\n",
       "      <td>0.0436</td>\n",
       "      <td>-0.0112</td>\n",
       "      <td>-0.0112</td>\n",
       "      <td>-0.0112</td>\n",
       "      <td>-0.0112</td>\n",
       "      <td>0.0834</td>\n",
       "      <td>0.0468</td>\n",
       "      <td>0.0528</td>\n",
       "      <td>...</td>\n",
       "      <td>0.0</td>\n",
       "      <td>0.0</td>\n",
       "      <td>0.0</td>\n",
       "      <td>0.0</td>\n",
       "      <td>0.0</td>\n",
       "      <td>0.0</td>\n",
       "      <td>0.0</td>\n",
       "      <td>0.0</td>\n",
       "      <td>0.0</td>\n",
       "      <td>0.0</td>\n",
       "    </tr>\n",
       "  </tbody>\n",
       "</table>\n",
       "<p>5 rows × 24704 columns</p>\n",
       "</div>"
      ],
      "text/plain": [
       "Entrez_id  1.0          503538.0     29974.0      2.0          144571.0     \\\n",
       "3              -0.0324      -0.0324      -0.4928      -0.0657      -0.0657   \n",
       "7              -0.0762      -0.0762      -0.0025       0.4486       0.4486   \n",
       "10              0.0346       0.0346      -0.0522      -0.3816      -0.3816   \n",
       "15              0.2934       0.2934      -0.3050       0.1603       0.1603   \n",
       "16              0.0463       0.0463       0.0436      -0.0112      -0.0112   \n",
       "\n",
       "Entrez_id  144568.0     3.0          53947.0      51146.0      100506677.0  \\\n",
       "3              -0.0657      -0.0657      -0.0390       0.0518       0.4291   \n",
       "7               0.4486       0.4486      -0.0574      -0.0303      -0.0712   \n",
       "10             -0.3816      -0.3816      -0.0155      -0.2675      -0.7758   \n",
       "15              0.1603       0.1603      -0.2881       0.2831       0.0613   \n",
       "16             -0.0112      -0.0112       0.0834       0.0468       0.0528   \n",
       "\n",
       "Entrez_id     ...       6608.0       8522.0       2885.0       2161.0       \\\n",
       "3             ...               0.0          0.0          0.0          0.0   \n",
       "7             ...               0.0          0.0          0.0          0.0   \n",
       "10            ...               0.0          0.0          0.0          0.0   \n",
       "15            ...               0.0          0.0          0.0          0.0   \n",
       "16            ...               0.0          0.0          0.0          0.0   \n",
       "\n",
       "Entrez_id  27255.0      23072.0      6725.0       9149.0       6241.0       \\\n",
       "3                  0.0          0.0          0.0          0.0          0.0   \n",
       "7                  0.0          0.0          0.0          0.0          0.0   \n",
       "10                 0.0          0.0          0.0          0.0          0.0   \n",
       "15                 0.0          0.0          0.0          0.0          0.0   \n",
       "16                 0.0          0.0          0.0          0.0          0.0   \n",
       "\n",
       "Entrez_id  8301.0       \n",
       "3                  0.0  \n",
       "7                  0.0  \n",
       "10                 0.0  \n",
       "15                 0.0  \n",
       "16                 0.0  \n",
       "\n",
       "[5 rows x 24704 columns]"
      ]
     },
     "execution_count": 4,
     "metadata": {},
     "output_type": "execute_result"
    }
   ],
   "source": [
    "file_name = \"master_no_auc\"\n",
    "file_object = open(file_name,'r')  \n",
    "master_no_auc_pd = pickle.load(file_object)\n",
    "print np.shape(master_no_auc_pd)\n",
    "master_no_auc_pd.head()"
   ]
  },
  {
   "cell_type": "code",
   "execution_count": 5,
   "metadata": {
    "collapsed": true
   },
   "outputs": [],
   "source": [
    "# encode categorical variables\n",
    "def encode_categorical(array):\n",
    "    if not array.dtype == np.dtype('float64'):\n",
    "        return preprocessing.LabelEncoder().fit_transform(array) \n",
    "    else:\n",
    "        return array\n",
    "\n",
    "# apply one hot encoding\n",
    "def one_hot (dataframe): \n",
    "    sites_lst = []\n",
    "    for index, val in enumerate(auc_pd[\"Cclid\"]):\n",
    "        if str(val) in list(dataframe.index):\n",
    "            sites_lst.append(auc_pd.loc[index,\"Sites\"])\n",
    "    dataframe[\"Sites\"] = sites_lst\n",
    "    \n",
    "    # Categorical columns for use in one-hot encoder\n",
    "    categorical = (dataframe.dtypes.values != np.dtype('float64'))\n",
    "\n",
    "    # Encode all labels\n",
    "    dataframe = dataframe.apply(encode_categorical)\n",
    "    dataframe_np = dataframe.as_matrix()\n",
    "    return dataframe_np, dataframe"
   ]
  },
  {
   "cell_type": "code",
   "execution_count": 6,
   "metadata": {
    "collapsed": false
   },
   "outputs": [
    {
     "data": {
      "text/html": [
       "<div>\n",
       "<table border=\"1\" class=\"dataframe\">\n",
       "  <thead>\n",
       "    <tr style=\"text-align: right;\">\n",
       "      <th>Entrez_id</th>\n",
       "      <th>1.0</th>\n",
       "      <th>503538.0</th>\n",
       "      <th>29974.0</th>\n",
       "      <th>2.0</th>\n",
       "      <th>144571.0</th>\n",
       "      <th>144568.0</th>\n",
       "      <th>3.0</th>\n",
       "      <th>53947.0</th>\n",
       "      <th>51146.0</th>\n",
       "      <th>100506677.0</th>\n",
       "      <th>...</th>\n",
       "      <th>8522.0</th>\n",
       "      <th>2885.0</th>\n",
       "      <th>2161.0</th>\n",
       "      <th>27255.0</th>\n",
       "      <th>23072.0</th>\n",
       "      <th>6725.0</th>\n",
       "      <th>9149.0</th>\n",
       "      <th>6241.0</th>\n",
       "      <th>8301.0</th>\n",
       "      <th>Sites</th>\n",
       "    </tr>\n",
       "  </thead>\n",
       "  <tbody>\n",
       "    <tr>\n",
       "      <th>3</th>\n",
       "      <td>-0.0324</td>\n",
       "      <td>-0.0324</td>\n",
       "      <td>-0.4928</td>\n",
       "      <td>-0.0657</td>\n",
       "      <td>-0.0657</td>\n",
       "      <td>-0.0657</td>\n",
       "      <td>-0.0657</td>\n",
       "      <td>-0.0390</td>\n",
       "      <td>0.0518</td>\n",
       "      <td>0.4291</td>\n",
       "      <td>...</td>\n",
       "      <td>0.0</td>\n",
       "      <td>0.0</td>\n",
       "      <td>0.0</td>\n",
       "      <td>0.0</td>\n",
       "      <td>0.0</td>\n",
       "      <td>0.0</td>\n",
       "      <td>0.0</td>\n",
       "      <td>0.0</td>\n",
       "      <td>0.0</td>\n",
       "      <td>26</td>\n",
       "    </tr>\n",
       "    <tr>\n",
       "      <th>7</th>\n",
       "      <td>-0.0762</td>\n",
       "      <td>-0.0762</td>\n",
       "      <td>-0.0025</td>\n",
       "      <td>0.4486</td>\n",
       "      <td>0.4486</td>\n",
       "      <td>0.4486</td>\n",
       "      <td>0.4486</td>\n",
       "      <td>-0.0574</td>\n",
       "      <td>-0.0303</td>\n",
       "      <td>-0.0712</td>\n",
       "      <td>...</td>\n",
       "      <td>0.0</td>\n",
       "      <td>0.0</td>\n",
       "      <td>0.0</td>\n",
       "      <td>0.0</td>\n",
       "      <td>0.0</td>\n",
       "      <td>0.0</td>\n",
       "      <td>0.0</td>\n",
       "      <td>0.0</td>\n",
       "      <td>0.0</td>\n",
       "      <td>17</td>\n",
       "    </tr>\n",
       "    <tr>\n",
       "      <th>10</th>\n",
       "      <td>0.0346</td>\n",
       "      <td>0.0346</td>\n",
       "      <td>-0.0522</td>\n",
       "      <td>-0.3816</td>\n",
       "      <td>-0.3816</td>\n",
       "      <td>-0.3816</td>\n",
       "      <td>-0.3816</td>\n",
       "      <td>-0.0155</td>\n",
       "      <td>-0.2675</td>\n",
       "      <td>-0.7758</td>\n",
       "      <td>...</td>\n",
       "      <td>0.0</td>\n",
       "      <td>0.0</td>\n",
       "      <td>0.0</td>\n",
       "      <td>0.0</td>\n",
       "      <td>0.0</td>\n",
       "      <td>0.0</td>\n",
       "      <td>0.0</td>\n",
       "      <td>0.0</td>\n",
       "      <td>0.0</td>\n",
       "      <td>6</td>\n",
       "    </tr>\n",
       "    <tr>\n",
       "      <th>15</th>\n",
       "      <td>0.2934</td>\n",
       "      <td>0.2934</td>\n",
       "      <td>-0.3050</td>\n",
       "      <td>0.1603</td>\n",
       "      <td>0.1603</td>\n",
       "      <td>0.1603</td>\n",
       "      <td>0.1603</td>\n",
       "      <td>-0.2881</td>\n",
       "      <td>0.2831</td>\n",
       "      <td>0.0613</td>\n",
       "      <td>...</td>\n",
       "      <td>0.0</td>\n",
       "      <td>0.0</td>\n",
       "      <td>0.0</td>\n",
       "      <td>0.0</td>\n",
       "      <td>0.0</td>\n",
       "      <td>0.0</td>\n",
       "      <td>0.0</td>\n",
       "      <td>0.0</td>\n",
       "      <td>0.0</td>\n",
       "      <td>26</td>\n",
       "    </tr>\n",
       "    <tr>\n",
       "      <th>16</th>\n",
       "      <td>0.0463</td>\n",
       "      <td>0.0463</td>\n",
       "      <td>0.0436</td>\n",
       "      <td>-0.0112</td>\n",
       "      <td>-0.0112</td>\n",
       "      <td>-0.0112</td>\n",
       "      <td>-0.0112</td>\n",
       "      <td>0.0834</td>\n",
       "      <td>0.0468</td>\n",
       "      <td>0.0528</td>\n",
       "      <td>...</td>\n",
       "      <td>0.0</td>\n",
       "      <td>0.0</td>\n",
       "      <td>0.0</td>\n",
       "      <td>0.0</td>\n",
       "      <td>0.0</td>\n",
       "      <td>0.0</td>\n",
       "      <td>0.0</td>\n",
       "      <td>0.0</td>\n",
       "      <td>0.0</td>\n",
       "      <td>8</td>\n",
       "    </tr>\n",
       "  </tbody>\n",
       "</table>\n",
       "<p>5 rows × 24705 columns</p>\n",
       "</div>"
      ],
      "text/plain": [
       "Entrez_id     1.0  503538.0  29974.0     2.0  144571.0  144568.0     3.0  \\\n",
       "3         -0.0324   -0.0324  -0.4928 -0.0657   -0.0657   -0.0657 -0.0657   \n",
       "7         -0.0762   -0.0762  -0.0025  0.4486    0.4486    0.4486  0.4486   \n",
       "10         0.0346    0.0346  -0.0522 -0.3816   -0.3816   -0.3816 -0.3816   \n",
       "15         0.2934    0.2934  -0.3050  0.1603    0.1603    0.1603  0.1603   \n",
       "16         0.0463    0.0463   0.0436 -0.0112   -0.0112   -0.0112 -0.0112   \n",
       "\n",
       "Entrez_id  53947.0  51146.0  100506677.0  ...    8522.0  2885.0  2161.0  \\\n",
       "3          -0.0390   0.0518       0.4291  ...       0.0     0.0     0.0   \n",
       "7          -0.0574  -0.0303      -0.0712  ...       0.0     0.0     0.0   \n",
       "10         -0.0155  -0.2675      -0.7758  ...       0.0     0.0     0.0   \n",
       "15         -0.2881   0.2831       0.0613  ...       0.0     0.0     0.0   \n",
       "16          0.0834   0.0468       0.0528  ...       0.0     0.0     0.0   \n",
       "\n",
       "Entrez_id  27255.0  23072.0  6725.0  9149.0  6241.0  8301.0  Sites  \n",
       "3              0.0      0.0     0.0     0.0     0.0     0.0     26  \n",
       "7              0.0      0.0     0.0     0.0     0.0     0.0     17  \n",
       "10             0.0      0.0     0.0     0.0     0.0     0.0      6  \n",
       "15             0.0      0.0     0.0     0.0     0.0     0.0     26  \n",
       "16             0.0      0.0     0.0     0.0     0.0     0.0      8  \n",
       "\n",
       "[5 rows x 24705 columns]"
      ]
     },
     "execution_count": 6,
     "metadata": {},
     "output_type": "execute_result"
    }
   ],
   "source": [
    "master_no_auc_onehot, master_no_auc_onehot_pd = one_hot (master_no_auc_pd)\n",
    "master_no_auc_onehot_pd.head()"
   ]
  },
  {
   "cell_type": "code",
   "execution_count": 7,
   "metadata": {
    "collapsed": false
   },
   "outputs": [
    {
     "name": "stdout",
     "output_type": "stream",
     "text": [
      "(1, 472)\n"
     ]
    },
    {
     "data": {
      "text/html": [
       "<div>\n",
       "<table border=\"1\" class=\"dataframe\">\n",
       "  <thead>\n",
       "    <tr style=\"text-align: right;\">\n",
       "      <th></th>\n",
       "      <th>3</th>\n",
       "      <th>7</th>\n",
       "      <th>10</th>\n",
       "      <th>15</th>\n",
       "      <th>16</th>\n",
       "      <th>19</th>\n",
       "      <th>21</th>\n",
       "      <th>22</th>\n",
       "      <th>23</th>\n",
       "      <th>25</th>\n",
       "      <th>...</th>\n",
       "      <th>155481</th>\n",
       "      <th>155493</th>\n",
       "      <th>155498</th>\n",
       "      <th>155502</th>\n",
       "      <th>155505</th>\n",
       "      <th>155510</th>\n",
       "      <th>155511</th>\n",
       "      <th>155513</th>\n",
       "      <th>155518</th>\n",
       "      <th>155520</th>\n",
       "    </tr>\n",
       "    <tr>\n",
       "      <th>Entrez_id</th>\n",
       "      <th></th>\n",
       "      <th></th>\n",
       "      <th></th>\n",
       "      <th></th>\n",
       "      <th></th>\n",
       "      <th></th>\n",
       "      <th></th>\n",
       "      <th></th>\n",
       "      <th></th>\n",
       "      <th></th>\n",
       "      <th></th>\n",
       "      <th></th>\n",
       "      <th></th>\n",
       "      <th></th>\n",
       "      <th></th>\n",
       "      <th></th>\n",
       "      <th></th>\n",
       "      <th></th>\n",
       "      <th></th>\n",
       "      <th></th>\n",
       "      <th></th>\n",
       "    </tr>\n",
       "  </thead>\n",
       "  <tbody>\n",
       "    <tr>\n",
       "      <th>0.0</th>\n",
       "      <td>2.473</td>\n",
       "      <td>2.142</td>\n",
       "      <td>3.38</td>\n",
       "      <td>3.374</td>\n",
       "      <td>3.123</td>\n",
       "      <td>3.779</td>\n",
       "      <td>3.471</td>\n",
       "      <td>2.625</td>\n",
       "      <td>4.677</td>\n",
       "      <td>2.751</td>\n",
       "      <td>...</td>\n",
       "      <td>2.469</td>\n",
       "      <td>3.071</td>\n",
       "      <td>5.351</td>\n",
       "      <td>3.929</td>\n",
       "      <td>3.912</td>\n",
       "      <td>4.913</td>\n",
       "      <td>3.755</td>\n",
       "      <td>1.712</td>\n",
       "      <td>4.61</td>\n",
       "      <td>5.46</td>\n",
       "    </tr>\n",
       "  </tbody>\n",
       "</table>\n",
       "<p>1 rows × 472 columns</p>\n",
       "</div>"
      ],
      "text/plain": [
       "               3      7    10     15     16     19     21     22     23  \\\n",
       "Entrez_id                                                                 \n",
       "0.0        2.473  2.142  3.38  3.374  3.123  3.779  3.471  2.625  4.677   \n",
       "\n",
       "              25   ...    155481  155493  155498  155502  155505  155510  \\\n",
       "Entrez_id          ...                                                     \n",
       "0.0        2.751   ...     2.469   3.071   5.351   3.929   3.912   4.913   \n",
       "\n",
       "           155511  155513  155518  155520  \n",
       "Entrez_id                                  \n",
       "0.0         3.755   1.712    4.61    5.46  \n",
       "\n",
       "[1 rows x 472 columns]"
      ]
     },
     "execution_count": 7,
     "metadata": {},
     "output_type": "execute_result"
    }
   ],
   "source": [
    "file_name = \"master_auc\"\n",
    "file_object = open(file_name,'r')  \n",
    "master_auc_pd = pickle.load(file_object)\n",
    "master_auc = master_auc_pd.as_matrix()\n",
    "master_auc = master_auc.reshape([472,1])\n",
    "print np.shape(master_auc_pd)\n",
    "master_auc_pd.head(n=10)"
   ]
  },
  {
   "cell_type": "code",
   "execution_count": 8,
   "metadata": {
    "collapsed": true
   },
   "outputs": [],
   "source": [
    "linreg = LinearRegression()\n",
    "svr = SVR()\n",
    "rf = RandomForestRegressor()\n",
    "\n",
    "# test naive models\n",
    "def test_model (model):\n",
    "    clf = model\n",
    "    clf.fit(x_train, y_train)\n",
    "    y_pred = clf.predict(x_test)\n",
    "    r2 = clf.score(x_test, y_test)\n",
    "    return y_pred, r2\n",
    "\n",
    "def draw_plot (ax, y_pred, title, y_score):\n",
    "    y_pred = y_pred.flatten()\n",
    "    ax.scatter(y_pred, y_test)\n",
    "    ax.plot(np.unique(y_pred), np.poly1d(np.polyfit(y_pred, y_test, 1))(np.unique(y_pred)))\n",
    "    ax.set_title(\"%s r2 accuracy: %s\" %(title, round(y_score, 3)))\n",
    "    ax.set_xlabel(\"Predicted AUC\")\n",
    "    ax.set_ylabel(\"Actual AUC\")\n",
    "    return plt"
   ]
  },
  {
   "cell_type": "code",
   "execution_count": 11,
   "metadata": {
    "collapsed": false
   },
   "outputs": [
    {
     "data": {
      "image/png": "[encoded data removed]",
      "text/plain": [
       "<matplotlib.figure.Figure at 0x12213cd90>"
      ]
     },
     "metadata": {},
     "output_type": "display_data"
    }
   ],
   "source": [
    "master_no_auc_onehot_scaled = preprocessing.scale(master_no_auc_onehot)\n",
    "master_auc_scaled = preprocessing.scale(master_auc)\n",
    "\n",
    "x_train, x_test, y_train, y_test = train_test_split(master_no_auc_onehot_pd, master_auc_scaled, test_size=0.5, random_state=42)\n",
    "y_test = y_test.flatten()\n",
    "y_train = y_train.flatten()\n",
    "\n",
    "# calculated r_2 values\n",
    "linreg_y_pred, linreg_r2 = test_model (linreg)\n",
    "svr_y_pred, svr_r2 = test_model (svr)\n",
    "rf_y_pred, rf_r2 = test_model (rf)\n",
    "\n",
    "fig_all, ax = plt.subplots(1, 3, figsize=(20, 5))\n",
    "ax[0] = draw_plot (ax[0], linreg_y_pred, \"Linear Regression\", linreg_r2)\n",
    "ax[1] = draw_plot (ax[1], svr_y_pred, \"SVM\", svr_r2)\n",
    "ax[2] = draw_plot (ax[2], rf_y_pred, \"Random Forest\", rf_r2)"
   ]
  },
  {
   "cell_type": "code",
   "execution_count": 12,
   "metadata": {
    "collapsed": false
   },
   "outputs": [
    {
     "data": {
      "text/html": [
       "<div>\n",
       "<table border=\"1\" class=\"dataframe\">\n",
       "  <thead>\n",
       "    <tr style=\"text-align: right;\">\n",
       "      <th></th>\n",
       "      <th>Linear Regression</th>\n",
       "      <th>Random Forest</th>\n",
       "      <th>Support Vector Machine</th>\n",
       "    </tr>\n",
       "  </thead>\n",
       "  <tbody>\n",
       "    <tr>\n",
       "      <th>Somewhat Informed</th>\n",
       "      <td>-0.617333</td>\n",
       "      <td>-0.072273</td>\n",
       "      <td>-0.034283</td>\n",
       "    </tr>\n",
       "  </tbody>\n",
       "</table>\n",
       "</div>"
      ],
      "text/plain": [
       "                   Linear Regression  Random Forest  Support Vector Machine\n",
       "Somewhat Informed          -0.617333      -0.072273               -0.034283"
      ]
     },
     "execution_count": 12,
     "metadata": {},
     "output_type": "execute_result"
    }
   ],
   "source": [
    "score_df = pd.DataFrame({'Linear Regression': [linreg_r2],\n",
    "                         'Support Vector Machine': [svr_r2],\n",
    "                         'Random Forest': [rf_r2]}, \n",
    "                       index=[\"Somewhat Informed\"])\n",
    "score_df"
   ]
  },
  {
   "cell_type": "markdown",
   "metadata": {},
   "source": [
    "### Random Forest Binary"
   ]
  },
  {
   "cell_type": "markdown",
   "metadata": {},
   "source": [
    "---"
   ]
  },
  {
   "cell_type": "code",
   "execution_count": 13,
   "metadata": {
    "collapsed": false
   },
   "outputs": [],
   "source": [
    "sites_lst = []\n",
    "for index, val in enumerate(auc_pd[\"Cclid\"]):\n",
    "    if str(val) in list(master_no_auc_pd.index):\n",
    "        sites_lst.append(auc_pd.loc[index,\"Sites\"])\n",
    "master_no_auc_pd[\"Sites\"] = sites_lst"
   ]
  },
  {
   "cell_type": "code",
   "execution_count": null,
   "metadata": {
    "collapsed": false
   },
   "outputs": [],
   "source": [
    "master_no_auc_binary_pd = pd.get_dummies(master_no_auc_pd)\n",
    "master_no_auc_binary = master_no_auc_binary_pd.as_matrix()\n",
    "master_no_auc_binary_pd.head()"
   ]
  },
  {
   "cell_type": "code",
   "execution_count": null,
   "metadata": {
    "collapsed": false
   },
   "outputs": [],
   "source": [
    "master_no_auc_binary = master_no_auc_binary_pd.as_matrix()\n",
    "\n",
    "master_no_auc_binary_scaled = preprocessing.scale(master_no_auc_binary)\n",
    "master_auc_scaled = preprocessing.scale(master_auc)\n",
    "\n",
    "x_train, x_test, y_train, y_test = train_test_split(master_no_auc_binary_scaled, master_auc_scaled, test_size=0.5, random_state=42)\n",
    "y_test = y_test.flatten()\n",
    "y_train = y_train.flatten()\n",
    "\n",
    "# calculated r_2 values\n",
    "linreg_y_pred, linreg_r2 = test_model (linreg)\n",
    "svr_y_pred, svr_r2 = test_model (svr)\n",
    "rf_y_pred, rf_r2 = test_model (rf)\n",
    "\n",
    "fig_all, ax = plt.subplots(1, 3, figsize=(20, 5))\n",
    "ax[0] = draw_plot (ax[0], linreg_y_pred, \"Linear Regression\", linreg_r2)\n",
    "ax[1] = draw_plot (ax[1], svr_y_pred, \"SVM\", svr_r2)\n",
    "ax[2] = draw_plot (ax[2], rf_y_pred, \"Random Forest\", rf_r2)"
   ]
  },
  {
   "cell_type": "code",
   "execution_count": 19,
   "metadata": {
    "collapsed": false
   },
   "outputs": [],
   "source": [
    "lasso = linear_model.Lasso(alpha=0.1)\n",
    "ridge = linear_model.Ridge(alpha=0.1)"
   ]
  },
  {
   "cell_type": "code",
   "execution_count": 20,
   "metadata": {
    "collapsed": false
   },
   "outputs": [
    {
     "data": {
      "text/html": [
       "<div>\n",
       "<table border=\"1\" class=\"dataframe\">\n",
       "  <thead>\n",
       "    <tr style=\"text-align: right;\">\n",
       "      <th></th>\n",
       "      <th>56899.0</th>\n",
       "      <th>1016.0</th>\n",
       "      <th>1030.0</th>\n",
       "      <th>51716.0</th>\n",
       "      <th>57055.0</th>\n",
       "      <th>2064.0</th>\n",
       "      <th>5789.0</th>\n",
       "      <th>729201.0</th>\n",
       "      <th>220115.0</th>\n",
       "      <th>7227.0</th>\n",
       "      <th>51198.0</th>\n",
       "      <th>340357.0</th>\n",
       "    </tr>\n",
       "  </thead>\n",
       "  <tbody>\n",
       "    <tr>\n",
       "      <th>3</th>\n",
       "      <td>0.2487</td>\n",
       "      <td>0.3658</td>\n",
       "      <td>0.3753</td>\n",
       "      <td>-3.2431</td>\n",
       "      <td>-2.2221</td>\n",
       "      <td>0.5999</td>\n",
       "      <td>0.3753</td>\n",
       "      <td>0.0068</td>\n",
       "      <td>-0.5911</td>\n",
       "      <td>0.0842</td>\n",
       "      <td>0.3753</td>\n",
       "      <td>-0.5158</td>\n",
       "    </tr>\n",
       "    <tr>\n",
       "      <th>7</th>\n",
       "      <td>0.4557</td>\n",
       "      <td>-0.0418</td>\n",
       "      <td>-0.0383</td>\n",
       "      <td>-1.8994</td>\n",
       "      <td>-1.0085</td>\n",
       "      <td>-0.0667</td>\n",
       "      <td>-0.0383</td>\n",
       "      <td>-0.0164</td>\n",
       "      <td>-0.0436</td>\n",
       "      <td>-0.0439</td>\n",
       "      <td>-0.0383</td>\n",
       "      <td>-1.8931</td>\n",
       "    </tr>\n",
       "    <tr>\n",
       "      <th>10</th>\n",
       "      <td>-0.3138</td>\n",
       "      <td>0.6383</td>\n",
       "      <td>-4.4275</td>\n",
       "      <td>-2.7610</td>\n",
       "      <td>-4.9916</td>\n",
       "      <td>-0.3066</td>\n",
       "      <td>0.0883</td>\n",
       "      <td>-0.5324</td>\n",
       "      <td>-2.4486</td>\n",
       "      <td>0.3513</td>\n",
       "      <td>-2.7112</td>\n",
       "      <td>-0.1203</td>\n",
       "    </tr>\n",
       "    <tr>\n",
       "      <th>15</th>\n",
       "      <td>0.8370</td>\n",
       "      <td>1.1775</td>\n",
       "      <td>-0.2346</td>\n",
       "      <td>-2.8088</td>\n",
       "      <td>-5.4647</td>\n",
       "      <td>0.0841</td>\n",
       "      <td>-0.2620</td>\n",
       "      <td>0.0758</td>\n",
       "      <td>-0.2664</td>\n",
       "      <td>-0.1944</td>\n",
       "      <td>-0.2346</td>\n",
       "      <td>-0.2273</td>\n",
       "    </tr>\n",
       "    <tr>\n",
       "      <th>16</th>\n",
       "      <td>0.0415</td>\n",
       "      <td>0.0195</td>\n",
       "      <td>-0.8478</td>\n",
       "      <td>-1.4090</td>\n",
       "      <td>-4.0668</td>\n",
       "      <td>0.1070</td>\n",
       "      <td>0.0243</td>\n",
       "      <td>0.0037</td>\n",
       "      <td>-2.2805</td>\n",
       "      <td>0.5550</td>\n",
       "      <td>-0.8478</td>\n",
       "      <td>0.0159</td>\n",
       "    </tr>\n",
       "  </tbody>\n",
       "</table>\n",
       "</div>"
      ],
      "text/plain": [
       "    56899.0   1016.0    1030.0    51716.0   57055.0   2064.0    5789.0    \\\n",
       "3     0.2487    0.3658    0.3753   -3.2431   -2.2221    0.5999    0.3753   \n",
       "7     0.4557   -0.0418   -0.0383   -1.8994   -1.0085   -0.0667   -0.0383   \n",
       "10   -0.3138    0.6383   -4.4275   -2.7610   -4.9916   -0.3066    0.0883   \n",
       "15    0.8370    1.1775   -0.2346   -2.8088   -5.4647    0.0841   -0.2620   \n",
       "16    0.0415    0.0195   -0.8478   -1.4090   -4.0668    0.1070    0.0243   \n",
       "\n",
       "    729201.0  220115.0  7227.0    51198.0   340357.0  \n",
       "3     0.0068   -0.5911    0.0842    0.3753   -0.5158  \n",
       "7    -0.0164   -0.0436   -0.0439   -0.0383   -1.8931  \n",
       "10   -0.5324   -2.4486    0.3513   -2.7112   -0.1203  \n",
       "15    0.0758   -0.2664   -0.1944   -0.2346   -0.2273  \n",
       "16    0.0037   -2.2805    0.5550   -0.8478    0.0159  "
      ]
     },
     "execution_count": 20,
     "metadata": {},
     "output_type": "execute_result"
    }
   ],
   "source": [
    "lasso.fit(master_no_auc, master_auc)\n",
    "index_lst = []\n",
    "for index, coef in enumerate(lasso.coef_):\n",
    "    if coef != 0.0:\n",
    "        index_lst.append(index)\n",
    "master_no_auc_pd[index_lst].head()"
   ]
  },
  {
   "cell_type": "markdown",
   "metadata": {},
   "source": [
    "### Feature Selection"
   ]
  },
  {
   "cell_type": "markdown",
   "metadata": {},
   "source": [
    "---"
   ]
  },
  {
   "cell_type": "code",
   "execution_count": 23,
   "metadata": {
    "collapsed": false
   },
   "outputs": [
    {
     "data": {
      "image/png": "[encoded data removed]",
      "text/plain": [
       "<matplotlib.figure.Figure at 0x12141f690>"
      ]
     },
     "metadata": {},
     "output_type": "display_data"
    }
   ],
   "source": [
    "x_train, x_test, y_train, y_test = train_test_split(master_no_auc_onehot_scaled, master_auc_scaled, test_size=0.5, random_state=42)\n",
    "y_test = y_test.flatten()\n",
    "y_train = y_train.flatten()\n",
    "\n",
    "# calculated r_2 values\n",
    "y_pred_lasso, r2_lasso = test_model (lasso)\n",
    "y_pred_ridge, r2_ridge = test_model (ridge)\n",
    "\n",
    "fig_all, ax = plt.subplots(1, 2, figsize=(10, 3.5))\n",
    "ax[0] = draw_plot (ax[0], y_pred_lasso, \"Lasso\", r2_lasso)\n",
    "ax[1] = draw_plot (ax[1], y_pred_ridge, \"Ridge\", r2_ridge)"
   ]
  },
  {
   "cell_type": "code",
   "execution_count": 24,
   "metadata": {
    "collapsed": false
   },
   "outputs": [
    {
     "data": {
      "text/html": [
       "<div>\n",
       "<table border=\"1\" class=\"dataframe\">\n",
       "  <thead>\n",
       "    <tr style=\"text-align: right;\">\n",
       "      <th></th>\n",
       "      <th>Lasso</th>\n",
       "      <th>Linear Regression</th>\n",
       "      <th>Random Forest</th>\n",
       "      <th>Ridge</th>\n",
       "      <th>Support Vector Machine</th>\n",
       "    </tr>\n",
       "  </thead>\n",
       "  <tbody>\n",
       "    <tr>\n",
       "      <th>Somewhat Informed</th>\n",
       "      <td>-0.060803</td>\n",
       "      <td>-0.499115</td>\n",
       "      <td>-0.043414</td>\n",
       "      <td>-0.49825</td>\n",
       "      <td>-0.036263</td>\n",
       "    </tr>\n",
       "  </tbody>\n",
       "</table>\n",
       "</div>"
      ],
      "text/plain": [
       "                      Lasso  Linear Regression  Random Forest    Ridge  \\\n",
       "Somewhat Informed -0.060803          -0.499115      -0.043414 -0.49825   \n",
       "\n",
       "                   Support Vector Machine  \n",
       "Somewhat Informed               -0.036263  "
      ]
     },
     "execution_count": 24,
     "metadata": {},
     "output_type": "execute_result"
    }
   ],
   "source": [
    "score_df = pd.DataFrame({'Linear Regression': [linreg_r2],\n",
    "                         'Support Vector Machine': [svr_r2],\n",
    "                         'Random Forest': [rf_r2],\n",
    "                         'Lasso': [r2_lasso],\n",
    "                         'Ridge': [r2_ridge]}, \n",
    "                       index=[\"Somewhat Informed\"])\n",
    "score_df"
   ]
  },
  {
   "cell_type": "markdown",
   "metadata": {},
   "source": [
    "### Predictors Chosen by Lasso"
   ]
  },
  {
   "cell_type": "markdown",
   "metadata": {},
   "source": [
    "---"
   ]
  },
  {
   "cell_type": "code",
   "execution_count": 36,
   "metadata": {
    "collapsed": false
   },
   "outputs": [
    {
     "data": {
      "text/html": [
       "<div>\n",
       "<table border=\"1\" class=\"dataframe\">\n",
       "  <thead>\n",
       "    <tr style=\"text-align: right;\">\n",
       "      <th></th>\n",
       "      <th>56899.0</th>\n",
       "      <th>1016.0</th>\n",
       "      <th>1030.0</th>\n",
       "      <th>51716.0</th>\n",
       "      <th>57055.0</th>\n",
       "      <th>2064.0</th>\n",
       "      <th>5789.0</th>\n",
       "      <th>729201.0</th>\n",
       "      <th>220115.0</th>\n",
       "      <th>7227.0</th>\n",
       "      <th>51198.0</th>\n",
       "      <th>340357.0</th>\n",
       "      <th>Sites_NS</th>\n",
       "    </tr>\n",
       "  </thead>\n",
       "  <tbody>\n",
       "    <tr>\n",
       "      <th>3</th>\n",
       "      <td>0.2487</td>\n",
       "      <td>0.3658</td>\n",
       "      <td>0.3753</td>\n",
       "      <td>-3.2431</td>\n",
       "      <td>-2.2221</td>\n",
       "      <td>0.5999</td>\n",
       "      <td>0.3753</td>\n",
       "      <td>0.0068</td>\n",
       "      <td>-0.5911</td>\n",
       "      <td>0.0842</td>\n",
       "      <td>0.3753</td>\n",
       "      <td>-0.5158</td>\n",
       "      <td>0</td>\n",
       "    </tr>\n",
       "    <tr>\n",
       "      <th>7</th>\n",
       "      <td>0.4557</td>\n",
       "      <td>-0.0418</td>\n",
       "      <td>-0.0383</td>\n",
       "      <td>-1.8994</td>\n",
       "      <td>-1.0085</td>\n",
       "      <td>-0.0667</td>\n",
       "      <td>-0.0383</td>\n",
       "      <td>-0.0164</td>\n",
       "      <td>-0.0436</td>\n",
       "      <td>-0.0439</td>\n",
       "      <td>-0.0383</td>\n",
       "      <td>-1.8931</td>\n",
       "      <td>0</td>\n",
       "    </tr>\n",
       "    <tr>\n",
       "      <th>10</th>\n",
       "      <td>-0.3138</td>\n",
       "      <td>0.6383</td>\n",
       "      <td>-4.4275</td>\n",
       "      <td>-2.7610</td>\n",
       "      <td>-4.9916</td>\n",
       "      <td>-0.3066</td>\n",
       "      <td>0.0883</td>\n",
       "      <td>-0.5324</td>\n",
       "      <td>-2.4486</td>\n",
       "      <td>0.3513</td>\n",
       "      <td>-2.7112</td>\n",
       "      <td>-0.1203</td>\n",
       "      <td>0</td>\n",
       "    </tr>\n",
       "    <tr>\n",
       "      <th>15</th>\n",
       "      <td>0.8370</td>\n",
       "      <td>1.1775</td>\n",
       "      <td>-0.2346</td>\n",
       "      <td>-2.8088</td>\n",
       "      <td>-5.4647</td>\n",
       "      <td>0.0841</td>\n",
       "      <td>-0.2620</td>\n",
       "      <td>0.0758</td>\n",
       "      <td>-0.2664</td>\n",
       "      <td>-0.1944</td>\n",
       "      <td>-0.2346</td>\n",
       "      <td>-0.2273</td>\n",
       "      <td>0</td>\n",
       "    </tr>\n",
       "    <tr>\n",
       "      <th>16</th>\n",
       "      <td>0.0415</td>\n",
       "      <td>0.0195</td>\n",
       "      <td>-0.8478</td>\n",
       "      <td>-1.4090</td>\n",
       "      <td>-4.0668</td>\n",
       "      <td>0.1070</td>\n",
       "      <td>0.0243</td>\n",
       "      <td>0.0037</td>\n",
       "      <td>-2.2805</td>\n",
       "      <td>0.5550</td>\n",
       "      <td>-0.8478</td>\n",
       "      <td>0.0159</td>\n",
       "      <td>0</td>\n",
       "    </tr>\n",
       "  </tbody>\n",
       "</table>\n",
       "</div>"
      ],
      "text/plain": [
       "    56899.0  1016.0  1030.0  51716.0  57055.0  2064.0  5789.0  729201.0  \\\n",
       "3    0.2487  0.3658  0.3753  -3.2431  -2.2221  0.5999  0.3753    0.0068   \n",
       "7    0.4557 -0.0418 -0.0383  -1.8994  -1.0085 -0.0667 -0.0383   -0.0164   \n",
       "10  -0.3138  0.6383 -4.4275  -2.7610  -4.9916 -0.3066  0.0883   -0.5324   \n",
       "15   0.8370  1.1775 -0.2346  -2.8088  -5.4647  0.0841 -0.2620    0.0758   \n",
       "16   0.0415  0.0195 -0.8478  -1.4090  -4.0668  0.1070  0.0243    0.0037   \n",
       "\n",
       "    220115.0  7227.0  51198.0  340357.0  Sites_NS  \n",
       "3    -0.5911  0.0842   0.3753   -0.5158         0  \n",
       "7    -0.0436 -0.0439  -0.0383   -1.8931         0  \n",
       "10   -2.4486  0.3513  -2.7112   -0.1203         0  \n",
       "15   -0.2664 -0.1944  -0.2346   -0.2273         0  \n",
       "16   -2.2805  0.5550  -0.8478    0.0159         0  "
      ]
     },
     "execution_count": 36,
     "metadata": {},
     "output_type": "execute_result"
    }
   ],
   "source": [
    "lasso.fit(master_no_auc_onehot, master_auc)\n",
    "index_lst = []\n",
    "for index, coef in enumerate(lasso.coef_):\n",
    "    if coef != 0.0:\n",
    "        index_lst.append(index)\n",
    "master_no_auc_pd[index_lst].head()"
   ]
  },
  {
   "cell_type": "markdown",
   "metadata": {},
   "source": [
    "### Just Mutation"
   ]
  },
  {
   "cell_type": "markdown",
   "metadata": {},
   "source": [
    "---"
   ]
  },
  {
   "cell_type": "code",
   "execution_count": 27,
   "metadata": {
    "collapsed": false
   },
   "outputs": [
    {
     "name": "stdout",
     "output_type": "stream",
     "text": [
      "(472, 1530)\n"
     ]
    }
   ],
   "source": [
    "file_name = \"mutation_pd\"\n",
    "file_object = open(file_name,'r')  \n",
    "mutation_pd = pickle.load(file_object)\n",
    "mutation_pd = mutation_pd.drop(\"Entrez_id\",1)\n",
    "mutation_trans_pd = mutation_pd.transpose()\n",
    "print np.shape(mutation_trans_pd)"
   ]
  },
  {
   "cell_type": "code",
   "execution_count": 28,
   "metadata": {
    "collapsed": false
   },
   "outputs": [
    {
     "data": {
      "text/html": [
       "<div>\n",
       "<table border=\"1\" class=\"dataframe\">\n",
       "  <thead>\n",
       "    <tr style=\"text-align: right;\">\n",
       "      <th></th>\n",
       "      <th>0</th>\n",
       "      <th>1</th>\n",
       "      <th>2</th>\n",
       "      <th>3</th>\n",
       "      <th>4</th>\n",
       "      <th>5</th>\n",
       "      <th>6</th>\n",
       "      <th>7</th>\n",
       "      <th>8</th>\n",
       "      <th>9</th>\n",
       "      <th>...</th>\n",
       "      <th>1521</th>\n",
       "      <th>1522</th>\n",
       "      <th>1523</th>\n",
       "      <th>1524</th>\n",
       "      <th>1525</th>\n",
       "      <th>1526</th>\n",
       "      <th>1527</th>\n",
       "      <th>1528</th>\n",
       "      <th>1529</th>\n",
       "      <th>Sites</th>\n",
       "    </tr>\n",
       "  </thead>\n",
       "  <tbody>\n",
       "    <tr>\n",
       "      <th>3</th>\n",
       "      <td>0.0</td>\n",
       "      <td>0.0</td>\n",
       "      <td>0.0</td>\n",
       "      <td>0.0</td>\n",
       "      <td>1.0</td>\n",
       "      <td>0.0</td>\n",
       "      <td>0.0</td>\n",
       "      <td>0.0</td>\n",
       "      <td>0.0</td>\n",
       "      <td>0.0</td>\n",
       "      <td>...</td>\n",
       "      <td>0.0</td>\n",
       "      <td>0.0</td>\n",
       "      <td>0.0</td>\n",
       "      <td>0.0</td>\n",
       "      <td>0.0</td>\n",
       "      <td>0.0</td>\n",
       "      <td>0.0</td>\n",
       "      <td>0.0</td>\n",
       "      <td>0.0</td>\n",
       "      <td>26</td>\n",
       "    </tr>\n",
       "    <tr>\n",
       "      <th>7</th>\n",
       "      <td>0.0</td>\n",
       "      <td>1.0</td>\n",
       "      <td>0.0</td>\n",
       "      <td>0.0</td>\n",
       "      <td>0.0</td>\n",
       "      <td>0.0</td>\n",
       "      <td>0.0</td>\n",
       "      <td>0.0</td>\n",
       "      <td>0.0</td>\n",
       "      <td>0.0</td>\n",
       "      <td>...</td>\n",
       "      <td>0.0</td>\n",
       "      <td>0.0</td>\n",
       "      <td>0.0</td>\n",
       "      <td>0.0</td>\n",
       "      <td>0.0</td>\n",
       "      <td>0.0</td>\n",
       "      <td>0.0</td>\n",
       "      <td>0.0</td>\n",
       "      <td>0.0</td>\n",
       "      <td>17</td>\n",
       "    </tr>\n",
       "    <tr>\n",
       "      <th>10</th>\n",
       "      <td>0.0</td>\n",
       "      <td>0.0</td>\n",
       "      <td>0.0</td>\n",
       "      <td>0.0</td>\n",
       "      <td>0.0</td>\n",
       "      <td>0.0</td>\n",
       "      <td>0.0</td>\n",
       "      <td>0.0</td>\n",
       "      <td>0.0</td>\n",
       "      <td>0.0</td>\n",
       "      <td>...</td>\n",
       "      <td>0.0</td>\n",
       "      <td>0.0</td>\n",
       "      <td>0.0</td>\n",
       "      <td>0.0</td>\n",
       "      <td>0.0</td>\n",
       "      <td>0.0</td>\n",
       "      <td>0.0</td>\n",
       "      <td>0.0</td>\n",
       "      <td>0.0</td>\n",
       "      <td>6</td>\n",
       "    </tr>\n",
       "    <tr>\n",
       "      <th>15</th>\n",
       "      <td>0.0</td>\n",
       "      <td>0.0</td>\n",
       "      <td>0.0</td>\n",
       "      <td>0.0</td>\n",
       "      <td>0.0</td>\n",
       "      <td>0.0</td>\n",
       "      <td>0.0</td>\n",
       "      <td>0.0</td>\n",
       "      <td>0.0</td>\n",
       "      <td>0.0</td>\n",
       "      <td>...</td>\n",
       "      <td>0.0</td>\n",
       "      <td>0.0</td>\n",
       "      <td>0.0</td>\n",
       "      <td>0.0</td>\n",
       "      <td>0.0</td>\n",
       "      <td>0.0</td>\n",
       "      <td>0.0</td>\n",
       "      <td>0.0</td>\n",
       "      <td>0.0</td>\n",
       "      <td>26</td>\n",
       "    </tr>\n",
       "    <tr>\n",
       "      <th>16</th>\n",
       "      <td>0.0</td>\n",
       "      <td>0.0</td>\n",
       "      <td>0.0</td>\n",
       "      <td>0.0</td>\n",
       "      <td>0.0</td>\n",
       "      <td>0.0</td>\n",
       "      <td>0.0</td>\n",
       "      <td>0.0</td>\n",
       "      <td>0.0</td>\n",
       "      <td>0.0</td>\n",
       "      <td>...</td>\n",
       "      <td>0.0</td>\n",
       "      <td>0.0</td>\n",
       "      <td>0.0</td>\n",
       "      <td>0.0</td>\n",
       "      <td>0.0</td>\n",
       "      <td>0.0</td>\n",
       "      <td>0.0</td>\n",
       "      <td>0.0</td>\n",
       "      <td>0.0</td>\n",
       "      <td>8</td>\n",
       "    </tr>\n",
       "  </tbody>\n",
       "</table>\n",
       "<p>5 rows × 1531 columns</p>\n",
       "</div>"
      ],
      "text/plain": [
       "      0    1    2    3    4    5    6    7    8    9  ...    1521  1522  1523  \\\n",
       "3   0.0  0.0  0.0  0.0  1.0  0.0  0.0  0.0  0.0  0.0  ...     0.0   0.0   0.0   \n",
       "7   0.0  1.0  0.0  0.0  0.0  0.0  0.0  0.0  0.0  0.0  ...     0.0   0.0   0.0   \n",
       "10  0.0  0.0  0.0  0.0  0.0  0.0  0.0  0.0  0.0  0.0  ...     0.0   0.0   0.0   \n",
       "15  0.0  0.0  0.0  0.0  0.0  0.0  0.0  0.0  0.0  0.0  ...     0.0   0.0   0.0   \n",
       "16  0.0  0.0  0.0  0.0  0.0  0.0  0.0  0.0  0.0  0.0  ...     0.0   0.0   0.0   \n",
       "\n",
       "    1524  1525  1526  1527  1528  1529  Sites  \n",
       "3    0.0   0.0   0.0   0.0   0.0   0.0     26  \n",
       "7    0.0   0.0   0.0   0.0   0.0   0.0     17  \n",
       "10   0.0   0.0   0.0   0.0   0.0   0.0      6  \n",
       "15   0.0   0.0   0.0   0.0   0.0   0.0     26  \n",
       "16   0.0   0.0   0.0   0.0   0.0   0.0      8  \n",
       "\n",
       "[5 rows x 1531 columns]"
      ]
     },
     "execution_count": 28,
     "metadata": {},
     "output_type": "execute_result"
    }
   ],
   "source": [
    "mutation_trans, mutation_trans_pd = one_hot (mutation_trans_pd)\n",
    "mutation_trans_pd.head()"
   ]
  },
  {
   "cell_type": "code",
   "execution_count": 29,
   "metadata": {
    "collapsed": false
   },
   "outputs": [
    {
     "data": {
      "image/png": "[encoded data removed]",
      "text/plain": [
       "<matplotlib.figure.Figure at 0x1223dccd0>"
      ]
     },
     "metadata": {},
     "output_type": "display_data"
    }
   ],
   "source": [
    "mutation_scaled = preprocessing.scale(mutation_trans)\n",
    "\n",
    "x_train, x_test, y_train, y_test = train_test_split(mutation_scaled, master_auc_scaled, test_size=0.5, random_state=42)\n",
    "y_test = y_test.flatten()\n",
    "y_train = y_train.flatten()\n",
    "\n",
    "# calculated r_2 values\n",
    "linreg_y_pred_mut, linreg_r2_mut = test_model (linreg)\n",
    "svr_y_pred_mut, svr_r2_mut = test_model (svr)\n",
    "rf_y_pred_mut, rf_r2_mut = test_model (rf)\n",
    "y_pred_lasso_mut, r2_lasso_mut = test_model (lasso)\n",
    "y_pred_ridge_mut, r2_ridge_mut = test_model (ridge)\n",
    "\n",
    "fig_all, ax = plt.subplots(1, 5, figsize=(20, 5))\n",
    "ax[0] = draw_plot (ax[0], linreg_y_pred_mut, \"Linear Regression\", linreg_r2_mut)\n",
    "ax[1] = draw_plot (ax[1], svr_y_pred_mut, \"SVM\", svr_r2_mut)\n",
    "ax[2] = draw_plot (ax[2], rf_y_pred_mut, \"Random Forest\", rf_r2_mut)\n",
    "ax[3] = draw_plot (ax[3], y_pred_lasso_mut, \"Lasso\", r2_lasso_mut)\n",
    "ax[4] = draw_plot (ax[4], y_pred_ridge_mut, \"Ridge\", r2_ridge_mut)"
   ]
  },
  {
   "cell_type": "markdown",
   "metadata": {},
   "source": [
    "### Just Copy Number"
   ]
  },
  {
   "cell_type": "markdown",
   "metadata": {},
   "source": [
    "---"
   ]
  },
  {
   "cell_type": "code",
   "execution_count": 30,
   "metadata": {
    "collapsed": false
   },
   "outputs": [
    {
     "name": "stdout",
     "output_type": "stream",
     "text": [
      "(472, 23200)\n"
     ]
    }
   ],
   "source": [
    "just_copy_num_pd = master_no_auc_pd.iloc[:, :-len(mutation_pd)-1]\n",
    "print np.shape(just_copy_num_pd)"
   ]
  },
  {
   "cell_type": "code",
   "execution_count": 31,
   "metadata": {
    "collapsed": false,
    "scrolled": true
   },
   "outputs": [
    {
     "data": {
      "text/html": [
       "<div>\n",
       "<table border=\"1\" class=\"dataframe\">\n",
       "  <thead>\n",
       "    <tr style=\"text-align: right;\">\n",
       "      <th></th>\n",
       "      <th>1.0</th>\n",
       "      <th>503538.0</th>\n",
       "      <th>29974.0</th>\n",
       "      <th>2.0</th>\n",
       "      <th>144571.0</th>\n",
       "      <th>144568.0</th>\n",
       "      <th>3.0</th>\n",
       "      <th>53947.0</th>\n",
       "      <th>51146.0</th>\n",
       "      <th>100506677.0</th>\n",
       "      <th>...</th>\n",
       "      <th>3553.0</th>\n",
       "      <th>3551.0</th>\n",
       "      <th>3557.0</th>\n",
       "      <th>6535.0</th>\n",
       "      <th>3936.0</th>\n",
       "      <th>3716.0</th>\n",
       "      <th>7006.0</th>\n",
       "      <th>1869.0</th>\n",
       "      <th>23013.0</th>\n",
       "      <th>Sites</th>\n",
       "    </tr>\n",
       "  </thead>\n",
       "  <tbody>\n",
       "    <tr>\n",
       "      <th>3</th>\n",
       "      <td>-0.0324</td>\n",
       "      <td>-0.0324</td>\n",
       "      <td>-0.4928</td>\n",
       "      <td>-0.0657</td>\n",
       "      <td>-0.0657</td>\n",
       "      <td>-0.0657</td>\n",
       "      <td>-0.0657</td>\n",
       "      <td>-0.0390</td>\n",
       "      <td>0.0518</td>\n",
       "      <td>0.4291</td>\n",
       "      <td>...</td>\n",
       "      <td>0.0</td>\n",
       "      <td>0.0</td>\n",
       "      <td>0.0</td>\n",
       "      <td>0.0</td>\n",
       "      <td>0.0</td>\n",
       "      <td>0.0</td>\n",
       "      <td>0.0</td>\n",
       "      <td>0.0</td>\n",
       "      <td>0.0</td>\n",
       "      <td>26</td>\n",
       "    </tr>\n",
       "    <tr>\n",
       "      <th>7</th>\n",
       "      <td>-0.0762</td>\n",
       "      <td>-0.0762</td>\n",
       "      <td>-0.0025</td>\n",
       "      <td>0.4486</td>\n",
       "      <td>0.4486</td>\n",
       "      <td>0.4486</td>\n",
       "      <td>0.4486</td>\n",
       "      <td>-0.0574</td>\n",
       "      <td>-0.0303</td>\n",
       "      <td>-0.0712</td>\n",
       "      <td>...</td>\n",
       "      <td>0.0</td>\n",
       "      <td>0.0</td>\n",
       "      <td>0.0</td>\n",
       "      <td>0.0</td>\n",
       "      <td>0.0</td>\n",
       "      <td>1.0</td>\n",
       "      <td>1.0</td>\n",
       "      <td>0.0</td>\n",
       "      <td>1.0</td>\n",
       "      <td>17</td>\n",
       "    </tr>\n",
       "    <tr>\n",
       "      <th>10</th>\n",
       "      <td>0.0346</td>\n",
       "      <td>0.0346</td>\n",
       "      <td>-0.0522</td>\n",
       "      <td>-0.3816</td>\n",
       "      <td>-0.3816</td>\n",
       "      <td>-0.3816</td>\n",
       "      <td>-0.3816</td>\n",
       "      <td>-0.0155</td>\n",
       "      <td>-0.2675</td>\n",
       "      <td>-0.7758</td>\n",
       "      <td>...</td>\n",
       "      <td>0.0</td>\n",
       "      <td>0.0</td>\n",
       "      <td>0.0</td>\n",
       "      <td>0.0</td>\n",
       "      <td>0.0</td>\n",
       "      <td>0.0</td>\n",
       "      <td>0.0</td>\n",
       "      <td>0.0</td>\n",
       "      <td>0.0</td>\n",
       "      <td>6</td>\n",
       "    </tr>\n",
       "    <tr>\n",
       "      <th>15</th>\n",
       "      <td>0.2934</td>\n",
       "      <td>0.2934</td>\n",
       "      <td>-0.3050</td>\n",
       "      <td>0.1603</td>\n",
       "      <td>0.1603</td>\n",
       "      <td>0.1603</td>\n",
       "      <td>0.1603</td>\n",
       "      <td>-0.2881</td>\n",
       "      <td>0.2831</td>\n",
       "      <td>0.0613</td>\n",
       "      <td>...</td>\n",
       "      <td>0.0</td>\n",
       "      <td>0.0</td>\n",
       "      <td>0.0</td>\n",
       "      <td>0.0</td>\n",
       "      <td>0.0</td>\n",
       "      <td>0.0</td>\n",
       "      <td>0.0</td>\n",
       "      <td>0.0</td>\n",
       "      <td>0.0</td>\n",
       "      <td>26</td>\n",
       "    </tr>\n",
       "    <tr>\n",
       "      <th>16</th>\n",
       "      <td>0.0463</td>\n",
       "      <td>0.0463</td>\n",
       "      <td>0.0436</td>\n",
       "      <td>-0.0112</td>\n",
       "      <td>-0.0112</td>\n",
       "      <td>-0.0112</td>\n",
       "      <td>-0.0112</td>\n",
       "      <td>0.0834</td>\n",
       "      <td>0.0468</td>\n",
       "      <td>0.0528</td>\n",
       "      <td>...</td>\n",
       "      <td>0.0</td>\n",
       "      <td>0.0</td>\n",
       "      <td>0.0</td>\n",
       "      <td>0.0</td>\n",
       "      <td>0.0</td>\n",
       "      <td>0.0</td>\n",
       "      <td>0.0</td>\n",
       "      <td>0.0</td>\n",
       "      <td>0.0</td>\n",
       "      <td>8</td>\n",
       "    </tr>\n",
       "  </tbody>\n",
       "</table>\n",
       "<p>5 rows × 23201 columns</p>\n",
       "</div>"
      ],
      "text/plain": [
       "       1.0  503538.0  29974.0     2.0  144571.0  144568.0     3.0  53947.0  \\\n",
       "3  -0.0324   -0.0324  -0.4928 -0.0657   -0.0657   -0.0657 -0.0657  -0.0390   \n",
       "7  -0.0762   -0.0762  -0.0025  0.4486    0.4486    0.4486  0.4486  -0.0574   \n",
       "10  0.0346    0.0346  -0.0522 -0.3816   -0.3816   -0.3816 -0.3816  -0.0155   \n",
       "15  0.2934    0.2934  -0.3050  0.1603    0.1603    0.1603  0.1603  -0.2881   \n",
       "16  0.0463    0.0463   0.0436 -0.0112   -0.0112   -0.0112 -0.0112   0.0834   \n",
       "\n",
       "    51146.0  100506677.0  ...    3553.0  3551.0  3557.0  6535.0  3936.0  \\\n",
       "3    0.0518       0.4291  ...       0.0     0.0     0.0     0.0     0.0   \n",
       "7   -0.0303      -0.0712  ...       0.0     0.0     0.0     0.0     0.0   \n",
       "10  -0.2675      -0.7758  ...       0.0     0.0     0.0     0.0     0.0   \n",
       "15   0.2831       0.0613  ...       0.0     0.0     0.0     0.0     0.0   \n",
       "16   0.0468       0.0528  ...       0.0     0.0     0.0     0.0     0.0   \n",
       "\n",
       "    3716.0  7006.0  1869.0  23013.0  Sites  \n",
       "3      0.0     0.0     0.0      0.0     26  \n",
       "7      1.0     1.0     0.0      1.0     17  \n",
       "10     0.0     0.0     0.0      0.0      6  \n",
       "15     0.0     0.0     0.0      0.0     26  \n",
       "16     0.0     0.0     0.0      0.0      8  \n",
       "\n",
       "[5 rows x 23201 columns]"
      ]
     },
     "execution_count": 31,
     "metadata": {},
     "output_type": "execute_result"
    }
   ],
   "source": [
    "just_copy_num, just_copy_num_pd = one_hot (just_copy_num_pd)\n",
    "just_copy_num_pd.head()"
   ]
  },
  {
   "cell_type": "code",
   "execution_count": 32,
   "metadata": {
    "collapsed": false
   },
   "outputs": [
    {
     "data": {
      "image/png": "[encoded data removed]",
      "text/plain": [
       "<matplotlib.figure.Figure at 0x11525b150>"
      ]
     },
     "metadata": {},
     "output_type": "display_data"
    }
   ],
   "source": [
    "cn_scaled = preprocessing.scale(just_copy_num)\n",
    "\n",
    "x_train, x_test, y_train, y_test = train_test_split(cn_scaled, master_auc_scaled, test_size=0.5, random_state=42)\n",
    "y_test = y_test.flatten()\n",
    "y_train = y_train.flatten()\n",
    "\n",
    "# calculated r_2 values\n",
    "linreg_y_pred_cn, linreg_r2_cn = test_model (linreg)\n",
    "svr_y_pred_cn, svr_r2_cn = test_model (svr)\n",
    "rf_y_pred_cn, rf_r2_cn = test_model (rf)\n",
    "y_pred_lasso_cn, r2_lasso_cn = test_model (lasso)\n",
    "y_pred_ridge_cn, r2_ridge_cn = test_model (ridge)\n",
    "\n",
    "fig_all, ax = plt.subplots(1, 5, figsize=(20, 5))\n",
    "ax[0] = draw_plot (ax[0], linreg_y_pred_cn, \"Linear Regression\", linreg_r2_cn)\n",
    "ax[1] = draw_plot (ax[1], svr_y_pred_cn, \"SVM\", svr_r2_cn)\n",
    "ax[2] = draw_plot (ax[2], rf_y_pred_cn, \"Random Forest\", rf_r2_cn)\n",
    "ax[3] = draw_plot (ax[3], y_pred_lasso_cn, \"Lasso\", r2_lasso_cn)\n",
    "ax[4] = draw_plot (ax[4], y_pred_ridge_cn, \"Ridge\", r2_ridge_cn)"
   ]
  },
  {
   "cell_type": "markdown",
   "metadata": {},
   "source": [
    "### PCA"
   ]
  },
  {
   "cell_type": "markdown",
   "metadata": {},
   "source": [
    "---"
   ]
  },
  {
   "cell_type": "code",
   "execution_count": 33,
   "metadata": {
    "collapsed": false
   },
   "outputs": [
    {
     "name": "stdout",
     "output_type": "stream",
     "text": [
      "Amount of Variance explained by each component:  [ 0.21508018  0.03128319  0.02774346]\n"
     ]
    },
    {
     "data": {
      "text/html": [
       "<div>\n",
       "<table border=\"1\" class=\"dataframe\">\n",
       "  <thead>\n",
       "    <tr style=\"text-align: right;\">\n",
       "      <th></th>\n",
       "      <th>0</th>\n",
       "      <th>1</th>\n",
       "      <th>2</th>\n",
       "    </tr>\n",
       "  </thead>\n",
       "  <tbody>\n",
       "    <tr>\n",
       "      <th>3</th>\n",
       "      <td>-0.040656</td>\n",
       "      <td>0.030052</td>\n",
       "      <td>0.026181</td>\n",
       "    </tr>\n",
       "    <tr>\n",
       "      <th>7</th>\n",
       "      <td>-0.030637</td>\n",
       "      <td>0.079081</td>\n",
       "      <td>-0.024067</td>\n",
       "    </tr>\n",
       "    <tr>\n",
       "      <th>10</th>\n",
       "      <td>-0.045105</td>\n",
       "      <td>-0.038281</td>\n",
       "      <td>-0.049875</td>\n",
       "    </tr>\n",
       "    <tr>\n",
       "      <th>15</th>\n",
       "      <td>-0.034406</td>\n",
       "      <td>0.032625</td>\n",
       "      <td>0.069968</td>\n",
       "    </tr>\n",
       "    <tr>\n",
       "      <th>16</th>\n",
       "      <td>-0.046971</td>\n",
       "      <td>0.063149</td>\n",
       "      <td>-0.011356</td>\n",
       "    </tr>\n",
       "  </tbody>\n",
       "</table>\n",
       "</div>"
      ],
      "text/plain": [
       "           0         1         2\n",
       "3  -0.040656  0.030052  0.026181\n",
       "7  -0.030637  0.079081 -0.024067\n",
       "10 -0.045105 -0.038281 -0.049875\n",
       "15 -0.034406  0.032625  0.069968\n",
       "16 -0.046971  0.063149 -0.011356"
      ]
     },
     "execution_count": 33,
     "metadata": {},
     "output_type": "execute_result"
    }
   ],
   "source": [
    "master_cclid_pd = master_no_auc_pd.transpose()\n",
    "master_cclid = master_cclid_pd.as_matrix()\n",
    "pca = PCA(n_components=3)\n",
    "scaled_data = preprocessing.scale(master_cclid)\n",
    "pca.fit(scaled_data)    \n",
    "pca.transform(scaled_data)\n",
    "pca_components_pd = pd.DataFrame(data = pca.components_, columns = master_cclid_pd.columns.values).transpose()\n",
    "pca_components = pca_components_pd.as_matrix()\n",
    "print \"Amount of Variance explained by each component: \", pca.explained_variance_ratio_\n",
    "pca_components_pd.head()"
   ]
  },
  {
   "cell_type": "code",
   "execution_count": 34,
   "metadata": {
    "collapsed": false
   },
   "outputs": [
    {
     "name": "stderr",
     "output_type": "stream",
     "text": [
      "/Users/christine/anaconda/lib/python2.7/site-packages/numpy/lib/polynomial.py:595: RankWarning: Polyfit may be poorly conditioned\n",
      "  warnings.warn(msg, RankWarning)\n"
     ]
    },
    {
     "data": {
      "image/png": "[encoded data removed]",
      "text/plain": [
       "<matplotlib.figure.Figure at 0x1223bd310>"
      ]
     },
     "metadata": {},
     "output_type": "display_data"
    }
   ],
   "source": [
    "x_train, x_test, y_train, y_test = train_test_split(pca_components, master_auc_scaled, test_size=0.5, random_state=42)\n",
    "y_test = y_test.flatten()\n",
    "y_train = y_train.flatten()\n",
    "\n",
    "# calculated r_2 values\n",
    "y_pred_linreg_PCA, r2_linreg_PCA = test_model (linreg)\n",
    "y_pred_svr_PCA, r2_svr_PCA = test_model (svr)\n",
    "y_pred_rf_PCA, r2_rf_PCA = test_model (rf)\n",
    "y_pred_lasso_PCA, r2_lasso_PCA = test_model (lasso)\n",
    "y_pred_ridge_PCA, r2_ridge_PCA = test_model (ridge)\n",
    "\n",
    "fig_all, ax = plt.subplots(1, 5, figsize=(20, 5))\n",
    "ax[0] = draw_plot (ax[0], y_pred_linreg_PCA, \"Linear Regression\", r2_linreg_PCA)\n",
    "ax[1] = draw_plot (ax[1], y_pred_svr_PCA, \"SVR\", r2_svr_PCA)\n",
    "ax[2] = draw_plot (ax[2], y_pred_rf_PCA, \"Random Forest\", r2_rf_PCA)\n",
    "ax[3] = draw_plot (ax[3], y_pred_lasso_PCA, \"Lasso\", r2_lasso_PCA)\n",
    "ax[4] = draw_plot (ax[4], y_pred_ridge_PCA, \"Ridge\", r2_ridge_PCA)"
   ]
  },
  {
   "cell_type": "code",
   "execution_count": 35,
   "metadata": {
    "collapsed": false
   },
   "outputs": [
    {
     "data": {
      "text/html": [
       "<div>\n",
       "<table border=\"1\" class=\"dataframe\">\n",
       "  <thead>\n",
       "    <tr style=\"text-align: right;\">\n",
       "      <th></th>\n",
       "      <th>Lasso</th>\n",
       "      <th>Linear Regression</th>\n",
       "      <th>Random Forest</th>\n",
       "      <th>Ridge</th>\n",
       "      <th>Support Vector Machine</th>\n",
       "    </tr>\n",
       "  </thead>\n",
       "  <tbody>\n",
       "    <tr>\n",
       "      <th>All</th>\n",
       "      <td>-0.060803</td>\n",
       "      <td>-4.991153e-01</td>\n",
       "      <td>-0.043414</td>\n",
       "      <td>-0.498250</td>\n",
       "      <td>-0.036263</td>\n",
       "    </tr>\n",
       "    <tr>\n",
       "      <th>Mutation Only</th>\n",
       "      <td>-0.046157</td>\n",
       "      <td>-9.411269e+25</td>\n",
       "      <td>-0.123250</td>\n",
       "      <td>-3.341939</td>\n",
       "      <td>-0.104806</td>\n",
       "    </tr>\n",
       "    <tr>\n",
       "      <th>Copy Number Only</th>\n",
       "      <td>-0.038416</td>\n",
       "      <td>-6.848189e-01</td>\n",
       "      <td>-0.024560</td>\n",
       "      <td>-0.684423</td>\n",
       "      <td>-0.028006</td>\n",
       "    </tr>\n",
       "    <tr>\n",
       "      <th>PCA</th>\n",
       "      <td>-0.011782</td>\n",
       "      <td>-4.555544e-02</td>\n",
       "      <td>-0.177936</td>\n",
       "      <td>-0.008624</td>\n",
       "      <td>-0.013902</td>\n",
       "    </tr>\n",
       "  </tbody>\n",
       "</table>\n",
       "</div>"
      ],
      "text/plain": [
       "                     Lasso  Linear Regression  Random Forest     Ridge  \\\n",
       "All              -0.060803      -4.991153e-01      -0.043414 -0.498250   \n",
       "Mutation Only    -0.046157      -9.411269e+25      -0.123250 -3.341939   \n",
       "Copy Number Only -0.038416      -6.848189e-01      -0.024560 -0.684423   \n",
       "PCA              -0.011782      -4.555544e-02      -0.177936 -0.008624   \n",
       "\n",
       "                  Support Vector Machine  \n",
       "All                            -0.036263  \n",
       "Mutation Only                  -0.104806  \n",
       "Copy Number Only               -0.028006  \n",
       "PCA                            -0.013902  "
      ]
     },
     "execution_count": 35,
     "metadata": {},
     "output_type": "execute_result"
    }
   ],
   "source": [
    "score_df = pd.DataFrame({'Linear Regression': [linreg_r2, linreg_r2_mut, linreg_r2_cn, r2_linreg_PCA],\n",
    "                         'Support Vector Machine': [svr_r2, svr_r2_mut, svr_r2_cn, r2_svr_PCA],\n",
    "                         'Random Forest': [rf_r2, rf_r2_mut, rf_r2_cn, r2_rf_PCA],\n",
    "                         'Lasso': [r2_lasso, r2_lasso_mut, r2_lasso_cn, r2_lasso_PCA],\n",
    "                         'Ridge': [r2_ridge, r2_ridge_mut, r2_ridge_cn, r2_ridge_PCA]}, \n",
    "                       index=[\"All\", \"Mutation Only\", \"Copy Number Only\", \"PCA\"])\n",
    "score_df"
   ]
  },
  {
   "cell_type": "code",
   "execution_count": null,
   "metadata": {
    "collapsed": true
   },
   "outputs": [],
   "source": []
  }
 ],
 "metadata": {
  "kernelspec": {
   "display_name": "Python 2",
   "language": "python",
   "name": "python2"
  },
  "language_info": {
   "codemirror_mode": {
    "name": "ipython",
    "version": 2
   },
   "file_extension": ".py",
   "mimetype": "text/x-python",
   "name": "python",
   "nbconvert_exporter": "python",
   "pygments_lexer": "ipython2",
   "version": "2.7.13"
  }
 },
 "nbformat": 4,
 "nbformat_minor": 2
}
