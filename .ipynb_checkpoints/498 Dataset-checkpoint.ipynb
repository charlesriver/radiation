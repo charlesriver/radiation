{
 "cells": [
  {
   "cell_type": "code",
   "execution_count": 2,
   "metadata": {
    "collapsed": false
   },
   "outputs": [
    {
     "data": {
      "text/html": [
       "<script>\n",
       "code_show=true; \n",
       "function code_toggle() {\n",
       " if (code_show){\n",
       " $('div.input').hide();\n",
       " } else {\n",
       " $('div.input').show();\n",
       " }\n",
       " code_show = !code_show\n",
       "} \n",
       "$( document ).ready(code_toggle);\n",
       "</script>\n",
       "<form action=\"javascript:code_toggle()\"><input type=\"submit\" value=\"Click here to toggle on/off the raw code.\"></form>"
      ],
      "text/plain": [
       "<IPython.core.display.HTML object>"
      ]
     },
     "execution_count": 2,
     "metadata": {},
     "output_type": "execute_result"
    }
   ],
   "source": [
    "from IPython.display import HTML\n",
    "\n",
    "HTML('''<script>\n",
    "code_show=true; \n",
    "function code_toggle() {\n",
    " if (code_show){\n",
    " $('div.input').hide();\n",
    " } else {\n",
    " $('div.input').show();\n",
    " }\n",
    " code_show = !code_show\n",
    "} \n",
    "$( document ).ready(code_toggle);\n",
    "</script>\n",
    "<form action=\"javascript:code_toggle()\"><input type=\"submit\" value=\"Click here to toggle on/off the raw code.\"></form>''')"
   ]
  },
  {
   "cell_type": "markdown",
   "metadata": {},
   "source": [
    "<h1 align=\"center\"> Gene Selection </h1>\n",
    "<h3 align=\"center\"> Christine Zhang </h3>"
   ]
  },
  {
   "cell_type": "markdown",
   "metadata": {},
   "source": [
    "----"
   ]
  },
  {
   "cell_type": "code",
   "execution_count": 1,
   "metadata": {
    "collapsed": true
   },
   "outputs": [],
   "source": [
    "import numpy as np\n",
    "import pandas as pd\n",
    "import scipy as sp\n",
    "import pickle\n",
    "from sklearn import preprocessing\n",
    "from sklearn.linear_model import LinearRegression\n",
    "from sklearn.ensemble import RandomForestRegressor\n",
    "from sklearn import linear_model\n",
    "from sklearn.model_selection import train_test_split\n",
    "from sklearn.svm import SVR\n",
    "import matplotlib.pyplot as plt\n",
    "from sklearn.decomposition import PCA\n",
    "%matplotlib inline"
   ]
  },
  {
   "cell_type": "markdown",
   "metadata": {},
   "source": [
    "### Import Files and Prep Data"
   ]
  },
  {
   "cell_type": "markdown",
   "metadata": {},
   "source": [
    "---"
   ]
  },
  {
   "cell_type": "code",
   "execution_count": 2,
   "metadata": {
    "collapsed": false
   },
   "outputs": [
    {
     "data": {
      "text/html": [
       "<div>\n",
       "<table border=\"1\" class=\"dataframe\">\n",
       "  <thead>\n",
       "    <tr style=\"text-align: right;\">\n",
       "      <th></th>\n",
       "      <th>0</th>\n",
       "      <th>1</th>\n",
       "      <th>2</th>\n",
       "      <th>3</th>\n",
       "      <th>4</th>\n",
       "      <th>5</th>\n",
       "      <th>6</th>\n",
       "      <th>7</th>\n",
       "      <th>8</th>\n",
       "      <th>9</th>\n",
       "      <th>...</th>\n",
       "      <th>488</th>\n",
       "      <th>489</th>\n",
       "      <th>490</th>\n",
       "      <th>491</th>\n",
       "      <th>492</th>\n",
       "      <th>493</th>\n",
       "      <th>494</th>\n",
       "      <th>495</th>\n",
       "      <th>496</th>\n",
       "      <th>497</th>\n",
       "    </tr>\n",
       "  </thead>\n",
       "  <tbody>\n",
       "    <tr>\n",
       "      <th>0</th>\n",
       "      <td>3</td>\n",
       "      <td>7</td>\n",
       "      <td>10</td>\n",
       "      <td>15</td>\n",
       "      <td>16</td>\n",
       "      <td>19</td>\n",
       "      <td>21</td>\n",
       "      <td>22</td>\n",
       "      <td>23</td>\n",
       "      <td>25</td>\n",
       "      <td>...</td>\n",
       "      <td>1271</td>\n",
       "      <td>1273</td>\n",
       "      <td>1278</td>\n",
       "      <td>1279</td>\n",
       "      <td>1280</td>\n",
       "      <td>1281</td>\n",
       "      <td>1282</td>\n",
       "      <td>1283</td>\n",
       "      <td>1285</td>\n",
       "      <td>1286</td>\n",
       "    </tr>\n",
       "  </tbody>\n",
       "</table>\n",
       "<p>1 rows × 498 columns</p>\n",
       "</div>"
      ],
      "text/plain": [
       "   0    1    2    3    4    5    6    7    8    9    ...    488   489   490  \\\n",
       "0    3    7   10   15   16   19   21   22   23   25  ...   1271  1273  1278   \n",
       "\n",
       "    491   492   493   494   495   496   497  \n",
       "0  1279  1280  1281  1282  1283  1285  1286  \n",
       "\n",
       "[1 rows x 498 columns]"
      ]
     },
     "execution_count": 2,
     "metadata": {},
     "output_type": "execute_result"
    }
   ],
   "source": [
    "ccl_pd = pd.read_csv('datasets_498/masterccleids.csv', header=None, sep =\",\")\n",
    "ccl = ccl_pd.as_matrix()\n",
    "ccl_pd.head()"
   ]
  },
  {
   "cell_type": "code",
   "execution_count": 3,
   "metadata": {
    "collapsed": false
   },
   "outputs": [
    {
     "data": {
      "text/html": [
       "<div>\n",
       "<table border=\"1\" class=\"dataframe\">\n",
       "  <thead>\n",
       "    <tr style=\"text-align: right;\">\n",
       "      <th></th>\n",
       "      <th>3</th>\n",
       "      <th>7</th>\n",
       "      <th>10</th>\n",
       "      <th>15</th>\n",
       "      <th>16</th>\n",
       "      <th>19</th>\n",
       "      <th>21</th>\n",
       "      <th>22</th>\n",
       "      <th>23</th>\n",
       "      <th>25</th>\n",
       "      <th>...</th>\n",
       "      <th>1271</th>\n",
       "      <th>1273</th>\n",
       "      <th>1278</th>\n",
       "      <th>1279</th>\n",
       "      <th>1280</th>\n",
       "      <th>1281</th>\n",
       "      <th>1282</th>\n",
       "      <th>1283</th>\n",
       "      <th>1285</th>\n",
       "      <th>1286</th>\n",
       "    </tr>\n",
       "  </thead>\n",
       "  <tbody>\n",
       "    <tr>\n",
       "      <th>0</th>\n",
       "      <td>2.473</td>\n",
       "      <td>2.142</td>\n",
       "      <td>3.38</td>\n",
       "      <td>3.374</td>\n",
       "      <td>3.123</td>\n",
       "      <td>3.779</td>\n",
       "      <td>3.471</td>\n",
       "      <td>2.625</td>\n",
       "      <td>4.677</td>\n",
       "      <td>2.751</td>\n",
       "      <td>...</td>\n",
       "      <td>2.469</td>\n",
       "      <td>3.071</td>\n",
       "      <td>5.351</td>\n",
       "      <td>3.929</td>\n",
       "      <td>3.912</td>\n",
       "      <td>4.913</td>\n",
       "      <td>3.755</td>\n",
       "      <td>1.712</td>\n",
       "      <td>4.61</td>\n",
       "      <td>5.46</td>\n",
       "    </tr>\n",
       "  </tbody>\n",
       "</table>\n",
       "<p>1 rows × 498 columns</p>\n",
       "</div>"
      ],
      "text/plain": [
       "    3      7     10     15     16     19     21     22     23     25    ...   \\\n",
       "0  2.473  2.142  3.38  3.374  3.123  3.779  3.471  2.625  4.677  2.751  ...    \n",
       "\n",
       "    1271   1273   1278   1279   1280   1281   1282   1283  1285  1286  \n",
       "0  2.469  3.071  5.351  3.929  3.912  4.913  3.755  1.712  4.61  5.46  \n",
       "\n",
       "[1 rows x 498 columns]"
      ]
     },
     "execution_count": 3,
     "metadata": {},
     "output_type": "execute_result"
    }
   ],
   "source": [
    "auc_trans_pd = pd.read_csv('datasets_498/auc.csv', names = ccl[0], sep =\",\")\n",
    "auc_trans_pd.head()"
   ]
  },
  {
   "cell_type": "code",
   "execution_count": 4,
   "metadata": {
    "collapsed": false
   },
   "outputs": [
    {
     "data": {
      "text/html": [
       "<div>\n",
       "<table border=\"1\" class=\"dataframe\">\n",
       "  <thead>\n",
       "    <tr style=\"text-align: right;\">\n",
       "      <th></th>\n",
       "      <th>0</th>\n",
       "    </tr>\n",
       "  </thead>\n",
       "  <tbody>\n",
       "    <tr>\n",
       "      <th>3</th>\n",
       "      <td>2.473</td>\n",
       "    </tr>\n",
       "    <tr>\n",
       "      <th>7</th>\n",
       "      <td>2.142</td>\n",
       "    </tr>\n",
       "    <tr>\n",
       "      <th>10</th>\n",
       "      <td>3.380</td>\n",
       "    </tr>\n",
       "    <tr>\n",
       "      <th>15</th>\n",
       "      <td>3.374</td>\n",
       "    </tr>\n",
       "    <tr>\n",
       "      <th>16</th>\n",
       "      <td>3.123</td>\n",
       "    </tr>\n",
       "  </tbody>\n",
       "</table>\n",
       "</div>"
      ],
      "text/plain": [
       "        0\n",
       "3   2.473\n",
       "7   2.142\n",
       "10  3.380\n",
       "15  3.374\n",
       "16  3.123"
      ]
     },
     "execution_count": 4,
     "metadata": {},
     "output_type": "execute_result"
    }
   ],
   "source": [
    "auc_pd = auc_trans_pd.transpose()\n",
    "auc = auc_pd.as_matrix()\n",
    "auc_pd.head()"
   ]
  },
  {
   "cell_type": "code",
   "execution_count": 5,
   "metadata": {
    "collapsed": false
   },
   "outputs": [
    {
     "name": "stdout",
     "output_type": "stream",
     "text": [
      "(18543, 1)\n"
     ]
    },
    {
     "data": {
      "text/html": [
       "<div>\n",
       "<table border=\"1\" class=\"dataframe\">\n",
       "  <thead>\n",
       "    <tr style=\"text-align: right;\">\n",
       "      <th></th>\n",
       "      <th>0</th>\n",
       "    </tr>\n",
       "  </thead>\n",
       "  <tbody>\n",
       "    <tr>\n",
       "      <th>0</th>\n",
       "      <td>100009676</td>\n",
       "    </tr>\n",
       "    <tr>\n",
       "      <th>1</th>\n",
       "      <td>10000</td>\n",
       "    </tr>\n",
       "    <tr>\n",
       "      <th>2</th>\n",
       "      <td>10001</td>\n",
       "    </tr>\n",
       "    <tr>\n",
       "      <th>3</th>\n",
       "      <td>10002</td>\n",
       "    </tr>\n",
       "    <tr>\n",
       "      <th>4</th>\n",
       "      <td>10003</td>\n",
       "    </tr>\n",
       "  </tbody>\n",
       "</table>\n",
       "</div>"
      ],
      "text/plain": [
       "           0\n",
       "0  100009676\n",
       "1      10000\n",
       "2      10001\n",
       "3      10002\n",
       "4      10003"
      ]
     },
     "execution_count": 5,
     "metadata": {},
     "output_type": "execute_result"
    }
   ],
   "source": [
    "geneexp_header_pd = pd.read_csv('datasets_498/geneexp_entrezid.csv', header = None, sep =\",\")\n",
    "geneexp_header = geneexp_header_pd.as_matrix()\n",
    "print geneexp_header_pd.shape\n",
    "geneexp_header_pd.head()"
   ]
  },
  {
   "cell_type": "code",
   "execution_count": 6,
   "metadata": {
    "collapsed": false
   },
   "outputs": [
    {
     "name": "stdout",
     "output_type": "stream",
     "text": [
      "(18543, 498)\n"
     ]
    },
    {
     "data": {
      "text/html": [
       "<div>\n",
       "<table border=\"1\" class=\"dataframe\">\n",
       "  <thead>\n",
       "    <tr style=\"text-align: right;\">\n",
       "      <th></th>\n",
       "      <th>3</th>\n",
       "      <th>7</th>\n",
       "      <th>10</th>\n",
       "      <th>15</th>\n",
       "      <th>16</th>\n",
       "      <th>19</th>\n",
       "      <th>21</th>\n",
       "      <th>22</th>\n",
       "      <th>23</th>\n",
       "      <th>25</th>\n",
       "      <th>...</th>\n",
       "      <th>1271</th>\n",
       "      <th>1273</th>\n",
       "      <th>1278</th>\n",
       "      <th>1279</th>\n",
       "      <th>1280</th>\n",
       "      <th>1281</th>\n",
       "      <th>1282</th>\n",
       "      <th>1283</th>\n",
       "      <th>1285</th>\n",
       "      <th>1286</th>\n",
       "    </tr>\n",
       "  </thead>\n",
       "  <tbody>\n",
       "    <tr>\n",
       "      <th>100009676</th>\n",
       "      <td>5.979812</td>\n",
       "      <td>6.079415</td>\n",
       "      <td>5.373842</td>\n",
       "      <td>6.025009</td>\n",
       "      <td>5.444892</td>\n",
       "      <td>5.838828</td>\n",
       "      <td>6.044784</td>\n",
       "      <td>6.110702</td>\n",
       "      <td>5.957453</td>\n",
       "      <td>5.353808</td>\n",
       "      <td>...</td>\n",
       "      <td>5.914540</td>\n",
       "      <td>5.449070</td>\n",
       "      <td>5.509434</td>\n",
       "      <td>6.467376</td>\n",
       "      <td>5.225789</td>\n",
       "      <td>5.056441</td>\n",
       "      <td>5.648520</td>\n",
       "      <td>5.431827</td>\n",
       "      <td>5.229068</td>\n",
       "      <td>5.173519</td>\n",
       "    </tr>\n",
       "    <tr>\n",
       "      <th>10000</th>\n",
       "      <td>6.595651</td>\n",
       "      <td>4.521625</td>\n",
       "      <td>6.631749</td>\n",
       "      <td>7.510764</td>\n",
       "      <td>7.544216</td>\n",
       "      <td>7.328450</td>\n",
       "      <td>8.240295</td>\n",
       "      <td>7.339923</td>\n",
       "      <td>7.133862</td>\n",
       "      <td>8.464749</td>\n",
       "      <td>...</td>\n",
       "      <td>8.165614</td>\n",
       "      <td>7.180522</td>\n",
       "      <td>5.359294</td>\n",
       "      <td>6.755762</td>\n",
       "      <td>6.430797</td>\n",
       "      <td>6.566739</td>\n",
       "      <td>6.907085</td>\n",
       "      <td>6.997253</td>\n",
       "      <td>5.847498</td>\n",
       "      <td>4.367224</td>\n",
       "    </tr>\n",
       "    <tr>\n",
       "      <th>10001</th>\n",
       "      <td>9.663415</td>\n",
       "      <td>8.845639</td>\n",
       "      <td>10.001350</td>\n",
       "      <td>9.289334</td>\n",
       "      <td>8.715909</td>\n",
       "      <td>8.410834</td>\n",
       "      <td>9.613478</td>\n",
       "      <td>9.227492</td>\n",
       "      <td>8.561879</td>\n",
       "      <td>8.308694</td>\n",
       "      <td>...</td>\n",
       "      <td>8.862251</td>\n",
       "      <td>8.676574</td>\n",
       "      <td>9.098502</td>\n",
       "      <td>9.503690</td>\n",
       "      <td>9.022547</td>\n",
       "      <td>9.840038</td>\n",
       "      <td>9.083045</td>\n",
       "      <td>8.351265</td>\n",
       "      <td>9.277778</td>\n",
       "      <td>9.036209</td>\n",
       "    </tr>\n",
       "    <tr>\n",
       "      <th>10002</th>\n",
       "      <td>4.040661</td>\n",
       "      <td>3.768181</td>\n",
       "      <td>3.610522</td>\n",
       "      <td>3.685390</td>\n",
       "      <td>4.173643</td>\n",
       "      <td>3.776557</td>\n",
       "      <td>4.021159</td>\n",
       "      <td>3.547729</td>\n",
       "      <td>3.898854</td>\n",
       "      <td>3.589157</td>\n",
       "      <td>...</td>\n",
       "      <td>3.709869</td>\n",
       "      <td>3.704990</td>\n",
       "      <td>4.277868</td>\n",
       "      <td>4.014417</td>\n",
       "      <td>4.223398</td>\n",
       "      <td>3.986096</td>\n",
       "      <td>4.068887</td>\n",
       "      <td>3.556416</td>\n",
       "      <td>4.645180</td>\n",
       "      <td>4.055940</td>\n",
       "    </tr>\n",
       "    <tr>\n",
       "      <th>10003</th>\n",
       "      <td>4.159523</td>\n",
       "      <td>4.044822</td>\n",
       "      <td>4.242035</td>\n",
       "      <td>3.656942</td>\n",
       "      <td>3.663081</td>\n",
       "      <td>4.047007</td>\n",
       "      <td>4.597602</td>\n",
       "      <td>4.252498</td>\n",
       "      <td>3.742255</td>\n",
       "      <td>3.612253</td>\n",
       "      <td>...</td>\n",
       "      <td>3.764959</td>\n",
       "      <td>4.515754</td>\n",
       "      <td>3.751250</td>\n",
       "      <td>3.879979</td>\n",
       "      <td>3.825131</td>\n",
       "      <td>3.752928</td>\n",
       "      <td>3.977737</td>\n",
       "      <td>3.786633</td>\n",
       "      <td>3.665520</td>\n",
       "      <td>3.903062</td>\n",
       "    </tr>\n",
       "  </tbody>\n",
       "</table>\n",
       "<p>5 rows × 498 columns</p>\n",
       "</div>"
      ],
      "text/plain": [
       "               3         7          10        15        16        19    \\\n",
       "100009676  5.979812  6.079415   5.373842  6.025009  5.444892  5.838828   \n",
       "10000      6.595651  4.521625   6.631749  7.510764  7.544216  7.328450   \n",
       "10001      9.663415  8.845639  10.001350  9.289334  8.715909  8.410834   \n",
       "10002      4.040661  3.768181   3.610522  3.685390  4.173643  3.776557   \n",
       "10003      4.159523  4.044822   4.242035  3.656942  3.663081  4.047007   \n",
       "\n",
       "               21        22        23        25      ...         1271  \\\n",
       "100009676  6.044784  6.110702  5.957453  5.353808    ...     5.914540   \n",
       "10000      8.240295  7.339923  7.133862  8.464749    ...     8.165614   \n",
       "10001      9.613478  9.227492  8.561879  8.308694    ...     8.862251   \n",
       "10002      4.021159  3.547729  3.898854  3.589157    ...     3.709869   \n",
       "10003      4.597602  4.252498  3.742255  3.612253    ...     3.764959   \n",
       "\n",
       "               1273      1278      1279      1280      1281      1282  \\\n",
       "100009676  5.449070  5.509434  6.467376  5.225789  5.056441  5.648520   \n",
       "10000      7.180522  5.359294  6.755762  6.430797  6.566739  6.907085   \n",
       "10001      8.676574  9.098502  9.503690  9.022547  9.840038  9.083045   \n",
       "10002      3.704990  4.277868  4.014417  4.223398  3.986096  4.068887   \n",
       "10003      4.515754  3.751250  3.879979  3.825131  3.752928  3.977737   \n",
       "\n",
       "               1283      1285      1286  \n",
       "100009676  5.431827  5.229068  5.173519  \n",
       "10000      6.997253  5.847498  4.367224  \n",
       "10001      8.351265  9.277778  9.036209  \n",
       "10002      3.556416  4.645180  4.055940  \n",
       "10003      3.786633  3.665520  3.903062  \n",
       "\n",
       "[5 rows x 498 columns]"
      ]
     },
     "execution_count": 6,
     "metadata": {},
     "output_type": "execute_result"
    }
   ],
   "source": [
    "geneexp_values_pd = pd.read_csv('datasets_498/geneexp_values.csv', names = ccl[0], sep =\",\")\n",
    "geneexp_values = geneexp_values_pd.as_matrix()\n",
    "print geneexp_values_pd.shape\n",
    "geneexp_values_pd.set_index(geneexp_header, inplace=True)\n",
    "geneexp_values_pd.head()"
   ]
  },
  {
   "cell_type": "code",
   "execution_count": 7,
   "metadata": {
    "collapsed": false
   },
   "outputs": [
    {
     "name": "stdout",
     "output_type": "stream",
     "text": [
      "(3235, 1)\n"
     ]
    },
    {
     "data": {
      "text/html": [
       "<div>\n",
       "<table border=\"1\" class=\"dataframe\">\n",
       "  <thead>\n",
       "    <tr style=\"text-align: right;\">\n",
       "      <th></th>\n",
       "      <th>0</th>\n",
       "    </tr>\n",
       "  </thead>\n",
       "  <tbody>\n",
       "    <tr>\n",
       "      <th>0</th>\n",
       "      <td>AAK1'</td>\n",
       "    </tr>\n",
       "    <tr>\n",
       "      <th>1</th>\n",
       "      <td>'AAK1_p.Q541'</td>\n",
       "    </tr>\n",
       "    <tr>\n",
       "      <th>2</th>\n",
       "      <td>'AAK1_p.Q541indel2&gt;Q'</td>\n",
       "    </tr>\n",
       "    <tr>\n",
       "      <th>3</th>\n",
       "      <td>AATK'</td>\n",
       "    </tr>\n",
       "    <tr>\n",
       "      <th>4</th>\n",
       "      <td>ABCA3'</td>\n",
       "    </tr>\n",
       "  </tbody>\n",
       "</table>\n",
       "</div>"
      ],
      "text/plain": [
       "                       0\n",
       "0                  AAK1'\n",
       "1          'AAK1_p.Q541'\n",
       "2  'AAK1_p.Q541indel2>Q'\n",
       "3                  AATK'\n",
       "4                 ABCA3'"
      ]
     },
     "execution_count": 7,
     "metadata": {},
     "output_type": "execute_result"
    }
   ],
   "source": [
    "mutation_header_pd = pd.read_csv('datasets_498/mutation_hugo.csv', header = None, sep = \" \")\n",
    "mutation_header = mutation_header_pd.as_matrix()\n",
    "print mutation_header_pd.shape\n",
    "mutation_header_pd.head()"
   ]
  },
  {
   "cell_type": "code",
   "execution_count": 8,
   "metadata": {
    "collapsed": false
   },
   "outputs": [
    {
     "name": "stdout",
     "output_type": "stream",
     "text": [
      "(3235, 498)\n"
     ]
    },
    {
     "data": {
      "text/html": [
       "<div>\n",
       "<table border=\"1\" class=\"dataframe\">\n",
       "  <thead>\n",
       "    <tr style=\"text-align: right;\">\n",
       "      <th></th>\n",
       "      <th>3</th>\n",
       "      <th>7</th>\n",
       "      <th>10</th>\n",
       "      <th>15</th>\n",
       "      <th>16</th>\n",
       "      <th>19</th>\n",
       "      <th>21</th>\n",
       "      <th>22</th>\n",
       "      <th>23</th>\n",
       "      <th>25</th>\n",
       "      <th>...</th>\n",
       "      <th>1271</th>\n",
       "      <th>1273</th>\n",
       "      <th>1278</th>\n",
       "      <th>1279</th>\n",
       "      <th>1280</th>\n",
       "      <th>1281</th>\n",
       "      <th>1282</th>\n",
       "      <th>1283</th>\n",
       "      <th>1285</th>\n",
       "      <th>1286</th>\n",
       "    </tr>\n",
       "  </thead>\n",
       "  <tbody>\n",
       "    <tr>\n",
       "      <th>0</th>\n",
       "      <td>1.0</td>\n",
       "      <td>1.0</td>\n",
       "      <td>0.0</td>\n",
       "      <td>0.0</td>\n",
       "      <td>0.0</td>\n",
       "      <td>0.0</td>\n",
       "      <td>1.0</td>\n",
       "      <td>0.0</td>\n",
       "      <td>1.0</td>\n",
       "      <td>0.0</td>\n",
       "      <td>...</td>\n",
       "      <td>0.0</td>\n",
       "      <td>0.0</td>\n",
       "      <td>0.0</td>\n",
       "      <td>0.0</td>\n",
       "      <td>1.0</td>\n",
       "      <td>0.0</td>\n",
       "      <td>1.0</td>\n",
       "      <td>0.0</td>\n",
       "      <td>0.0</td>\n",
       "      <td>0.0</td>\n",
       "    </tr>\n",
       "    <tr>\n",
       "      <th>1</th>\n",
       "      <td>1.0</td>\n",
       "      <td>0.0</td>\n",
       "      <td>0.0</td>\n",
       "      <td>0.0</td>\n",
       "      <td>0.0</td>\n",
       "      <td>0.0</td>\n",
       "      <td>1.0</td>\n",
       "      <td>0.0</td>\n",
       "      <td>1.0</td>\n",
       "      <td>0.0</td>\n",
       "      <td>...</td>\n",
       "      <td>0.0</td>\n",
       "      <td>0.0</td>\n",
       "      <td>0.0</td>\n",
       "      <td>0.0</td>\n",
       "      <td>1.0</td>\n",
       "      <td>0.0</td>\n",
       "      <td>1.0</td>\n",
       "      <td>0.0</td>\n",
       "      <td>0.0</td>\n",
       "      <td>0.0</td>\n",
       "    </tr>\n",
       "    <tr>\n",
       "      <th>2</th>\n",
       "      <td>1.0</td>\n",
       "      <td>0.0</td>\n",
       "      <td>0.0</td>\n",
       "      <td>0.0</td>\n",
       "      <td>0.0</td>\n",
       "      <td>0.0</td>\n",
       "      <td>1.0</td>\n",
       "      <td>0.0</td>\n",
       "      <td>1.0</td>\n",
       "      <td>0.0</td>\n",
       "      <td>...</td>\n",
       "      <td>0.0</td>\n",
       "      <td>0.0</td>\n",
       "      <td>0.0</td>\n",
       "      <td>0.0</td>\n",
       "      <td>1.0</td>\n",
       "      <td>0.0</td>\n",
       "      <td>1.0</td>\n",
       "      <td>0.0</td>\n",
       "      <td>0.0</td>\n",
       "      <td>0.0</td>\n",
       "    </tr>\n",
       "    <tr>\n",
       "      <th>3</th>\n",
       "      <td>0.0</td>\n",
       "      <td>0.0</td>\n",
       "      <td>0.0</td>\n",
       "      <td>0.0</td>\n",
       "      <td>0.0</td>\n",
       "      <td>0.0</td>\n",
       "      <td>0.0</td>\n",
       "      <td>0.0</td>\n",
       "      <td>0.0</td>\n",
       "      <td>0.0</td>\n",
       "      <td>...</td>\n",
       "      <td>0.0</td>\n",
       "      <td>0.0</td>\n",
       "      <td>0.0</td>\n",
       "      <td>0.0</td>\n",
       "      <td>0.0</td>\n",
       "      <td>0.0</td>\n",
       "      <td>0.0</td>\n",
       "      <td>0.0</td>\n",
       "      <td>0.0</td>\n",
       "      <td>0.0</td>\n",
       "    </tr>\n",
       "    <tr>\n",
       "      <th>4</th>\n",
       "      <td>0.0</td>\n",
       "      <td>0.0</td>\n",
       "      <td>0.0</td>\n",
       "      <td>0.0</td>\n",
       "      <td>1.0</td>\n",
       "      <td>0.0</td>\n",
       "      <td>0.0</td>\n",
       "      <td>0.0</td>\n",
       "      <td>0.0</td>\n",
       "      <td>0.0</td>\n",
       "      <td>...</td>\n",
       "      <td>0.0</td>\n",
       "      <td>0.0</td>\n",
       "      <td>0.0</td>\n",
       "      <td>0.0</td>\n",
       "      <td>0.0</td>\n",
       "      <td>0.0</td>\n",
       "      <td>0.0</td>\n",
       "      <td>0.0</td>\n",
       "      <td>0.0</td>\n",
       "      <td>0.0</td>\n",
       "    </tr>\n",
       "  </tbody>\n",
       "</table>\n",
       "<p>5 rows × 498 columns</p>\n",
       "</div>"
      ],
      "text/plain": [
       "   3     7     10    15    16    19    21    22    23    25    ...   1271  \\\n",
       "0   1.0   1.0   0.0   0.0   0.0   0.0   1.0   0.0   1.0   0.0  ...    0.0   \n",
       "1   1.0   0.0   0.0   0.0   0.0   0.0   1.0   0.0   1.0   0.0  ...    0.0   \n",
       "2   1.0   0.0   0.0   0.0   0.0   0.0   1.0   0.0   1.0   0.0  ...    0.0   \n",
       "3   0.0   0.0   0.0   0.0   0.0   0.0   0.0   0.0   0.0   0.0  ...    0.0   \n",
       "4   0.0   0.0   0.0   0.0   1.0   0.0   0.0   0.0   0.0   0.0  ...    0.0   \n",
       "\n",
       "   1273  1278  1279  1280  1281  1282  1283  1285  1286  \n",
       "0   0.0   0.0   0.0   1.0   0.0   1.0   0.0   0.0   0.0  \n",
       "1   0.0   0.0   0.0   1.0   0.0   1.0   0.0   0.0   0.0  \n",
       "2   0.0   0.0   0.0   1.0   0.0   1.0   0.0   0.0   0.0  \n",
       "3   0.0   0.0   0.0   0.0   0.0   0.0   0.0   0.0   0.0  \n",
       "4   0.0   0.0   0.0   0.0   0.0   0.0   0.0   0.0   0.0  \n",
       "\n",
       "[5 rows x 498 columns]"
      ]
     },
     "execution_count": 8,
     "metadata": {},
     "output_type": "execute_result"
    }
   ],
   "source": [
    "mutation_values_pd = pd.read_csv('datasets_498/mutation_value.csv', names = ccl[0], sep =\",\")\n",
    "mutation_values = mutation_values_pd.as_matrix()\n",
    "print mutation_values_pd.shape\n",
    "mutation_values_pd = mutation_values_pd.astype('float64')\n",
    "# mutation_values_pd.set_index(mutation_header, inplace=True)\n",
    "mutation_values_pd.head()"
   ]
  },
  {
   "cell_type": "code",
   "execution_count": 9,
   "metadata": {
    "collapsed": false
   },
   "outputs": [
    {
     "name": "stdout",
     "output_type": "stream",
     "text": [
      "(23174, 1)\n"
     ]
    },
    {
     "data": {
      "text/html": [
       "<div>\n",
       "<table border=\"1\" class=\"dataframe\">\n",
       "  <thead>\n",
       "    <tr style=\"text-align: right;\">\n",
       "      <th></th>\n",
       "      <th>0</th>\n",
       "    </tr>\n",
       "  </thead>\n",
       "  <tbody>\n",
       "    <tr>\n",
       "      <th>0</th>\n",
       "      <td>1</td>\n",
       "    </tr>\n",
       "    <tr>\n",
       "      <th>1</th>\n",
       "      <td>503538</td>\n",
       "    </tr>\n",
       "    <tr>\n",
       "      <th>2</th>\n",
       "      <td>29974</td>\n",
       "    </tr>\n",
       "    <tr>\n",
       "      <th>3</th>\n",
       "      <td>2</td>\n",
       "    </tr>\n",
       "    <tr>\n",
       "      <th>4</th>\n",
       "      <td>144571</td>\n",
       "    </tr>\n",
       "  </tbody>\n",
       "</table>\n",
       "</div>"
      ],
      "text/plain": [
       "        0\n",
       "0       1\n",
       "1  503538\n",
       "2   29974\n",
       "3       2\n",
       "4  144571"
      ]
     },
     "execution_count": 9,
     "metadata": {},
     "output_type": "execute_result"
    }
   ],
   "source": [
    "copynum_header_pd = pd.read_csv('datasets_498/copynum_entrezid.csv', header = None, sep =\",\")\n",
    "copynum_header = copynum_header_pd.as_matrix()\n",
    "print copynum_header_pd.shape\n",
    "copynum_header_pd.head()"
   ]
  },
  {
   "cell_type": "code",
   "execution_count": 10,
   "metadata": {
    "collapsed": false
   },
   "outputs": [
    {
     "name": "stdout",
     "output_type": "stream",
     "text": [
      "(23174, 498)\n"
     ]
    },
    {
     "data": {
      "text/html": [
       "<div>\n",
       "<table border=\"1\" class=\"dataframe\">\n",
       "  <thead>\n",
       "    <tr style=\"text-align: right;\">\n",
       "      <th></th>\n",
       "      <th>3</th>\n",
       "      <th>7</th>\n",
       "      <th>10</th>\n",
       "      <th>15</th>\n",
       "      <th>16</th>\n",
       "      <th>19</th>\n",
       "      <th>21</th>\n",
       "      <th>22</th>\n",
       "      <th>23</th>\n",
       "      <th>25</th>\n",
       "      <th>...</th>\n",
       "      <th>1271</th>\n",
       "      <th>1273</th>\n",
       "      <th>1278</th>\n",
       "      <th>1279</th>\n",
       "      <th>1280</th>\n",
       "      <th>1281</th>\n",
       "      <th>1282</th>\n",
       "      <th>1283</th>\n",
       "      <th>1285</th>\n",
       "      <th>1286</th>\n",
       "    </tr>\n",
       "  </thead>\n",
       "  <tbody>\n",
       "    <tr>\n",
       "      <th>1</th>\n",
       "      <td>-0.0324</td>\n",
       "      <td>-0.0762</td>\n",
       "      <td>0.0346</td>\n",
       "      <td>0.2934</td>\n",
       "      <td>0.0463</td>\n",
       "      <td>-0.2432</td>\n",
       "      <td>0.0985</td>\n",
       "      <td>-0.1109</td>\n",
       "      <td>0.1655</td>\n",
       "      <td>0.7457</td>\n",
       "      <td>...</td>\n",
       "      <td>-0.2609</td>\n",
       "      <td>-0.3295</td>\n",
       "      <td>-0.5956</td>\n",
       "      <td>-0.5522</td>\n",
       "      <td>-0.0281</td>\n",
       "      <td>-0.1666</td>\n",
       "      <td>0.5718</td>\n",
       "      <td>0.2424</td>\n",
       "      <td>0.1895</td>\n",
       "      <td>0.4302</td>\n",
       "    </tr>\n",
       "    <tr>\n",
       "      <th>503538</th>\n",
       "      <td>-0.0324</td>\n",
       "      <td>-0.0762</td>\n",
       "      <td>0.0346</td>\n",
       "      <td>0.2934</td>\n",
       "      <td>0.0463</td>\n",
       "      <td>-0.2432</td>\n",
       "      <td>0.0985</td>\n",
       "      <td>-0.1109</td>\n",
       "      <td>0.1655</td>\n",
       "      <td>0.7457</td>\n",
       "      <td>...</td>\n",
       "      <td>-0.2609</td>\n",
       "      <td>-0.3295</td>\n",
       "      <td>-0.5956</td>\n",
       "      <td>-0.5522</td>\n",
       "      <td>-0.0281</td>\n",
       "      <td>-0.1666</td>\n",
       "      <td>0.5718</td>\n",
       "      <td>0.2424</td>\n",
       "      <td>0.1895</td>\n",
       "      <td>0.4302</td>\n",
       "    </tr>\n",
       "    <tr>\n",
       "      <th>29974</th>\n",
       "      <td>-0.4928</td>\n",
       "      <td>-0.0025</td>\n",
       "      <td>-0.0522</td>\n",
       "      <td>-0.3050</td>\n",
       "      <td>0.0436</td>\n",
       "      <td>0.1438</td>\n",
       "      <td>-0.3561</td>\n",
       "      <td>-0.1415</td>\n",
       "      <td>-0.3390</td>\n",
       "      <td>-0.1974</td>\n",
       "      <td>...</td>\n",
       "      <td>-0.1827</td>\n",
       "      <td>-0.1941</td>\n",
       "      <td>0.2785</td>\n",
       "      <td>0.0867</td>\n",
       "      <td>0.1208</td>\n",
       "      <td>0.2966</td>\n",
       "      <td>-0.9912</td>\n",
       "      <td>-0.1204</td>\n",
       "      <td>0.0398</td>\n",
       "      <td>0.1423</td>\n",
       "    </tr>\n",
       "    <tr>\n",
       "      <th>2</th>\n",
       "      <td>-0.0657</td>\n",
       "      <td>0.4486</td>\n",
       "      <td>-0.3816</td>\n",
       "      <td>0.1603</td>\n",
       "      <td>-0.0112</td>\n",
       "      <td>0.0006</td>\n",
       "      <td>-0.1888</td>\n",
       "      <td>-0.1786</td>\n",
       "      <td>0.2086</td>\n",
       "      <td>-0.8266</td>\n",
       "      <td>...</td>\n",
       "      <td>-0.1841</td>\n",
       "      <td>-0.3723</td>\n",
       "      <td>0.4479</td>\n",
       "      <td>0.0099</td>\n",
       "      <td>0.3918</td>\n",
       "      <td>-0.1186</td>\n",
       "      <td>0.0701</td>\n",
       "      <td>-0.1141</td>\n",
       "      <td>0.9592</td>\n",
       "      <td>0.1203</td>\n",
       "    </tr>\n",
       "    <tr>\n",
       "      <th>144571</th>\n",
       "      <td>-0.0657</td>\n",
       "      <td>0.4486</td>\n",
       "      <td>-0.3816</td>\n",
       "      <td>0.1603</td>\n",
       "      <td>-0.0112</td>\n",
       "      <td>0.0006</td>\n",
       "      <td>-0.1888</td>\n",
       "      <td>-0.1786</td>\n",
       "      <td>0.2086</td>\n",
       "      <td>-0.8266</td>\n",
       "      <td>...</td>\n",
       "      <td>-0.1841</td>\n",
       "      <td>-0.3723</td>\n",
       "      <td>0.4479</td>\n",
       "      <td>0.0099</td>\n",
       "      <td>0.3918</td>\n",
       "      <td>-0.1186</td>\n",
       "      <td>0.0701</td>\n",
       "      <td>-0.1141</td>\n",
       "      <td>0.9592</td>\n",
       "      <td>0.1203</td>\n",
       "    </tr>\n",
       "  </tbody>\n",
       "</table>\n",
       "<p>5 rows × 498 columns</p>\n",
       "</div>"
      ],
      "text/plain": [
       "          3       7       10      15      16      19      21      22    \\\n",
       "1      -0.0324 -0.0762  0.0346  0.2934  0.0463 -0.2432  0.0985 -0.1109   \n",
       "503538 -0.0324 -0.0762  0.0346  0.2934  0.0463 -0.2432  0.0985 -0.1109   \n",
       "29974  -0.4928 -0.0025 -0.0522 -0.3050  0.0436  0.1438 -0.3561 -0.1415   \n",
       "2      -0.0657  0.4486 -0.3816  0.1603 -0.0112  0.0006 -0.1888 -0.1786   \n",
       "144571 -0.0657  0.4486 -0.3816  0.1603 -0.0112  0.0006 -0.1888 -0.1786   \n",
       "\n",
       "          23      25     ...      1271    1273    1278    1279    1280  \\\n",
       "1       0.1655  0.7457   ...   -0.2609 -0.3295 -0.5956 -0.5522 -0.0281   \n",
       "503538  0.1655  0.7457   ...   -0.2609 -0.3295 -0.5956 -0.5522 -0.0281   \n",
       "29974  -0.3390 -0.1974   ...   -0.1827 -0.1941  0.2785  0.0867  0.1208   \n",
       "2       0.2086 -0.8266   ...   -0.1841 -0.3723  0.4479  0.0099  0.3918   \n",
       "144571  0.2086 -0.8266   ...   -0.1841 -0.3723  0.4479  0.0099  0.3918   \n",
       "\n",
       "          1281    1282    1283    1285    1286  \n",
       "1      -0.1666  0.5718  0.2424  0.1895  0.4302  \n",
       "503538 -0.1666  0.5718  0.2424  0.1895  0.4302  \n",
       "29974   0.2966 -0.9912 -0.1204  0.0398  0.1423  \n",
       "2      -0.1186  0.0701 -0.1141  0.9592  0.1203  \n",
       "144571 -0.1186  0.0701 -0.1141  0.9592  0.1203  \n",
       "\n",
       "[5 rows x 498 columns]"
      ]
     },
     "execution_count": 10,
     "metadata": {},
     "output_type": "execute_result"
    }
   ],
   "source": [
    "copynum_values_pd = pd.read_csv('datasets_498/copynum_values.csv', names = ccl[0], sep =\",\")\n",
    "copynum_values = copynum_values_pd.as_matrix()\n",
    "print np.shape(copynum_values_pd)\n",
    "copynum_values_pd.set_index(copynum_header, inplace=True)\n",
    "copynum_values_pd.head()"
   ]
  },
  {
   "cell_type": "markdown",
   "metadata": {},
   "source": [
    "### Naive Testing"
   ]
  },
  {
   "cell_type": "markdown",
   "metadata": {},
   "source": [
    "---"
   ]
  },
  {
   "cell_type": "code",
   "execution_count": 11,
   "metadata": {
    "collapsed": false
   },
   "outputs": [
    {
     "name": "stdout",
     "output_type": "stream",
     "text": [
      "(41717, 498)\n"
     ]
    },
    {
     "data": {
      "text/html": [
       "<div>\n",
       "<table border=\"1\" class=\"dataframe\">\n",
       "  <thead>\n",
       "    <tr style=\"text-align: right;\">\n",
       "      <th></th>\n",
       "      <th>3</th>\n",
       "      <th>7</th>\n",
       "      <th>10</th>\n",
       "      <th>15</th>\n",
       "      <th>16</th>\n",
       "      <th>19</th>\n",
       "      <th>21</th>\n",
       "      <th>22</th>\n",
       "      <th>23</th>\n",
       "      <th>25</th>\n",
       "      <th>...</th>\n",
       "      <th>1271</th>\n",
       "      <th>1273</th>\n",
       "      <th>1278</th>\n",
       "      <th>1279</th>\n",
       "      <th>1280</th>\n",
       "      <th>1281</th>\n",
       "      <th>1282</th>\n",
       "      <th>1283</th>\n",
       "      <th>1285</th>\n",
       "      <th>1286</th>\n",
       "    </tr>\n",
       "  </thead>\n",
       "  <tbody>\n",
       "    <tr>\n",
       "      <th>1</th>\n",
       "      <td>-0.0324</td>\n",
       "      <td>-0.0762</td>\n",
       "      <td>0.0346</td>\n",
       "      <td>0.2934</td>\n",
       "      <td>0.0463</td>\n",
       "      <td>-0.2432</td>\n",
       "      <td>0.0985</td>\n",
       "      <td>-0.1109</td>\n",
       "      <td>0.1655</td>\n",
       "      <td>0.7457</td>\n",
       "      <td>...</td>\n",
       "      <td>-0.2609</td>\n",
       "      <td>-0.3295</td>\n",
       "      <td>-0.5956</td>\n",
       "      <td>-0.5522</td>\n",
       "      <td>-0.0281</td>\n",
       "      <td>-0.1666</td>\n",
       "      <td>0.5718</td>\n",
       "      <td>0.2424</td>\n",
       "      <td>0.1895</td>\n",
       "      <td>0.4302</td>\n",
       "    </tr>\n",
       "    <tr>\n",
       "      <th>503538</th>\n",
       "      <td>-0.0324</td>\n",
       "      <td>-0.0762</td>\n",
       "      <td>0.0346</td>\n",
       "      <td>0.2934</td>\n",
       "      <td>0.0463</td>\n",
       "      <td>-0.2432</td>\n",
       "      <td>0.0985</td>\n",
       "      <td>-0.1109</td>\n",
       "      <td>0.1655</td>\n",
       "      <td>0.7457</td>\n",
       "      <td>...</td>\n",
       "      <td>-0.2609</td>\n",
       "      <td>-0.3295</td>\n",
       "      <td>-0.5956</td>\n",
       "      <td>-0.5522</td>\n",
       "      <td>-0.0281</td>\n",
       "      <td>-0.1666</td>\n",
       "      <td>0.5718</td>\n",
       "      <td>0.2424</td>\n",
       "      <td>0.1895</td>\n",
       "      <td>0.4302</td>\n",
       "    </tr>\n",
       "    <tr>\n",
       "      <th>29974</th>\n",
       "      <td>-0.4928</td>\n",
       "      <td>-0.0025</td>\n",
       "      <td>-0.0522</td>\n",
       "      <td>-0.3050</td>\n",
       "      <td>0.0436</td>\n",
       "      <td>0.1438</td>\n",
       "      <td>-0.3561</td>\n",
       "      <td>-0.1415</td>\n",
       "      <td>-0.3390</td>\n",
       "      <td>-0.1974</td>\n",
       "      <td>...</td>\n",
       "      <td>-0.1827</td>\n",
       "      <td>-0.1941</td>\n",
       "      <td>0.2785</td>\n",
       "      <td>0.0867</td>\n",
       "      <td>0.1208</td>\n",
       "      <td>0.2966</td>\n",
       "      <td>-0.9912</td>\n",
       "      <td>-0.1204</td>\n",
       "      <td>0.0398</td>\n",
       "      <td>0.1423</td>\n",
       "    </tr>\n",
       "    <tr>\n",
       "      <th>2</th>\n",
       "      <td>-0.0657</td>\n",
       "      <td>0.4486</td>\n",
       "      <td>-0.3816</td>\n",
       "      <td>0.1603</td>\n",
       "      <td>-0.0112</td>\n",
       "      <td>0.0006</td>\n",
       "      <td>-0.1888</td>\n",
       "      <td>-0.1786</td>\n",
       "      <td>0.2086</td>\n",
       "      <td>-0.8266</td>\n",
       "      <td>...</td>\n",
       "      <td>-0.1841</td>\n",
       "      <td>-0.3723</td>\n",
       "      <td>0.4479</td>\n",
       "      <td>0.0099</td>\n",
       "      <td>0.3918</td>\n",
       "      <td>-0.1186</td>\n",
       "      <td>0.0701</td>\n",
       "      <td>-0.1141</td>\n",
       "      <td>0.9592</td>\n",
       "      <td>0.1203</td>\n",
       "    </tr>\n",
       "    <tr>\n",
       "      <th>144571</th>\n",
       "      <td>-0.0657</td>\n",
       "      <td>0.4486</td>\n",
       "      <td>-0.3816</td>\n",
       "      <td>0.1603</td>\n",
       "      <td>-0.0112</td>\n",
       "      <td>0.0006</td>\n",
       "      <td>-0.1888</td>\n",
       "      <td>-0.1786</td>\n",
       "      <td>0.2086</td>\n",
       "      <td>-0.8266</td>\n",
       "      <td>...</td>\n",
       "      <td>-0.1841</td>\n",
       "      <td>-0.3723</td>\n",
       "      <td>0.4479</td>\n",
       "      <td>0.0099</td>\n",
       "      <td>0.3918</td>\n",
       "      <td>-0.1186</td>\n",
       "      <td>0.0701</td>\n",
       "      <td>-0.1141</td>\n",
       "      <td>0.9592</td>\n",
       "      <td>0.1203</td>\n",
       "    </tr>\n",
       "  </tbody>\n",
       "</table>\n",
       "<p>5 rows × 498 columns</p>\n",
       "</div>"
      ],
      "text/plain": [
       "          3       7       10      15      16      19      21      22    \\\n",
       "1      -0.0324 -0.0762  0.0346  0.2934  0.0463 -0.2432  0.0985 -0.1109   \n",
       "503538 -0.0324 -0.0762  0.0346  0.2934  0.0463 -0.2432  0.0985 -0.1109   \n",
       "29974  -0.4928 -0.0025 -0.0522 -0.3050  0.0436  0.1438 -0.3561 -0.1415   \n",
       "2      -0.0657  0.4486 -0.3816  0.1603 -0.0112  0.0006 -0.1888 -0.1786   \n",
       "144571 -0.0657  0.4486 -0.3816  0.1603 -0.0112  0.0006 -0.1888 -0.1786   \n",
       "\n",
       "          23      25     ...      1271    1273    1278    1279    1280  \\\n",
       "1       0.1655  0.7457   ...   -0.2609 -0.3295 -0.5956 -0.5522 -0.0281   \n",
       "503538  0.1655  0.7457   ...   -0.2609 -0.3295 -0.5956 -0.5522 -0.0281   \n",
       "29974  -0.3390 -0.1974   ...   -0.1827 -0.1941  0.2785  0.0867  0.1208   \n",
       "2       0.2086 -0.8266   ...   -0.1841 -0.3723  0.4479  0.0099  0.3918   \n",
       "144571  0.2086 -0.8266   ...   -0.1841 -0.3723  0.4479  0.0099  0.3918   \n",
       "\n",
       "          1281    1282    1283    1285    1286  \n",
       "1      -0.1666  0.5718  0.2424  0.1895  0.4302  \n",
       "503538 -0.1666  0.5718  0.2424  0.1895  0.4302  \n",
       "29974   0.2966 -0.9912 -0.1204  0.0398  0.1423  \n",
       "2      -0.1186  0.0701 -0.1141  0.9592  0.1203  \n",
       "144571 -0.1186  0.0701 -0.1141  0.9592  0.1203  \n",
       "\n",
       "[5 rows x 498 columns]"
      ]
     },
     "execution_count": 11,
     "metadata": {},
     "output_type": "execute_result"
    }
   ],
   "source": [
    "exp_cn_trans_pd = pd.concat([copynum_values_pd, geneexp_values_pd])\n",
    "exp_cn_trans = exp_cn_trans_pd.as_matrix()\n",
    "print exp_cn_trans_pd.shape\n",
    "exp_cn_trans_pd.head()"
   ]
  },
  {
   "cell_type": "code",
   "execution_count": 12,
   "metadata": {
    "collapsed": true
   },
   "outputs": [],
   "source": [
    "exp_cn_pd = exp_cn_trans_pd.transpose()\n",
    "exp_cn = exp_cn_pd.as_matrix()"
   ]
  },
  {
   "cell_type": "code",
   "execution_count": 16,
   "metadata": {
    "collapsed": true
   },
   "outputs": [],
   "source": [
    "linreg = LinearRegression()\n",
    "svr_rbf = SVR(kernel = \"rbf\")\n",
    "svr_lin = SVR(kernel = \"linear\")\n",
    "rf = RandomForestRegressor()\n",
    "lasso = linear_model.Lasso(alpha=0.1)\n",
    "net = linear_model.ElasticNet(alpha=0.1)\n",
    "\n",
    "# test naive models\n",
    "def test_model_pca (model):\n",
    "    clf = model\n",
    "    clf.fit(x_train_pca, y_train)\n",
    "    y_pred = clf.predict(x_test_pca)\n",
    "    r2 = clf.score(x_test_pca, y_test)\n",
    "    return y_pred, r2\n",
    "\n",
    "def test_model (model):\n",
    "    clf = model\n",
    "    clf.fit(x_train, y_train)\n",
    "    y_pred = clf.predict(x_test)\n",
    "    r2 = clf.score(x_test, y_test)\n",
    "    return y_pred, r2\n",
    "\n",
    "def draw_plot (ax, y_pred, title, y_score):\n",
    "    y_pred = y_pred.flatten()\n",
    "    ax.scatter(y_pred, y_test)\n",
    "    ax.plot(np.unique(y_pred), np.poly1d(np.polyfit(y_pred, y_test, 1))(np.unique(y_pred)))\n",
    "    ax.set_title(\"%s r2 accuracy: %s\" %(title, round(y_score, 3)))\n",
    "    ax.set_xlabel(\"Predicted AUC\")\n",
    "    ax.set_ylabel(\"Actual AUC\")\n",
    "    return plt"
   ]
  },
  {
   "cell_type": "code",
   "execution_count": 19,
   "metadata": {
    "collapsed": false
   },
   "outputs": [
    {
     "name": "stdout",
     "output_type": "stream",
     "text": [
      "Amount of Variance explained by each component:  [ 0.09721839  0.05087327  0.0288741   0.02571524  0.02219551  0.01830684\n",
      "  0.01751177  0.01514748  0.01359782  0.01199531  0.01136535  0.01068623\n",
      "  0.01011795  0.00974474  0.00964145  0.00884188  0.0087743   0.00852489\n",
      "  0.00827938  0.0078934   0.00761332  0.00752299  0.00726699  0.00685793\n",
      "  0.00675682  0.0064083   0.00632118  0.00603779  0.00594203  0.00578041\n",
      "  0.00574633  0.00543703  0.00532918  0.00522936  0.00517842  0.00508027\n",
      "  0.00495156  0.00487015  0.00475189  0.00461264  0.00455026  0.00443447\n",
      "  0.0042908   0.00420517  0.00416916  0.00410255  0.00399885  0.00390642\n",
      "  0.00380253  0.00373356]\n",
      "Total Variance Captured 0.55419368042\n"
     ]
    }
   ],
   "source": [
    "x_train, x_test, y_train, y_test = train_test_split(exp_cn, auc, test_size=0.2, random_state=42)\n",
    "y_test = y_test.flatten()\n",
    "y_train = y_train.flatten()\n",
    "pca = PCA(n_components=50)\n",
    "pca.fit(x_train)    \n",
    "x_train_pca = pca.transform(x_train)\n",
    "x_test_pca = pca.transform(x_test)\n",
    "print \"Amount of Variance explained by each component: \", pca.explained_variance_ratio_\n",
    "print \"Total Variance Captured\", np.sum(pca.explained_variance_ratio_)"
   ]
  },
  {
   "cell_type": "code",
   "execution_count": 20,
   "metadata": {
    "collapsed": false
   },
   "outputs": [
    {
     "data": {
      "image/png": "[encoded data removed]",
      "text/plain": [
       "<matplotlib.figure.Figure at 0x11c8e4e10>"
      ]
     },
     "metadata": {},
     "output_type": "display_data"
    }
   ],
   "source": [
    "# calculated r_2 values\n",
    "y_pred_linreg_PCA, r2_linreg_PCA = test_model_pca (linreg)\n",
    "y_pred_svr_rbf_PCA, r2_svr_rbf_PCA = test_model_pca (svr_rbf)\n",
    "y_pred_svr_lin_PCA, r2_svr_lin_PCA = test_model_pca (svr_lin)\n",
    "y_pred_rf_PCA, r2_rf_PCA = test_model_pca (rf)\n",
    "y_pred_lasso_PCA, r2_lasso_PCA = test_model_pca (lasso)\n",
    "y_pred_net_PCA, r2_net_PCA = test_model_pca (net)\n",
    "\n",
    "fig_all, ax = plt.subplots(2, 3, figsize=(20, 10))\n",
    "ax[0,0] = draw_plot (ax[0,0], y_pred_linreg_PCA, \"Linear Regression\", r2_linreg_PCA)\n",
    "ax[0,1] = draw_plot (ax[0,1], y_pred_svr_rbf_PCA, \"SVR RBF\", r2_svr_rbf_PCA)\n",
    "ax[0,2] = draw_plot (ax[0,2], y_pred_svr_lin_PCA, \"SVR Lin\", r2_svr_lin_PCA)\n",
    "ax[1,0] = draw_plot (ax[1,0], y_pred_rf_PCA, \"Random Forest\", r2_rf_PCA)\n",
    "ax[1,1] = draw_plot (ax[1,1], y_pred_lasso_PCA, \"Lasso\", r2_lasso_PCA)\n",
    "ax[1,2] = draw_plot (ax[1,2], y_pred_net_PCA, \"Elastic Net\", r2_net_PCA)"
   ]
  },
  {
   "cell_type": "code",
   "execution_count": 98,
   "metadata": {
    "collapsed": false
   },
   "outputs": [
    {
     "data": {
      "image/png": "[encoded data removed]",
      "text/plain": [
       "<matplotlib.figure.Figure at 0x117726b50>"
      ]
     },
     "metadata": {},
     "output_type": "display_data"
    }
   ],
   "source": [
    "fig, ax = plt.subplots(figsize=(12, 8))\n",
    "\n",
    "performance = [r2_net_PCA, r2_linreg_PCA, r2_lasso_PCA, r2_svr_lin_PCA, r2_rf_PCA,  r2_svr_rbf_PCA]\n",
    "index={'Elastic Net',  'Lin Reg', 'Lasso', 'SVR Linear', 'Random Forest','SVR RBF'}\n",
    "d={'typ':[2,2,2,2,1,1],'value':performance}\n",
    "df=pd.DataFrame(d,index=index)\n",
    "\n",
    "# define the colors for each type\n",
    "colors = {1:'navy', 2:'red'}\n",
    "\n",
    "for i, v in enumerate(performance):\n",
    "    ax.text(max(v-.03, -0.03), i + .25, str(round(v, 3)), color='white', fontweight= \"bold\", fontsize=\"14\")\n",
    "\n",
    "# plot the bars\n",
    "plt.barh(range(len(df)), df['value'], align='center',\n",
    "        color=[colors[t] for t in df['typ']])\n",
    "ax.set_yticks(y_pos)\n",
    "ax.set_yticklabels(index)\n",
    "ax.invert_yaxis() \n",
    "ax.set_xlabel('R2 Value')\n",
    "ax.set_title('Naive PCA Model Accuracy')\n",
    "plt.show()"
   ]
  },
  {
   "cell_type": "code",
   "execution_count": 117,
   "metadata": {
    "collapsed": false
   },
   "outputs": [
    {
     "data": {
      "image/png": "[encoded data removed]",
      "text/plain": [
       "<matplotlib.figure.Figure at 0x11d4b81d0>"
      ]
     },
     "metadata": {},
     "output_type": "display_data"
    }
   ],
   "source": [
    "df = pd.DataFrame(dict(graph=['Lasso', 'SVR Linear', 'Linear Regression', 'Elastic Net', 'Random Forest', 'SVR RBF'],\n",
    "                           n=[r2_svr_lin_PCA, r2_lasso_PCA, r2_linreg_PCA, r2_net_PCA, r2_rf_PCA, r2_svr_rbf_PCA], \n",
    "                           m=[r2_lasso, r2_svr_lin, r2_linreg, r2_net, r2_rf, r2_svr_rbf])) \n",
    "\n",
    "ind = np.arange(len(df))\n",
    "width = 0.25\n",
    "\n",
    "fig, ax = plt.subplots()\n",
    "ax.barh(ind, df.n, width, color='red', label='PCA')\n",
    "ax.barh(ind + width, df.m, width, color='navy', label='All Data')\n",
    "\n",
    "ax.set(yticks=ind + width, yticklabels=df.graph, ylim=[2*width - 1, len(df)])\n",
    "ax.legend()\n",
    "\n",
    "plt.show()"
   ]
  },
  {
   "cell_type": "code",
   "execution_count": 17,
   "metadata": {
    "collapsed": true
   },
   "outputs": [],
   "source": [
    "x_train, x_test, y_train, y_test = train_test_split(exp_cn, auc, test_size=0.2, random_state=42)\n",
    "y_test = y_test.flatten()\n",
    "y_train = y_train.flatten()"
   ]
  },
  {
   "cell_type": "code",
   "execution_count": 18,
   "metadata": {
    "collapsed": false
   },
   "outputs": [
    {
     "data": {
      "image/png": "[encoded data removed]",
      "text/plain": [
       "<matplotlib.figure.Figure at 0x10662b290>"
      ]
     },
     "metadata": {},
     "output_type": "display_data"
    }
   ],
   "source": [
    "# calculated r_2 values\n",
    "y_pred_linreg, r2_linreg = test_model (linreg)\n",
    "y_pred_svr_rbf, r2_svr_rbf = test_model (svr_rbf)\n",
    "y_pred_svr_lin, r2_svr_lin = test_model (svr_lin)\n",
    "y_pred_rf, r2_rf = test_model (rf)\n",
    "y_pred_lasso, r2_lasso = test_model (lasso)\n",
    "y_pred_net, r2_net = test_model (net)\n",
    "\n",
    "fig_all, ax = plt.subplots(2, 3, figsize=(20, 10))\n",
    "ax[0,0] = draw_plot (ax[0,0], y_pred_linreg, \"Linear Regression\", r2_linreg)\n",
    "ax[0,1] = draw_plot (ax[0,1], y_pred_svr_rbf, \"SVR RBF\", r2_svr_rbf)\n",
    "ax[0,2] = draw_plot (ax[0,2], y_pred_svr_lin, \"SVR Lin\", r2_svr_lin)\n",
    "ax[1,0] = draw_plot (ax[1,0], y_pred_rf, \"Random Forest\", r2_rf)\n",
    "ax[1,1] = draw_plot (ax[1,1], y_pred_lasso, \"Lasso\", r2_lasso)\n",
    "ax[1,2] = draw_plot (ax[1,2], y_pred_net, \"Elastic Net\", r2_net)"
   ]
  },
  {
   "cell_type": "code",
   "execution_count": 99,
   "metadata": {
    "collapsed": false,
    "scrolled": false
   },
   "outputs": [
    {
     "data": {
      "image/png": "[encoded data removed]",
      "text/plain": [
       "<matplotlib.figure.Figure at 0x11ed62cd0>"
      ]
     },
     "metadata": {},
     "output_type": "display_data"
    }
   ],
   "source": [
    "fig, ax = plt.subplots(figsize=(12, 8))\n",
    "\n",
    "performance = [r2_svr_rbf, r2_lasso, r2_svr_lin, r2_linreg, r2_net, r2_rf]\n",
    "index={'SVR RBF', 'Lasso', 'SVR Linear', 'Lin Reg', 'Elastic Net', 'Random Forest'}\n",
    "d={'typ':[1,2,2,2,2,1],'value':performance}\n",
    "df=pd.DataFrame(d,index=index)\n",
    "\n",
    "# define the colors for each type\n",
    "colors = {1:'navy', 2:'red'}\n",
    "\n",
    "for i, v in enumerate(performance):\n",
    "    ax.text(v-.02, i + .25, str(round(v, 3)), color='white', fontweight= \"bold\", fontsize=\"14\")\n",
    "\n",
    "# plot the bars\n",
    "plt.barh(range(len(df)), df['value'], align='center',\n",
    "        color=[colors[t] for t in df['typ']])\n",
    "ax.set_yticks(y_pos)\n",
    "ax.set_yticklabels(index)\n",
    "ax.invert_yaxis() \n",
    "ax.set_xlabel('R2 Value')\n",
    "ax.set_title('Naive Model Accuracy')\n",
    "plt.show()"
   ]
  },
  {
   "cell_type": "code",
   "execution_count": 20,
   "metadata": {
    "collapsed": false
   },
   "outputs": [
    {
     "data": {
      "text/html": [
       "<div>\n",
       "<table border=\"1\" class=\"dataframe\">\n",
       "  <thead>\n",
       "    <tr style=\"text-align: right;\">\n",
       "      <th></th>\n",
       "      <th>Lasso</th>\n",
       "      <th>Linear Regression</th>\n",
       "      <th>Net</th>\n",
       "      <th>Random Forest</th>\n",
       "      <th>SVM Linear</th>\n",
       "      <th>SVM RBF</th>\n",
       "    </tr>\n",
       "  </thead>\n",
       "  <tbody>\n",
       "    <tr>\n",
       "      <th>All</th>\n",
       "      <td>0.218862</td>\n",
       "      <td>0.219738</td>\n",
       "      <td>0.219096</td>\n",
       "      <td>0.140515</td>\n",
       "      <td>0.243344</td>\n",
       "      <td>-0.046081</td>\n",
       "    </tr>\n",
       "    <tr>\n",
       "      <th>PCA</th>\n",
       "      <td>0.218862</td>\n",
       "      <td>0.219738</td>\n",
       "      <td>0.219096</td>\n",
       "      <td>0.012103</td>\n",
       "      <td>0.243344</td>\n",
       "      <td>-0.046081</td>\n",
       "    </tr>\n",
       "  </tbody>\n",
       "</table>\n",
       "</div>"
      ],
      "text/plain": [
       "        Lasso  Linear Regression       Net  Random Forest  SVM Linear  \\\n",
       "All  0.218862           0.219738  0.219096       0.140515    0.243344   \n",
       "PCA  0.218862           0.219738  0.219096       0.012103    0.243344   \n",
       "\n",
       "      SVM RBF  \n",
       "All -0.046081  \n",
       "PCA -0.046081  "
      ]
     },
     "execution_count": 20,
     "metadata": {},
     "output_type": "execute_result"
    }
   ],
   "source": [
    "score_df = pd.DataFrame({'Linear Regression': [r2_linreg, r2_linreg_PCA],\n",
    "                         'SVM RBF': [r2_svr_rbf, r2_svr_rbf_PCA],\n",
    "                         'SVM Linear': [r2_svr_lin, r2_svr_lin_PCA],\n",
    "                         'Random Forest': [r2_rf,r2_rf_PCA],\n",
    "                         'Lasso': [r2_lasso, r2_lasso_PCA],\n",
    "                         'Net': [r2_net, r2_net_PCA]}, \n",
    "                       index=[\"All\", \"PCA\"])\n",
    "score_df"
   ]
  },
  {
   "cell_type": "markdown",
   "metadata": {},
   "source": [
    "### Intersect with Christie's Gene List"
   ]
  },
  {
   "cell_type": "markdown",
   "metadata": {},
   "source": [
    "---"
   ]
  },
  {
   "cell_type": "code",
   "execution_count": 61,
   "metadata": {
    "collapsed": false
   },
   "outputs": [
    {
     "data": {
      "text/html": [
       "<div>\n",
       "<table border=\"1\" class=\"dataframe\">\n",
       "  <thead>\n",
       "    <tr style=\"text-align: right;\">\n",
       "      <th></th>\n",
       "      <th>Symbol</th>\n",
       "    </tr>\n",
       "  </thead>\n",
       "  <tbody>\n",
       "    <tr>\n",
       "      <th>0</th>\n",
       "      <td>YWHAB</td>\n",
       "    </tr>\n",
       "    <tr>\n",
       "      <th>1</th>\n",
       "      <td>ZEB1</td>\n",
       "    </tr>\n",
       "    <tr>\n",
       "      <th>2</th>\n",
       "      <td>XRCC4</td>\n",
       "    </tr>\n",
       "    <tr>\n",
       "      <th>3</th>\n",
       "      <td>XPG</td>\n",
       "    </tr>\n",
       "    <tr>\n",
       "      <th>4</th>\n",
       "      <td>XPC</td>\n",
       "    </tr>\n",
       "  </tbody>\n",
       "</table>\n",
       "</div>"
      ],
      "text/plain": [
       "  Symbol\n",
       "0  YWHAB\n",
       "1   ZEB1\n",
       "2  XRCC4\n",
       "3    XPG\n",
       "4    XPC"
      ]
     },
     "execution_count": 61,
     "metadata": {},
     "output_type": "execute_result"
    }
   ],
   "source": [
    "christie_lst_pd = pd.read_csv('datasets_498/christie_lst.txt', sep =\"\\t\", names=[\"Symbol\"]) \n",
    "christie_lst_pd.head()"
   ]
  },
  {
   "cell_type": "code",
   "execution_count": 70,
   "metadata": {
    "collapsed": false
   },
   "outputs": [
    {
     "data": {
      "text/html": [
       "<div>\n",
       "<table border=\"1\" class=\"dataframe\">\n",
       "  <thead>\n",
       "    <tr style=\"text-align: right;\">\n",
       "      <th></th>\n",
       "      <th>Hugo</th>\n",
       "      <th>Symbol</th>\n",
       "      <th>Entrez_ID</th>\n",
       "    </tr>\n",
       "  </thead>\n",
       "  <tbody>\n",
       "    <tr>\n",
       "      <th>0</th>\n",
       "      <td>HGNC:5</td>\n",
       "      <td>A1BG</td>\n",
       "      <td>1.0</td>\n",
       "    </tr>\n",
       "    <tr>\n",
       "      <th>1</th>\n",
       "      <td>HGNC:37133</td>\n",
       "      <td>A1BG-AS1</td>\n",
       "      <td>503538.0</td>\n",
       "    </tr>\n",
       "    <tr>\n",
       "      <th>2</th>\n",
       "      <td>HGNC:24086</td>\n",
       "      <td>A1CF</td>\n",
       "      <td>29974.0</td>\n",
       "    </tr>\n",
       "    <tr>\n",
       "      <th>3</th>\n",
       "      <td>HGNC:6</td>\n",
       "      <td>A1S9T~withdrawn</td>\n",
       "      <td>NaN</td>\n",
       "    </tr>\n",
       "    <tr>\n",
       "      <th>4</th>\n",
       "      <td>HGNC:7</td>\n",
       "      <td>A2M</td>\n",
       "      <td>2.0</td>\n",
       "    </tr>\n",
       "  </tbody>\n",
       "</table>\n",
       "</div>"
      ],
      "text/plain": [
       "         Hugo           Symbol  Entrez_ID\n",
       "0      HGNC:5             A1BG        1.0\n",
       "1  HGNC:37133         A1BG-AS1   503538.0\n",
       "2  HGNC:24086             A1CF    29974.0\n",
       "3      HGNC:6  A1S9T~withdrawn        NaN\n",
       "4      HGNC:7              A2M        2.0"
      ]
     },
     "execution_count": 70,
     "metadata": {},
     "output_type": "execute_result"
    }
   ],
   "source": [
    "entrez_pd = pd.read_csv('../EntrezID.txt', skiprows = [0], sep =\"\\t\", names = [\"Hugo\", \"Symbol\", \"Entrez_ID\"]) \n",
    "entrez_pd.head(n=5)"
   ]
  },
  {
   "cell_type": "code",
   "execution_count": 72,
   "metadata": {
    "collapsed": false
   },
   "outputs": [
    {
     "data": {
      "text/html": [
       "<div>\n",
       "<table border=\"1\" class=\"dataframe\">\n",
       "  <thead>\n",
       "    <tr style=\"text-align: right;\">\n",
       "      <th></th>\n",
       "      <th>Symbol</th>\n",
       "      <th>Entrez_ID</th>\n",
       "    </tr>\n",
       "  </thead>\n",
       "  <tbody>\n",
       "    <tr>\n",
       "      <th>0</th>\n",
       "      <td>YWHAB</td>\n",
       "      <td>7529</td>\n",
       "    </tr>\n",
       "    <tr>\n",
       "      <th>1</th>\n",
       "      <td>ZEB1</td>\n",
       "      <td>6935</td>\n",
       "    </tr>\n",
       "    <tr>\n",
       "      <th>2</th>\n",
       "      <td>XRCC4</td>\n",
       "      <td>7518</td>\n",
       "    </tr>\n",
       "    <tr>\n",
       "      <th>4</th>\n",
       "      <td>XPC</td>\n",
       "      <td>7508</td>\n",
       "    </tr>\n",
       "    <tr>\n",
       "      <th>5</th>\n",
       "      <td>XIAP</td>\n",
       "      <td>331</td>\n",
       "    </tr>\n",
       "  </tbody>\n",
       "</table>\n",
       "</div>"
      ],
      "text/plain": [
       "  Symbol  Entrez_ID\n",
       "0  YWHAB       7529\n",
       "1   ZEB1       6935\n",
       "2  XRCC4       7518\n",
       "4    XPC       7508\n",
       "5   XIAP        331"
      ]
     },
     "execution_count": 72,
     "metadata": {},
     "output_type": "execute_result"
    }
   ],
   "source": [
    "entrez_id_lst = []\n",
    "for symbol in christie_lst_pd[\"Symbol\"]:\n",
    "    entrez_index = entrez_pd.index[entrez_pd['Symbol'] == symbol].tolist()\n",
    "    if entrez_index != []:\n",
    "        entrez_ID = entrez_pd.get_value(entrez_index[0], \"Entrez_ID\")\n",
    "        entrez_id_lst.append(int(entrez_ID))\n",
    "    else:\n",
    "        entrez_id_lst.append([])\n",
    "christie_lst_pd[\"Entrez_ID\"] = entrez_id_lst\n",
    "christie_lst_pd.head()"
   ]
  },
  {
   "cell_type": "code",
   "execution_count": 84,
   "metadata": {
    "collapsed": false
   },
   "outputs": [
    {
     "data": {
      "text/html": [
       "<div>\n",
       "<table border=\"1\" class=\"dataframe\">\n",
       "  <thead>\n",
       "    <tr style=\"text-align: right;\">\n",
       "      <th></th>\n",
       "      <th>3</th>\n",
       "      <th>7</th>\n",
       "      <th>10</th>\n",
       "      <th>15</th>\n",
       "      <th>16</th>\n",
       "      <th>19</th>\n",
       "      <th>21</th>\n",
       "      <th>22</th>\n",
       "      <th>23</th>\n",
       "      <th>25</th>\n",
       "      <th>...</th>\n",
       "      <th>1271</th>\n",
       "      <th>1273</th>\n",
       "      <th>1278</th>\n",
       "      <th>1279</th>\n",
       "      <th>1280</th>\n",
       "      <th>1281</th>\n",
       "      <th>1282</th>\n",
       "      <th>1283</th>\n",
       "      <th>1285</th>\n",
       "      <th>1286</th>\n",
       "    </tr>\n",
       "  </thead>\n",
       "  <tbody>\n",
       "    <tr>\n",
       "      <th>1</th>\n",
       "      <td>-0.0324</td>\n",
       "      <td>-0.0762</td>\n",
       "      <td>0.0346</td>\n",
       "      <td>0.2934</td>\n",
       "      <td>0.0463</td>\n",
       "      <td>-0.2432</td>\n",
       "      <td>0.0985</td>\n",
       "      <td>-0.1109</td>\n",
       "      <td>0.1655</td>\n",
       "      <td>0.7457</td>\n",
       "      <td>...</td>\n",
       "      <td>-0.2609</td>\n",
       "      <td>-0.3295</td>\n",
       "      <td>-0.5956</td>\n",
       "      <td>-0.5522</td>\n",
       "      <td>-0.0281</td>\n",
       "      <td>-0.1666</td>\n",
       "      <td>0.5718</td>\n",
       "      <td>0.2424</td>\n",
       "      <td>0.1895</td>\n",
       "      <td>0.4302</td>\n",
       "    </tr>\n",
       "    <tr>\n",
       "      <th>503538</th>\n",
       "      <td>-0.0324</td>\n",
       "      <td>-0.0762</td>\n",
       "      <td>0.0346</td>\n",
       "      <td>0.2934</td>\n",
       "      <td>0.0463</td>\n",
       "      <td>-0.2432</td>\n",
       "      <td>0.0985</td>\n",
       "      <td>-0.1109</td>\n",
       "      <td>0.1655</td>\n",
       "      <td>0.7457</td>\n",
       "      <td>...</td>\n",
       "      <td>-0.2609</td>\n",
       "      <td>-0.3295</td>\n",
       "      <td>-0.5956</td>\n",
       "      <td>-0.5522</td>\n",
       "      <td>-0.0281</td>\n",
       "      <td>-0.1666</td>\n",
       "      <td>0.5718</td>\n",
       "      <td>0.2424</td>\n",
       "      <td>0.1895</td>\n",
       "      <td>0.4302</td>\n",
       "    </tr>\n",
       "    <tr>\n",
       "      <th>29974</th>\n",
       "      <td>-0.4928</td>\n",
       "      <td>-0.0025</td>\n",
       "      <td>-0.0522</td>\n",
       "      <td>-0.3050</td>\n",
       "      <td>0.0436</td>\n",
       "      <td>0.1438</td>\n",
       "      <td>-0.3561</td>\n",
       "      <td>-0.1415</td>\n",
       "      <td>-0.3390</td>\n",
       "      <td>-0.1974</td>\n",
       "      <td>...</td>\n",
       "      <td>-0.1827</td>\n",
       "      <td>-0.1941</td>\n",
       "      <td>0.2785</td>\n",
       "      <td>0.0867</td>\n",
       "      <td>0.1208</td>\n",
       "      <td>0.2966</td>\n",
       "      <td>-0.9912</td>\n",
       "      <td>-0.1204</td>\n",
       "      <td>0.0398</td>\n",
       "      <td>0.1423</td>\n",
       "    </tr>\n",
       "    <tr>\n",
       "      <th>2</th>\n",
       "      <td>-0.0657</td>\n",
       "      <td>0.4486</td>\n",
       "      <td>-0.3816</td>\n",
       "      <td>0.1603</td>\n",
       "      <td>-0.0112</td>\n",
       "      <td>0.0006</td>\n",
       "      <td>-0.1888</td>\n",
       "      <td>-0.1786</td>\n",
       "      <td>0.2086</td>\n",
       "      <td>-0.8266</td>\n",
       "      <td>...</td>\n",
       "      <td>-0.1841</td>\n",
       "      <td>-0.3723</td>\n",
       "      <td>0.4479</td>\n",
       "      <td>0.0099</td>\n",
       "      <td>0.3918</td>\n",
       "      <td>-0.1186</td>\n",
       "      <td>0.0701</td>\n",
       "      <td>-0.1141</td>\n",
       "      <td>0.9592</td>\n",
       "      <td>0.1203</td>\n",
       "    </tr>\n",
       "    <tr>\n",
       "      <th>144571</th>\n",
       "      <td>-0.0657</td>\n",
       "      <td>0.4486</td>\n",
       "      <td>-0.3816</td>\n",
       "      <td>0.1603</td>\n",
       "      <td>-0.0112</td>\n",
       "      <td>0.0006</td>\n",
       "      <td>-0.1888</td>\n",
       "      <td>-0.1786</td>\n",
       "      <td>0.2086</td>\n",
       "      <td>-0.8266</td>\n",
       "      <td>...</td>\n",
       "      <td>-0.1841</td>\n",
       "      <td>-0.3723</td>\n",
       "      <td>0.4479</td>\n",
       "      <td>0.0099</td>\n",
       "      <td>0.3918</td>\n",
       "      <td>-0.1186</td>\n",
       "      <td>0.0701</td>\n",
       "      <td>-0.1141</td>\n",
       "      <td>0.9592</td>\n",
       "      <td>0.1203</td>\n",
       "    </tr>\n",
       "  </tbody>\n",
       "</table>\n",
       "<p>5 rows × 498 columns</p>\n",
       "</div>"
      ],
      "text/plain": [
       "          3       7       10      15      16      19      21      22    \\\n",
       "1      -0.0324 -0.0762  0.0346  0.2934  0.0463 -0.2432  0.0985 -0.1109   \n",
       "503538 -0.0324 -0.0762  0.0346  0.2934  0.0463 -0.2432  0.0985 -0.1109   \n",
       "29974  -0.4928 -0.0025 -0.0522 -0.3050  0.0436  0.1438 -0.3561 -0.1415   \n",
       "2      -0.0657  0.4486 -0.3816  0.1603 -0.0112  0.0006 -0.1888 -0.1786   \n",
       "144571 -0.0657  0.4486 -0.3816  0.1603 -0.0112  0.0006 -0.1888 -0.1786   \n",
       "\n",
       "          23      25     ...      1271    1273    1278    1279    1280  \\\n",
       "1       0.1655  0.7457   ...   -0.2609 -0.3295 -0.5956 -0.5522 -0.0281   \n",
       "503538  0.1655  0.7457   ...   -0.2609 -0.3295 -0.5956 -0.5522 -0.0281   \n",
       "29974  -0.3390 -0.1974   ...   -0.1827 -0.1941  0.2785  0.0867  0.1208   \n",
       "2       0.2086 -0.8266   ...   -0.1841 -0.3723  0.4479  0.0099  0.3918   \n",
       "144571  0.2086 -0.8266   ...   -0.1841 -0.3723  0.4479  0.0099  0.3918   \n",
       "\n",
       "          1281    1282    1283    1285    1286  \n",
       "1      -0.1666  0.5718  0.2424  0.1895  0.4302  \n",
       "503538 -0.1666  0.5718  0.2424  0.1895  0.4302  \n",
       "29974   0.2966 -0.9912 -0.1204  0.0398  0.1423  \n",
       "2      -0.1186  0.0701 -0.1141  0.9592  0.1203  \n",
       "144571 -0.1186  0.0701 -0.1141  0.9592  0.1203  \n",
       "\n",
       "[5 rows x 498 columns]"
      ]
     },
     "execution_count": 84,
     "metadata": {},
     "output_type": "execute_result"
    }
   ],
   "source": [
    "exp_cn_trans_pd.head()"
   ]
  },
  {
   "cell_type": "code",
   "execution_count": 112,
   "metadata": {
    "collapsed": false
   },
   "outputs": [],
   "source": [
    "index_lst = [i for [i] in exp_cn_trans_pd.index]\n",
    "intersection_values = np.intersect1d(index_lst, entrez_lst)\n",
    "# intersection_auc = np.intersect1d(auc.flatten(), entrez_lst)\n",
    "# intersect auc is blank"
   ]
  },
  {
   "cell_type": "code",
   "execution_count": 113,
   "metadata": {
    "collapsed": false
   },
   "outputs": [
    {
     "data": {
      "text/html": [
       "<div>\n",
       "<table border=\"1\" class=\"dataframe\">\n",
       "  <thead>\n",
       "    <tr style=\"text-align: right;\">\n",
       "      <th></th>\n",
       "      <th>3</th>\n",
       "      <th>7</th>\n",
       "      <th>10</th>\n",
       "      <th>15</th>\n",
       "      <th>16</th>\n",
       "      <th>19</th>\n",
       "      <th>21</th>\n",
       "      <th>22</th>\n",
       "      <th>23</th>\n",
       "      <th>25</th>\n",
       "      <th>...</th>\n",
       "      <th>1271</th>\n",
       "      <th>1273</th>\n",
       "      <th>1278</th>\n",
       "      <th>1279</th>\n",
       "      <th>1280</th>\n",
       "      <th>1281</th>\n",
       "      <th>1282</th>\n",
       "      <th>1283</th>\n",
       "      <th>1285</th>\n",
       "      <th>1286</th>\n",
       "    </tr>\n",
       "  </thead>\n",
       "  <tbody>\n",
       "    <tr>\n",
       "      <th>142</th>\n",
       "      <td>0.064700</td>\n",
       "      <td>0.500200</td>\n",
       "      <td>-0.285600</td>\n",
       "      <td>0.32620</td>\n",
       "      <td>0.54400</td>\n",
       "      <td>0.172200</td>\n",
       "      <td>-0.373500</td>\n",
       "      <td>-0.004100</td>\n",
       "      <td>0.225400</td>\n",
       "      <td>0.487800</td>\n",
       "      <td>...</td>\n",
       "      <td>0.791700</td>\n",
       "      <td>-0.295900</td>\n",
       "      <td>0.071300</td>\n",
       "      <td>0.040500</td>\n",
       "      <td>0.043400</td>\n",
       "      <td>-0.108400</td>\n",
       "      <td>0.160700</td>\n",
       "      <td>0.322500</td>\n",
       "      <td>1.28680</td>\n",
       "      <td>0.87010</td>\n",
       "    </tr>\n",
       "    <tr>\n",
       "      <th>142</th>\n",
       "      <td>10.455660</td>\n",
       "      <td>12.095980</td>\n",
       "      <td>10.052000</td>\n",
       "      <td>11.81433</td>\n",
       "      <td>10.97239</td>\n",
       "      <td>10.961490</td>\n",
       "      <td>10.508920</td>\n",
       "      <td>10.341620</td>\n",
       "      <td>10.521600</td>\n",
       "      <td>10.651430</td>\n",
       "      <td>...</td>\n",
       "      <td>11.746290</td>\n",
       "      <td>10.966320</td>\n",
       "      <td>10.230520</td>\n",
       "      <td>10.595540</td>\n",
       "      <td>11.094570</td>\n",
       "      <td>10.093600</td>\n",
       "      <td>10.450330</td>\n",
       "      <td>10.933630</td>\n",
       "      <td>10.23711</td>\n",
       "      <td>11.90975</td>\n",
       "    </tr>\n",
       "    <tr>\n",
       "      <th>207</th>\n",
       "      <td>-0.012500</td>\n",
       "      <td>-0.080600</td>\n",
       "      <td>-0.153100</td>\n",
       "      <td>-0.34900</td>\n",
       "      <td>-0.86360</td>\n",
       "      <td>-0.720400</td>\n",
       "      <td>0.065900</td>\n",
       "      <td>-0.155000</td>\n",
       "      <td>-0.349200</td>\n",
       "      <td>-0.837000</td>\n",
       "      <td>...</td>\n",
       "      <td>-0.302900</td>\n",
       "      <td>-0.299700</td>\n",
       "      <td>-0.111400</td>\n",
       "      <td>0.017500</td>\n",
       "      <td>0.047700</td>\n",
       "      <td>0.573700</td>\n",
       "      <td>0.183600</td>\n",
       "      <td>-0.505800</td>\n",
       "      <td>0.37730</td>\n",
       "      <td>0.36350</td>\n",
       "    </tr>\n",
       "    <tr>\n",
       "      <th>207</th>\n",
       "      <td>8.724103</td>\n",
       "      <td>8.764409</td>\n",
       "      <td>9.049873</td>\n",
       "      <td>9.03498</td>\n",
       "      <td>7.64618</td>\n",
       "      <td>8.502084</td>\n",
       "      <td>8.990039</td>\n",
       "      <td>7.110089</td>\n",
       "      <td>7.861933</td>\n",
       "      <td>8.239972</td>\n",
       "      <td>...</td>\n",
       "      <td>7.710581</td>\n",
       "      <td>7.222625</td>\n",
       "      <td>8.342761</td>\n",
       "      <td>8.857367</td>\n",
       "      <td>8.661978</td>\n",
       "      <td>9.694582</td>\n",
       "      <td>9.064321</td>\n",
       "      <td>8.092056</td>\n",
       "      <td>9.40538</td>\n",
       "      <td>10.30875</td>\n",
       "    </tr>\n",
       "    <tr>\n",
       "      <th>317</th>\n",
       "      <td>-0.008300</td>\n",
       "      <td>0.455700</td>\n",
       "      <td>-0.248500</td>\n",
       "      <td>0.26840</td>\n",
       "      <td>0.04150</td>\n",
       "      <td>0.082100</td>\n",
       "      <td>0.026700</td>\n",
       "      <td>-0.123400</td>\n",
       "      <td>0.225600</td>\n",
       "      <td>-0.140100</td>\n",
       "      <td>...</td>\n",
       "      <td>-0.149300</td>\n",
       "      <td>-0.252900</td>\n",
       "      <td>-0.052700</td>\n",
       "      <td>0.036400</td>\n",
       "      <td>0.064600</td>\n",
       "      <td>0.206200</td>\n",
       "      <td>0.155600</td>\n",
       "      <td>-0.000700</td>\n",
       "      <td>-0.06940</td>\n",
       "      <td>0.13750</td>\n",
       "    </tr>\n",
       "  </tbody>\n",
       "</table>\n",
       "<p>5 rows × 498 columns</p>\n",
       "</div>"
      ],
      "text/plain": [
       "          3          7          10        15        16         19    \\\n",
       "142   0.064700   0.500200  -0.285600   0.32620   0.54400   0.172200   \n",
       "142  10.455660  12.095980  10.052000  11.81433  10.97239  10.961490   \n",
       "207  -0.012500  -0.080600  -0.153100  -0.34900  -0.86360  -0.720400   \n",
       "207   8.724103   8.764409   9.049873   9.03498   7.64618   8.502084   \n",
       "317  -0.008300   0.455700  -0.248500   0.26840   0.04150   0.082100   \n",
       "\n",
       "          21         22         23         25      ...          1271  \\\n",
       "142  -0.373500  -0.004100   0.225400   0.487800    ...      0.791700   \n",
       "142  10.508920  10.341620  10.521600  10.651430    ...     11.746290   \n",
       "207   0.065900  -0.155000  -0.349200  -0.837000    ...     -0.302900   \n",
       "207   8.990039   7.110089   7.861933   8.239972    ...      7.710581   \n",
       "317   0.026700  -0.123400   0.225600  -0.140100    ...     -0.149300   \n",
       "\n",
       "          1273       1278       1279       1280       1281       1282  \\\n",
       "142  -0.295900   0.071300   0.040500   0.043400  -0.108400   0.160700   \n",
       "142  10.966320  10.230520  10.595540  11.094570  10.093600  10.450330   \n",
       "207  -0.299700  -0.111400   0.017500   0.047700   0.573700   0.183600   \n",
       "207   7.222625   8.342761   8.857367   8.661978   9.694582   9.064321   \n",
       "317  -0.252900  -0.052700   0.036400   0.064600   0.206200   0.155600   \n",
       "\n",
       "          1283      1285      1286  \n",
       "142   0.322500   1.28680   0.87010  \n",
       "142  10.933630  10.23711  11.90975  \n",
       "207  -0.505800   0.37730   0.36350  \n",
       "207   8.092056   9.40538  10.30875  \n",
       "317  -0.000700  -0.06940   0.13750  \n",
       "\n",
       "[5 rows x 498 columns]"
      ]
     },
     "execution_count": 113,
     "metadata": {},
     "output_type": "execute_result"
    }
   ],
   "source": [
    "exp_cn_intersect_trans_pd = exp_cn_trans_pd.loc[intersection_values,:]\n",
    "exp_cn_intersect_trans_pd.head()"
   ]
  },
  {
   "cell_type": "code",
   "execution_count": 114,
   "metadata": {
    "collapsed": true
   },
   "outputs": [],
   "source": [
    "exp_cn_intersect_pd = exp_cn_intersect_trans_pd.transpose()\n",
    "exp_cn_intersect = exp_cn_intersect_pd.as_matrix()"
   ]
  },
  {
   "cell_type": "code",
   "execution_count": 115,
   "metadata": {
    "collapsed": false
   },
   "outputs": [
    {
     "name": "stdout",
     "output_type": "stream",
     "text": [
      "Amount of Variance explained by each component:  [ 0.12673612  0.08145182  0.06631468  0.04492885  0.04294762  0.02885218\n",
      "  0.02764816  0.0257217   0.02399443  0.02309992  0.02146368  0.02097849\n",
      "  0.0187048   0.01839407  0.01615147  0.01537174  0.01369769  0.0130754\n",
      "  0.01248631  0.0115982   0.01123443  0.01072639  0.01005073  0.00998993\n",
      "  0.00962065  0.0088579   0.00800308  0.00773333  0.00763924  0.00745562\n",
      "  0.00730545  0.00695434  0.00667212  0.00638848  0.0062839   0.00603375\n",
      "  0.00592298  0.00562623  0.00554448  0.00540119  0.00510118  0.0050417\n",
      "  0.0049155   0.00478766  0.00458662  0.00451098  0.00439     0.00424802\n",
      "  0.0041256   0.00408131]\n",
      "Total Variance Captured 0.852850089572\n"
     ]
    }
   ],
   "source": [
    "x_train, x_test, y_train, y_test = train_test_split(exp_cn_intersect, auc, test_size=0.2, random_state=42)\n",
    "y_test = y_test.flatten()\n",
    "y_train = y_train.flatten()\n",
    "pca = PCA(n_components=50)\n",
    "pca.fit(x_train)    \n",
    "x_train_pca = pca.transform(x_train)\n",
    "x_test_pca = pca.transform(x_test)\n",
    "print \"Amount of Variance explained by each component: \", pca.explained_variance_ratio_\n",
    "print \"Total Variance Captured\", np.sum(pca.explained_variance_ratio_)"
   ]
  },
  {
   "cell_type": "code",
   "execution_count": 116,
   "metadata": {
    "collapsed": false
   },
   "outputs": [
    {
     "data": {
      "image/png": "[encoded data removed]",
      "text/plain": [
       "<matplotlib.figure.Figure at 0x118ee4e90>"
      ]
     },
     "metadata": {},
     "output_type": "display_data"
    }
   ],
   "source": [
    "# calculated r_2 values\n",
    "y_pred_linreg_PCA, r2_linreg_PCA = test_model (linreg)\n",
    "y_pred_svr_rbf_PCA, r2_svr_rbf_PCA = test_model (svr_rbf)\n",
    "y_pred_svr_lin_PCA, r2_svr_lin_PCA = test_model (svr_lin)\n",
    "y_pred_rf_PCA, r2_rf_PCA = test_model (rf)\n",
    "y_pred_lasso_PCA, r2_lasso_PCA = test_model (lasso)\n",
    "y_pred_net_PCA, r2_net_PCA = test_model (net)\n",
    "\n",
    "fig_all, ax = plt.subplots(2, 3, figsize=(20, 10))\n",
    "ax[0,0] = draw_plot (ax[0,0], y_pred_linreg_PCA, \"Linear Regression\", r2_linreg_PCA)\n",
    "ax[0,1] = draw_plot (ax[0,1], y_pred_svr_rbf_PCA, \"SVR RBF\", r2_svr_rbf_PCA)\n",
    "ax[0,2] = draw_plot (ax[0,2], y_pred_svr_lin_PCA, \"SVR Lin\", r2_svr_lin_PCA)\n",
    "ax[1,0] = draw_plot (ax[1,0], y_pred_rf_PCA, \"Random Forest\", r2_rf_PCA)\n",
    "ax[1,1] = draw_plot (ax[1,1], y_pred_lasso_PCA, \"Lasso\", r2_lasso_PCA)\n",
    "ax[1,2] = draw_plot (ax[1,2], y_pred_net_PCA, \"Elastic Net\", r2_net_PCA)"
   ]
  },
  {
   "cell_type": "markdown",
   "metadata": {},
   "source": [
    "### Intersect with David's Gene List"
   ]
  },
  {
   "cell_type": "markdown",
   "metadata": {},
   "source": [
    "---"
   ]
  },
  {
   "cell_type": "code",
   "execution_count": 33,
   "metadata": {
    "collapsed": false
   },
   "outputs": [],
   "source": [
    "file_name = \"datasets_498/gene_lst_pd\"\n",
    "file_object = open(file_name,'r')  \n",
    "gene_lst_pd = pickle.load(file_object)\n",
    "entrez_lst = np.array(gene_lst_pd[\"Entrez_id\"])"
   ]
  },
  {
   "cell_type": "code",
   "execution_count": 25,
   "metadata": {
    "collapsed": false
   },
   "outputs": [],
   "source": [
    "index_lst = [i for [i] in exp_cn_trans_pd.index]\n",
    "intersection_values = np.intersect1d(index_lst, entrez_lst)\n",
    "intersection_auc = np.intersect1d(auc.flatten(), entrez_lst)"
   ]
  },
  {
   "cell_type": "code",
   "execution_count": 26,
   "metadata": {
    "collapsed": false
   },
   "outputs": [
    {
     "data": {
      "text/html": [
       "<div>\n",
       "<table border=\"1\" class=\"dataframe\">\n",
       "  <thead>\n",
       "    <tr style=\"text-align: right;\">\n",
       "      <th></th>\n",
       "      <th>3</th>\n",
       "      <th>7</th>\n",
       "      <th>10</th>\n",
       "      <th>15</th>\n",
       "      <th>16</th>\n",
       "      <th>19</th>\n",
       "      <th>21</th>\n",
       "      <th>22</th>\n",
       "      <th>23</th>\n",
       "      <th>25</th>\n",
       "      <th>...</th>\n",
       "      <th>1271</th>\n",
       "      <th>1273</th>\n",
       "      <th>1278</th>\n",
       "      <th>1279</th>\n",
       "      <th>1280</th>\n",
       "      <th>1281</th>\n",
       "      <th>1282</th>\n",
       "      <th>1283</th>\n",
       "      <th>1285</th>\n",
       "      <th>1286</th>\n",
       "    </tr>\n",
       "  </thead>\n",
       "  <tbody>\n",
       "    <tr>\n",
       "      <th>142</th>\n",
       "      <td>0.064700</td>\n",
       "      <td>0.500200</td>\n",
       "      <td>-0.285600</td>\n",
       "      <td>0.32620</td>\n",
       "      <td>0.54400</td>\n",
       "      <td>0.172200</td>\n",
       "      <td>-0.373500</td>\n",
       "      <td>-0.004100</td>\n",
       "      <td>0.225400</td>\n",
       "      <td>0.487800</td>\n",
       "      <td>...</td>\n",
       "      <td>0.791700</td>\n",
       "      <td>-0.295900</td>\n",
       "      <td>0.071300</td>\n",
       "      <td>0.040500</td>\n",
       "      <td>0.043400</td>\n",
       "      <td>-0.108400</td>\n",
       "      <td>0.160700</td>\n",
       "      <td>0.322500</td>\n",
       "      <td>1.28680</td>\n",
       "      <td>0.87010</td>\n",
       "    </tr>\n",
       "    <tr>\n",
       "      <th>142</th>\n",
       "      <td>10.455660</td>\n",
       "      <td>12.095980</td>\n",
       "      <td>10.052000</td>\n",
       "      <td>11.81433</td>\n",
       "      <td>10.97239</td>\n",
       "      <td>10.961490</td>\n",
       "      <td>10.508920</td>\n",
       "      <td>10.341620</td>\n",
       "      <td>10.521600</td>\n",
       "      <td>10.651430</td>\n",
       "      <td>...</td>\n",
       "      <td>11.746290</td>\n",
       "      <td>10.966320</td>\n",
       "      <td>10.230520</td>\n",
       "      <td>10.595540</td>\n",
       "      <td>11.094570</td>\n",
       "      <td>10.093600</td>\n",
       "      <td>10.450330</td>\n",
       "      <td>10.933630</td>\n",
       "      <td>10.23711</td>\n",
       "      <td>11.90975</td>\n",
       "    </tr>\n",
       "    <tr>\n",
       "      <th>207</th>\n",
       "      <td>-0.012500</td>\n",
       "      <td>-0.080600</td>\n",
       "      <td>-0.153100</td>\n",
       "      <td>-0.34900</td>\n",
       "      <td>-0.86360</td>\n",
       "      <td>-0.720400</td>\n",
       "      <td>0.065900</td>\n",
       "      <td>-0.155000</td>\n",
       "      <td>-0.349200</td>\n",
       "      <td>-0.837000</td>\n",
       "      <td>...</td>\n",
       "      <td>-0.302900</td>\n",
       "      <td>-0.299700</td>\n",
       "      <td>-0.111400</td>\n",
       "      <td>0.017500</td>\n",
       "      <td>0.047700</td>\n",
       "      <td>0.573700</td>\n",
       "      <td>0.183600</td>\n",
       "      <td>-0.505800</td>\n",
       "      <td>0.37730</td>\n",
       "      <td>0.36350</td>\n",
       "    </tr>\n",
       "    <tr>\n",
       "      <th>207</th>\n",
       "      <td>8.724103</td>\n",
       "      <td>8.764409</td>\n",
       "      <td>9.049873</td>\n",
       "      <td>9.03498</td>\n",
       "      <td>7.64618</td>\n",
       "      <td>8.502084</td>\n",
       "      <td>8.990039</td>\n",
       "      <td>7.110089</td>\n",
       "      <td>7.861933</td>\n",
       "      <td>8.239972</td>\n",
       "      <td>...</td>\n",
       "      <td>7.710581</td>\n",
       "      <td>7.222625</td>\n",
       "      <td>8.342761</td>\n",
       "      <td>8.857367</td>\n",
       "      <td>8.661978</td>\n",
       "      <td>9.694582</td>\n",
       "      <td>9.064321</td>\n",
       "      <td>8.092056</td>\n",
       "      <td>9.40538</td>\n",
       "      <td>10.30875</td>\n",
       "    </tr>\n",
       "    <tr>\n",
       "      <th>317</th>\n",
       "      <td>-0.008300</td>\n",
       "      <td>0.455700</td>\n",
       "      <td>-0.248500</td>\n",
       "      <td>0.26840</td>\n",
       "      <td>0.04150</td>\n",
       "      <td>0.082100</td>\n",
       "      <td>0.026700</td>\n",
       "      <td>-0.123400</td>\n",
       "      <td>0.225600</td>\n",
       "      <td>-0.140100</td>\n",
       "      <td>...</td>\n",
       "      <td>-0.149300</td>\n",
       "      <td>-0.252900</td>\n",
       "      <td>-0.052700</td>\n",
       "      <td>0.036400</td>\n",
       "      <td>0.064600</td>\n",
       "      <td>0.206200</td>\n",
       "      <td>0.155600</td>\n",
       "      <td>-0.000700</td>\n",
       "      <td>-0.06940</td>\n",
       "      <td>0.13750</td>\n",
       "    </tr>\n",
       "  </tbody>\n",
       "</table>\n",
       "<p>5 rows × 498 columns</p>\n",
       "</div>"
      ],
      "text/plain": [
       "          3          7          10        15        16         19    \\\n",
       "142   0.064700   0.500200  -0.285600   0.32620   0.54400   0.172200   \n",
       "142  10.455660  12.095980  10.052000  11.81433  10.97239  10.961490   \n",
       "207  -0.012500  -0.080600  -0.153100  -0.34900  -0.86360  -0.720400   \n",
       "207   8.724103   8.764409   9.049873   9.03498   7.64618   8.502084   \n",
       "317  -0.008300   0.455700  -0.248500   0.26840   0.04150   0.082100   \n",
       "\n",
       "          21         22         23         25      ...          1271  \\\n",
       "142  -0.373500  -0.004100   0.225400   0.487800    ...      0.791700   \n",
       "142  10.508920  10.341620  10.521600  10.651430    ...     11.746290   \n",
       "207   0.065900  -0.155000  -0.349200  -0.837000    ...     -0.302900   \n",
       "207   8.990039   7.110089   7.861933   8.239972    ...      7.710581   \n",
       "317   0.026700  -0.123400   0.225600  -0.140100    ...     -0.149300   \n",
       "\n",
       "          1273       1278       1279       1280       1281       1282  \\\n",
       "142  -0.295900   0.071300   0.040500   0.043400  -0.108400   0.160700   \n",
       "142  10.966320  10.230520  10.595540  11.094570  10.093600  10.450330   \n",
       "207  -0.299700  -0.111400   0.017500   0.047700   0.573700   0.183600   \n",
       "207   7.222625   8.342761   8.857367   8.661978   9.694582   9.064321   \n",
       "317  -0.252900  -0.052700   0.036400   0.064600   0.206200   0.155600   \n",
       "\n",
       "          1283      1285      1286  \n",
       "142   0.322500   1.28680   0.87010  \n",
       "142  10.933630  10.23711  11.90975  \n",
       "207  -0.505800   0.37730   0.36350  \n",
       "207   8.092056   9.40538  10.30875  \n",
       "317  -0.000700  -0.06940   0.13750  \n",
       "\n",
       "[5 rows x 498 columns]"
      ]
     },
     "execution_count": 26,
     "metadata": {},
     "output_type": "execute_result"
    }
   ],
   "source": [
    "exp_cn_intersect_trans_pd = exp_cn_trans_pd.loc[intersection_values,:]\n",
    "exp_cn_intersect_trans_pd.head()"
   ]
  },
  {
   "cell_type": "code",
   "execution_count": 75,
   "metadata": {
    "collapsed": false
   },
   "outputs": [],
   "source": [
    "exp_cn_intersect_pd = exp_cn_intersect_trans_pd.transpose()\n",
    "exp_cn_intersect = exp_cn_intersect_pd.as_matrix()"
   ]
  },
  {
   "cell_type": "code",
   "execution_count": 76,
   "metadata": {
    "collapsed": false
   },
   "outputs": [
    {
     "name": "stdout",
     "output_type": "stream",
     "text": [
      "Amount of Variance explained by each component:  [ 0.12673612  0.08145182  0.06631468  0.04492885  0.04294762  0.02885218\n",
      "  0.02764816  0.0257217   0.02399443  0.02309992  0.02146368  0.02097849\n",
      "  0.0187048   0.01839407  0.01615147  0.01537174  0.01369769  0.0130754\n",
      "  0.01248631  0.0115982   0.01123443  0.01072639  0.01005073  0.00998993\n",
      "  0.00962065  0.0088579   0.00800308  0.00773333  0.00763924  0.00745562\n",
      "  0.00730545  0.00695434  0.00667212  0.00638848  0.0062839   0.00603375\n",
      "  0.00592298  0.00562623  0.00554448  0.00540119  0.00510118  0.0050417\n",
      "  0.0049155   0.00478766  0.00458662  0.00451098  0.00439     0.00424802\n",
      "  0.0041256   0.00408131]\n",
      "Total Variance Captured 0.852850089572\n"
     ]
    }
   ],
   "source": [
    "x_train, x_test, y_train, y_test = train_test_split(exp_cn_intersect, auc, test_size=0.2, random_state=42)\n",
    "y_test = y_test.flatten()\n",
    "y_train = y_train.flatten()\n",
    "pca = PCA(n_components=50)\n",
    "pca.fit(x_train)    \n",
    "x_train_pca = pca.transform(x_train)\n",
    "x_test_pca = pca.transform(x_test)\n",
    "print \"Amount of Variance explained by each component: \", pca.explained_variance_ratio_\n",
    "print \"Total Variance Captured\", np.sum(pca.explained_variance_ratio_)"
   ]
  },
  {
   "cell_type": "code",
   "execution_count": 77,
   "metadata": {
    "collapsed": false
   },
   "outputs": [
    {
     "data": {
      "image/png": "[encoded data removed]",
      "text/plain": [
       "<matplotlib.figure.Figure at 0x10df5b690>"
      ]
     },
     "metadata": {},
     "output_type": "display_data"
    }
   ],
   "source": [
    "# calculated r_2 values\n",
    "y_pred_linreg_PCA, r2_linreg_PCA = test_model (linreg)\n",
    "y_pred_svr_rbf_PCA, r2_svr_rbf_PCA = test_model (svr_rbf)\n",
    "y_pred_svr_lin_PCA, r2_svr_lin_PCA = test_model (svr_lin)\n",
    "y_pred_rf_PCA, r2_rf_PCA = test_model (rf)\n",
    "y_pred_lasso_PCA, r2_lasso_PCA = test_model (lasso)\n",
    "y_pred_net_PCA, r2_net_PCA = test_model (net)\n",
    "\n",
    "fig_all, ax = plt.subplots(2, 3, figsize=(20, 10))\n",
    "ax[0,0] = draw_plot (ax[0,0], y_pred_linreg_PCA, \"Linear Regression\", r2_linreg_PCA)\n",
    "ax[0,1] = draw_plot (ax[0,1], y_pred_svr_rbf_PCA, \"SVR RBF\", r2_svr_rbf_PCA)\n",
    "ax[0,2] = draw_plot (ax[0,2], y_pred_svr_lin_PCA, \"SVR Lin\", r2_svr_lin_PCA)\n",
    "ax[1,0] = draw_plot (ax[1,0], y_pred_rf_PCA, \"Random Forest\", r2_rf_PCA)\n",
    "ax[1,1] = draw_plot (ax[1,1], y_pred_lasso_PCA, \"Lasso\", r2_lasso_PCA)\n",
    "ax[1,2] = draw_plot (ax[1,2], y_pred_net_PCA, \"Elastic Net\", r2_net_PCA)"
   ]
  },
  {
   "cell_type": "code",
   "execution_count": 78,
   "metadata": {
    "collapsed": true
   },
   "outputs": [],
   "source": [
    "x_train, x_test, y_train, y_test = train_test_split(exp_cn_intersect, auc, test_size=0.2, random_state=42)\n",
    "y_test = y_test.flatten()\n",
    "y_train = y_train.flatten()"
   ]
  },
  {
   "cell_type": "code",
   "execution_count": 79,
   "metadata": {
    "collapsed": false
   },
   "outputs": [
    {
     "data": {
      "image/png": "[encoded data removed]",
      "text/plain": [
       "<matplotlib.figure.Figure at 0x11529b450>"
      ]
     },
     "metadata": {},
     "output_type": "display_data"
    }
   ],
   "source": [
    "# calculated r_2 values\n",
    "y_pred_linreg, r2_linreg = test_model (linreg)\n",
    "y_pred_svr_rbf, r2_svr_rbf = test_model (svr_rbf)\n",
    "y_pred_svr_lin, r2_svr_lin = test_model (svr_lin)\n",
    "y_pred_rf, r2_rf = test_model (rf)\n",
    "y_pred_lasso, r2_lasso = test_model (lasso)\n",
    "y_pred_net, r2_net = test_model (net)\n",
    "\n",
    "fig_all, ax = plt.subplots(2, 3, figsize=(20, 10))\n",
    "ax[0,0] = draw_plot (ax[0,0], y_pred_linreg, \"Linear Regression\", r2_linreg)\n",
    "ax[0,1] = draw_plot (ax[0,1], y_pred_svr_rbf, \"SVR RBF\", r2_svr_rbf)\n",
    "ax[0,2] = draw_plot (ax[0,2], y_pred_svr_lin, \"SVR Lin\", r2_svr_lin)\n",
    "ax[1,0] = draw_plot (ax[1,0], y_pred_rf, \"Random Forest\", r2_rf)\n",
    "ax[1,1] = draw_plot (ax[1,1], y_pred_lasso, \"Lasso\", r2_lasso)\n",
    "ax[1,2] = draw_plot (ax[1,2], y_pred_net, \"Elastic Net\", r2_net)"
   ]
  },
  {
   "cell_type": "code",
   "execution_count": 97,
   "metadata": {
    "collapsed": false
   },
   "outputs": [
    {
     "data": {
      "text/html": [
       "<div>\n",
       "<table border=\"1\" class=\"dataframe\">\n",
       "  <thead>\n",
       "    <tr style=\"text-align: right;\">\n",
       "      <th></th>\n",
       "      <th>Lasso</th>\n",
       "      <th>Linear Regression</th>\n",
       "      <th>Net</th>\n",
       "      <th>Random Forest</th>\n",
       "      <th>SVM Linear</th>\n",
       "      <th>SVM RBF</th>\n",
       "    </tr>\n",
       "  </thead>\n",
       "  <tbody>\n",
       "    <tr>\n",
       "      <th>All</th>\n",
       "      <td>0.119339</td>\n",
       "      <td>0.093567</td>\n",
       "      <td>0.025970</td>\n",
       "      <td>0.023293</td>\n",
       "      <td>0.104139</td>\n",
       "      <td>0.197470</td>\n",
       "    </tr>\n",
       "    <tr>\n",
       "      <th>PCA</th>\n",
       "      <td>0.222798</td>\n",
       "      <td>0.224064</td>\n",
       "      <td>0.223936</td>\n",
       "      <td>0.042445</td>\n",
       "      <td>0.193641</td>\n",
       "      <td>-0.046081</td>\n",
       "    </tr>\n",
       "  </tbody>\n",
       "</table>\n",
       "</div>"
      ],
      "text/plain": [
       "        Lasso  Linear Regression       Net  Random Forest  SVM Linear  \\\n",
       "All  0.119339           0.093567  0.025970       0.023293    0.104139   \n",
       "PCA  0.222798           0.224064  0.223936       0.042445    0.193641   \n",
       "\n",
       "      SVM RBF  \n",
       "All  0.197470  \n",
       "PCA -0.046081  "
      ]
     },
     "execution_count": 97,
     "metadata": {},
     "output_type": "execute_result"
    }
   ],
   "source": [
    "score_df = pd.DataFrame({'Linear Regression': [r2_linreg, r2_linreg_PCA],\n",
    "                         'SVM RBF': [r2_svr_rbf, r2_svr_rbf_PCA],\n",
    "                         'SVM Linear': [r2_svr_lin, r2_svr_lin_PCA],\n",
    "                         'Random Forest': [r2_rf,r2_rf_PCA],\n",
    "                         'Lasso': [r2_lasso, r2_lasso_PCA],\n",
    "                         'Net': [r2_net, r2_net_PCA]}, \n",
    "                       index=[\"All\", \"PCA\"])\n",
    "score_df"
   ]
  },
  {
   "cell_type": "code",
   "execution_count": 81,
   "metadata": {
    "collapsed": false
   },
   "outputs": [
    {
     "name": "stdout",
     "output_type": "stream",
     "text": [
      "(23174, 498)\n",
      "(18543, 498)\n",
      "(216, 498)\n",
      "(41717, 498)\n"
     ]
    }
   ],
   "source": [
    "print copynum_values_pd.shape\n",
    "print geneexp_values_pd.shape\n",
    "print exp_cn_intersect_trans_pd.shape\n",
    "print exp_cn_trans_pd.shape"
   ]
  },
  {
   "cell_type": "code",
   "execution_count": null,
   "metadata": {
    "collapsed": true
   },
   "outputs": [],
   "source": []
  }
 ],
 "metadata": {
  "kernelspec": {
   "display_name": "Python 2",
   "language": "python",
   "name": "python2"
  },
  "language_info": {
   "codemirror_mode": {
    "name": "ipython",
    "version": 2
   },
   "file_extension": ".py",
   "mimetype": "text/x-python",
   "name": "python",
   "nbconvert_exporter": "python",
   "pygments_lexer": "ipython2",
   "version": "2.7.13"
  }
 },
 "nbformat": 4,
 "nbformat_minor": 2
}
