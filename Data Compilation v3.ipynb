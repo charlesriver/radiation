{
 "cells": [
  {
   "cell_type": "code",
   "execution_count": 1,
   "metadata": {
    "collapsed": false
   },
   "outputs": [
    {
     "data": {
      "text/html": [
       "<script>\n",
       "code_show=true; \n",
       "function code_toggle() {\n",
       " if (code_show){\n",
       " $('div.input').hide();\n",
       " } else {\n",
       " $('div.input').show();\n",
       " }\n",
       " code_show = !code_show\n",
       "} \n",
       "$( document ).ready(code_toggle);\n",
       "</script>\n",
       "<form action=\"javascript:code_toggle()\"><input type=\"submit\" value=\"Click here to toggle on/off the raw code.\"></form>"
      ],
      "text/plain": [
       "<IPython.core.display.HTML object>"
      ]
     },
     "execution_count": 1,
     "metadata": {},
     "output_type": "execute_result"
    }
   ],
   "source": [
    "from IPython.display import HTML\n",
    "\n",
    "HTML('''<script>\n",
    "code_show=true; \n",
    "function code_toggle() {\n",
    " if (code_show){\n",
    " $('div.input').hide();\n",
    " } else {\n",
    " $('div.input').show();\n",
    " }\n",
    " code_show = !code_show\n",
    "} \n",
    "$( document ).ready(code_toggle);\n",
    "</script>\n",
    "<form action=\"javascript:code_toggle()\"><input type=\"submit\" value=\"Click here to toggle on/off the raw code.\"></form>''')"
   ]
  },
  {
   "cell_type": "markdown",
   "metadata": {},
   "source": [
    "<h1 align=\"center\"> Data Compilation </h1>\n",
    "<h4 align=\"center\"> Christine Zhang </h4>"
   ]
  },
  {
   "cell_type": "markdown",
   "metadata": {},
   "source": [
    "---"
   ]
  },
  {
   "cell_type": "code",
   "execution_count": 1,
   "metadata": {
    "collapsed": true
   },
   "outputs": [],
   "source": [
    "import numpy as np\n",
    "import pandas as pd"
   ]
  },
  {
   "cell_type": "code",
   "execution_count": 2,
   "metadata": {
    "collapsed": false
   },
   "outputs": [
    {
     "data": {
      "text/html": [
       "<div>\n",
       "<table border=\"1\" class=\"dataframe\">\n",
       "  <thead>\n",
       "    <tr style=\"text-align: right;\">\n",
       "      <th></th>\n",
       "      <th>mutation_call</th>\n",
       "      <th>hugo_gene_symbol</th>\n",
       "      <th>cell_line_feature</th>\n",
       "      <th>index_ccl</th>\n",
       "    </tr>\n",
       "  </thead>\n",
       "  <tbody>\n",
       "    <tr>\n",
       "      <th>0</th>\n",
       "      <td>CCLE Hybrid Capture Mutations</td>\n",
       "      <td>AAK1</td>\n",
       "      <td>AAK1_p._ANY_CODING_MUTATION</td>\n",
       "      <td>2;3;4;6;7;8;10;12;13;15;16;18;19;20;22;23;24;2...</td>\n",
       "    </tr>\n",
       "    <tr>\n",
       "      <th>1</th>\n",
       "      <td>CCLE Hybrid Capture Mutations</td>\n",
       "      <td>AAK1</td>\n",
       "      <td>AAK1_p.Q541</td>\n",
       "      <td>2;3;4;6;7;8;10;12;13;15;16;18;19;20;22;23;24;2...</td>\n",
       "    </tr>\n",
       "    <tr>\n",
       "      <th>2</th>\n",
       "      <td>CCLE Hybrid Capture Mutations</td>\n",
       "      <td>AAK1</td>\n",
       "      <td>AAK1_p.Q541indel2&gt;Q</td>\n",
       "      <td>2;3;4;6;7;8;10;12;13;15;16;18;19;20;22;23;24;2...</td>\n",
       "    </tr>\n",
       "    <tr>\n",
       "      <th>3</th>\n",
       "      <td>CCLE Hybrid Capture Mutations</td>\n",
       "      <td>AATK</td>\n",
       "      <td>AATK_p._ANY_CODING_MUTATION</td>\n",
       "      <td>38;60;72;114;126;145;149;157;183;207;226;269;3...</td>\n",
       "    </tr>\n",
       "    <tr>\n",
       "      <th>4</th>\n",
       "      <td>CCLE Hybrid Capture Mutations</td>\n",
       "      <td>ABCA3</td>\n",
       "      <td>ABCA3_p._ANY_CODING_MUTATION</td>\n",
       "      <td>8;36;52;67;113;126;127;128;130;131;132;133;135...</td>\n",
       "    </tr>\n",
       "    <tr>\n",
       "      <th>5</th>\n",
       "      <td>CCLE Hybrid Capture Mutations</td>\n",
       "      <td>ABCA3</td>\n",
       "      <td>ABCA3_p.L654</td>\n",
       "      <td>36;113;171;209</td>\n",
       "    </tr>\n",
       "    <tr>\n",
       "      <th>6</th>\n",
       "      <td>CCLE Hybrid Capture Mutations</td>\n",
       "      <td>ABCA3</td>\n",
       "      <td>ABCA3_p.L654V</td>\n",
       "      <td>36;113;171;209</td>\n",
       "    </tr>\n",
       "    <tr>\n",
       "      <th>7</th>\n",
       "      <td>CCLE Hybrid Capture Mutations</td>\n",
       "      <td>ABCA3</td>\n",
       "      <td>ABCA3_p.N124</td>\n",
       "      <td>127;343;556</td>\n",
       "    </tr>\n",
       "    <tr>\n",
       "      <th>8</th>\n",
       "      <td>CCLE Hybrid Capture Mutations</td>\n",
       "      <td>ABCA3</td>\n",
       "      <td>ABCA3_p.N124S</td>\n",
       "      <td>127;343;556</td>\n",
       "    </tr>\n",
       "    <tr>\n",
       "      <th>9</th>\n",
       "      <td>CCLE Hybrid Capture Mutations</td>\n",
       "      <td>ABCC3</td>\n",
       "      <td>ABCC3_p._ANY_CODING_MUTATION</td>\n",
       "      <td>17;66;128;131;133;135;157;168;182;193;198;202;...</td>\n",
       "    </tr>\n",
       "  </tbody>\n",
       "</table>\n",
       "</div>"
      ],
      "text/plain": [
       "                   mutation_call hugo_gene_symbol  \\\n",
       "0  CCLE Hybrid Capture Mutations             AAK1   \n",
       "1  CCLE Hybrid Capture Mutations             AAK1   \n",
       "2  CCLE Hybrid Capture Mutations             AAK1   \n",
       "3  CCLE Hybrid Capture Mutations             AATK   \n",
       "4  CCLE Hybrid Capture Mutations            ABCA3   \n",
       "5  CCLE Hybrid Capture Mutations            ABCA3   \n",
       "6  CCLE Hybrid Capture Mutations            ABCA3   \n",
       "7  CCLE Hybrid Capture Mutations            ABCA3   \n",
       "8  CCLE Hybrid Capture Mutations            ABCA3   \n",
       "9  CCLE Hybrid Capture Mutations            ABCC3   \n",
       "\n",
       "              cell_line_feature  \\\n",
       "0   AAK1_p._ANY_CODING_MUTATION   \n",
       "1                   AAK1_p.Q541   \n",
       "2           AAK1_p.Q541indel2>Q   \n",
       "3   AATK_p._ANY_CODING_MUTATION   \n",
       "4  ABCA3_p._ANY_CODING_MUTATION   \n",
       "5                  ABCA3_p.L654   \n",
       "6                 ABCA3_p.L654V   \n",
       "7                  ABCA3_p.N124   \n",
       "8                 ABCA3_p.N124S   \n",
       "9  ABCC3_p._ANY_CODING_MUTATION   \n",
       "\n",
       "                                           index_ccl  \n",
       "0  2;3;4;6;7;8;10;12;13;15;16;18;19;20;22;23;24;2...  \n",
       "1  2;3;4;6;7;8;10;12;13;15;16;18;19;20;22;23;24;2...  \n",
       "2  2;3;4;6;7;8;10;12;13;15;16;18;19;20;22;23;24;2...  \n",
       "3  38;60;72;114;126;145;149;157;183;207;226;269;3...  \n",
       "4  8;36;52;67;113;126;127;128;130;131;132;133;135...  \n",
       "5                                     36;113;171;209  \n",
       "6                                     36;113;171;209  \n",
       "7                                        127;343;556  \n",
       "8                                        127;343;556  \n",
       "9  17;66;128;131;133;135;157;168;182;193;198;202;...  "
      ]
     },
     "execution_count": 2,
     "metadata": {},
     "output_type": "execute_result"
    }
   ],
   "source": [
    "mut_pd = pd.read_csv('../Seashore-ludlow/v22.anno.ccl_mut_features.txt', sep =\"\\t\")\n",
    "mut = mut_pd.as_matrix()\n",
    "mut_pd.head(n=10)"
   ]
  },
  {
   "cell_type": "code",
   "execution_count": 3,
   "metadata": {
    "collapsed": false
   },
   "outputs": [
    {
     "data": {
      "text/plain": [
       "1574"
      ]
     },
     "execution_count": 3,
     "metadata": {},
     "output_type": "execute_result"
    }
   ],
   "source": [
    "len(mut_pd[\"hugo_gene_symbol\"].drop_duplicates())"
   ]
  },
  {
   "cell_type": "code",
   "execution_count": 4,
   "metadata": {
    "collapsed": false
   },
   "outputs": [
    {
     "data": {
      "text/html": [
       "<div>\n",
       "<table border=\"1\" class=\"dataframe\">\n",
       "  <thead>\n",
       "    <tr style=\"text-align: right;\">\n",
       "      <th></th>\n",
       "      <th>index_ccl</th>\n",
       "      <th>master_ccl_id</th>\n",
       "    </tr>\n",
       "  </thead>\n",
       "  <tbody>\n",
       "    <tr>\n",
       "      <th>0</th>\n",
       "      <td>1</td>\n",
       "      <td>144</td>\n",
       "    </tr>\n",
       "    <tr>\n",
       "      <th>1</th>\n",
       "      <td>2</td>\n",
       "      <td>475</td>\n",
       "    </tr>\n",
       "    <tr>\n",
       "      <th>2</th>\n",
       "      <td>3</td>\n",
       "      <td>528</td>\n",
       "    </tr>\n",
       "    <tr>\n",
       "      <th>3</th>\n",
       "      <td>4</td>\n",
       "      <td>571</td>\n",
       "    </tr>\n",
       "    <tr>\n",
       "      <th>4</th>\n",
       "      <td>5</td>\n",
       "      <td>572</td>\n",
       "    </tr>\n",
       "    <tr>\n",
       "      <th>5</th>\n",
       "      <td>6</td>\n",
       "      <td>678</td>\n",
       "    </tr>\n",
       "    <tr>\n",
       "      <th>6</th>\n",
       "      <td>7</td>\n",
       "      <td>720</td>\n",
       "    </tr>\n",
       "    <tr>\n",
       "      <th>7</th>\n",
       "      <td>8</td>\n",
       "      <td>852</td>\n",
       "    </tr>\n",
       "    <tr>\n",
       "      <th>8</th>\n",
       "      <td>9</td>\n",
       "      <td>1030</td>\n",
       "    </tr>\n",
       "    <tr>\n",
       "      <th>9</th>\n",
       "      <td>10</td>\n",
       "      <td>1051</td>\n",
       "    </tr>\n",
       "  </tbody>\n",
       "</table>\n",
       "</div>"
      ],
      "text/plain": [
       "   index_ccl  master_ccl_id\n",
       "0          1            144\n",
       "1          2            475\n",
       "2          3            528\n",
       "3          4            571\n",
       "4          5            572\n",
       "5          6            678\n",
       "6          7            720\n",
       "7          8            852\n",
       "8          9           1030\n",
       "9         10           1051"
      ]
     },
     "execution_count": 4,
     "metadata": {},
     "output_type": "execute_result"
    }
   ],
   "source": [
    "index_pd = pd.read_csv('../Seashore-ludlow/v22.meta.per_cell_line.txt', sep =\"\\t\")\n",
    "correlation_pd = index_pd[[\"index_ccl\", \"master_ccl_id\"]]\n",
    "correlation = correlation_pd.as_matrix()\n",
    "correlation_pd.head(n=10)"
   ]
  },
  {
   "cell_type": "code",
   "execution_count": 5,
   "metadata": {
    "collapsed": false,
    "scrolled": true
   },
   "outputs": [
    {
     "name": "stdout",
     "output_type": "stream",
     "text": [
      "[['144' 'CCLE Hybrid Capture Mutations' 'AKAP9' 'AKAP9_p.X1335']\n",
      " ['144' 'CCLE Hybrid Capture Mutations' 'AKAP9' 'AKAP9_p.X1335ins']\n",
      " ['144' 'CCLE Hybrid Capture Mutations' 'AKAP9' 'AKAP9_p.X1335insQ']\n",
      " ..., \n",
      " ['1250' 'CCLE Oncomap (v3) Mutations' 'TP53' 'TP53_p.R175']\n",
      " ['1250' 'CCLE Oncomap (v3) Mutations' 'TP53' 'TP53_p.R175H']\n",
      " ['1250' 'CCLE Oncomap (v3) Mutations' 'TP53' 'TP53_p._ANY_CODING_MUTATION']]\n"
     ]
    }
   ],
   "source": [
    "# reformat array by ccl\n",
    "mut_by_ccl = []\n",
    "for row in range(0, len(mut)):\n",
    "    for each_mut in mut[row][-1].split(\";\"):\n",
    "        mut_by_ccl.append([int(each_mut), mut[row][0], mut[row][1], mut[row][2]])\n",
    "mut_by_ccl_sorted = sorted(mut_by_ccl)\n",
    "mut_sorted = np.array(mut_by_ccl_sorted)\n",
    "\n",
    "# covert index ccl to master ccl id\n",
    "corr_lst = list(correlation[:,0])\n",
    "for mut_index, row in enumerate(mut_sorted):\n",
    "    if int(row[0]) in correlation[:,0]:\n",
    "        corr_index = corr_lst.index(int(row[0]))\n",
    "        mut_sorted[mut_index, 0] = correlation[corr_index, 1]\n",
    "print mut_sorted"
   ]
  },
  {
   "cell_type": "code",
   "execution_count": 6,
   "metadata": {
    "collapsed": false
   },
   "outputs": [
    {
     "data": {
      "text/html": [
       "<div>\n",
       "<table border=\"1\" class=\"dataframe\">\n",
       "  <thead>\n",
       "    <tr style=\"text-align: right;\">\n",
       "      <th></th>\n",
       "      <th>master_ccl_id</th>\n",
       "      <th>entrez_gene_id</th>\n",
       "      <th>copy_number_var_avg_log2</th>\n",
       "    </tr>\n",
       "  </thead>\n",
       "  <tbody>\n",
       "    <tr>\n",
       "      <th>0</th>\n",
       "      <td>1</td>\n",
       "      <td>1</td>\n",
       "      <td>0.0661</td>\n",
       "    </tr>\n",
       "    <tr>\n",
       "      <th>1</th>\n",
       "      <td>1</td>\n",
       "      <td>503538</td>\n",
       "      <td>0.0661</td>\n",
       "    </tr>\n",
       "    <tr>\n",
       "      <th>2</th>\n",
       "      <td>1</td>\n",
       "      <td>29974</td>\n",
       "      <td>-0.0080</td>\n",
       "    </tr>\n",
       "    <tr>\n",
       "      <th>3</th>\n",
       "      <td>1</td>\n",
       "      <td>2</td>\n",
       "      <td>-0.0233</td>\n",
       "    </tr>\n",
       "    <tr>\n",
       "      <th>4</th>\n",
       "      <td>1</td>\n",
       "      <td>144571</td>\n",
       "      <td>-0.0233</td>\n",
       "    </tr>\n",
       "    <tr>\n",
       "      <th>5</th>\n",
       "      <td>1</td>\n",
       "      <td>144568</td>\n",
       "      <td>-0.0233</td>\n",
       "    </tr>\n",
       "    <tr>\n",
       "      <th>6</th>\n",
       "      <td>1</td>\n",
       "      <td>3</td>\n",
       "      <td>-0.0233</td>\n",
       "    </tr>\n",
       "    <tr>\n",
       "      <th>7</th>\n",
       "      <td>1</td>\n",
       "      <td>53947</td>\n",
       "      <td>0.0229</td>\n",
       "    </tr>\n",
       "    <tr>\n",
       "      <th>8</th>\n",
       "      <td>1</td>\n",
       "      <td>51146</td>\n",
       "      <td>-0.0459</td>\n",
       "    </tr>\n",
       "    <tr>\n",
       "      <th>9</th>\n",
       "      <td>1</td>\n",
       "      <td>100506677</td>\n",
       "      <td>-0.0143</td>\n",
       "    </tr>\n",
       "  </tbody>\n",
       "</table>\n",
       "</div>"
      ],
      "text/plain": [
       "   master_ccl_id  entrez_gene_id  copy_number_var_avg_log2\n",
       "0              1               1                    0.0661\n",
       "1              1          503538                    0.0661\n",
       "2              1           29974                   -0.0080\n",
       "3              1               2                   -0.0233\n",
       "4              1          144571                   -0.0233\n",
       "5              1          144568                   -0.0233\n",
       "6              1               3                   -0.0233\n",
       "7              1           53947                    0.0229\n",
       "8              1           51146                   -0.0459\n",
       "9              1       100506677                   -0.0143"
      ]
     },
     "execution_count": 6,
     "metadata": {},
     "output_type": "execute_result"
    }
   ],
   "source": [
    "copynum_pd = pd.read_csv('../Rees/v21.data.cnv_avg_log2.txt', skiprows = [], sep =\"\\t\")\n",
    "copynum = copynum_pd.as_matrix()\n",
    "copynum_pd.head(n=10)"
   ]
  },
  {
   "cell_type": "code",
   "execution_count": 7,
   "metadata": {
    "collapsed": false
   },
   "outputs": [
    {
     "data": {
      "text/plain": [
       "23174"
      ]
     },
     "execution_count": 7,
     "metadata": {},
     "output_type": "execute_result"
    }
   ],
   "source": [
    "master_ccl = copynum_pd[\"entrez_gene_id\"].drop_duplicates()\n",
    "len(master_ccl)"
   ]
  },
  {
   "cell_type": "code",
   "execution_count": 8,
   "metadata": {
    "collapsed": false
   },
   "outputs": [
    {
     "data": {
      "text/html": [
       "<div>\n",
       "<table border=\"1\" class=\"dataframe\">\n",
       "  <thead>\n",
       "    <tr style=\"text-align: right;\">\n",
       "      <th></th>\n",
       "      <th>Cclid</th>\n",
       "      <th>Cellline</th>\n",
       "      <th>Sites</th>\n",
       "      <th>Histology</th>\n",
       "      <th>Subhistology</th>\n",
       "      <th>Culture</th>\n",
       "      <th>SNP</th>\n",
       "      <th>AUC</th>\n",
       "    </tr>\n",
       "  </thead>\n",
       "  <tbody>\n",
       "    <tr>\n",
       "      <th>0</th>\n",
       "      <td>3</td>\n",
       "      <td>5637</td>\n",
       "      <td>urinary_tract</td>\n",
       "      <td>carcinoma</td>\n",
       "      <td>NS</td>\n",
       "      <td>RPMI001</td>\n",
       "      <td>SNP-matched-reference</td>\n",
       "      <td>2.473</td>\n",
       "    </tr>\n",
       "    <tr>\n",
       "      <th>1</th>\n",
       "      <td>7</td>\n",
       "      <td>22RV1</td>\n",
       "      <td>prostate</td>\n",
       "      <td>carcinoma</td>\n",
       "      <td>NS</td>\n",
       "      <td>RPMI001</td>\n",
       "      <td>SNP-matched-reference</td>\n",
       "      <td>2.142</td>\n",
       "    </tr>\n",
       "    <tr>\n",
       "      <th>2</th>\n",
       "      <td>10</td>\n",
       "      <td>42MGBA</td>\n",
       "      <td>central_nervous_system</td>\n",
       "      <td>glioma</td>\n",
       "      <td>astrocytoma_Grade_IV</td>\n",
       "      <td>RPMIMEM001</td>\n",
       "      <td>SNP-matched-reference</td>\n",
       "      <td>3.380</td>\n",
       "    </tr>\n",
       "    <tr>\n",
       "      <th>3</th>\n",
       "      <td>15</td>\n",
       "      <td>647V</td>\n",
       "      <td>urinary_tract</td>\n",
       "      <td>carcinoma</td>\n",
       "      <td>transitional_cell_carcinoma</td>\n",
       "      <td>DMEM011</td>\n",
       "      <td>SNP-matched-reference</td>\n",
       "      <td>3.374</td>\n",
       "    </tr>\n",
       "    <tr>\n",
       "      <th>4</th>\n",
       "      <td>16</td>\n",
       "      <td>769P</td>\n",
       "      <td>kidney</td>\n",
       "      <td>carcinoma</td>\n",
       "      <td>clear_cell_renal_cell_carcinoma</td>\n",
       "      <td>RPMI001</td>\n",
       "      <td>SNP-matched-reference</td>\n",
       "      <td>3.123</td>\n",
       "    </tr>\n",
       "    <tr>\n",
       "      <th>5</th>\n",
       "      <td>19</td>\n",
       "      <td>786O</td>\n",
       "      <td>kidney</td>\n",
       "      <td>carcinoma</td>\n",
       "      <td>clear_cell_renal_cell_carcinoma</td>\n",
       "      <td>RPMI001</td>\n",
       "      <td>SNP-matched-reference</td>\n",
       "      <td>3.779</td>\n",
       "    </tr>\n",
       "    <tr>\n",
       "      <th>6</th>\n",
       "      <td>21</td>\n",
       "      <td>8505C</td>\n",
       "      <td>thyroid</td>\n",
       "      <td>carcinoma</td>\n",
       "      <td>anaplastic_carcinoma</td>\n",
       "      <td>EMEM001</td>\n",
       "      <td>SNP-matched-reference</td>\n",
       "      <td>3.471</td>\n",
       "    </tr>\n",
       "    <tr>\n",
       "      <th>7</th>\n",
       "      <td>22</td>\n",
       "      <td>8MGBA</td>\n",
       "      <td>central_nervous_system</td>\n",
       "      <td>glioma</td>\n",
       "      <td>astrocytoma_Grade_IV</td>\n",
       "      <td>EMEM005</td>\n",
       "      <td>SNP-matched-reference</td>\n",
       "      <td>2.625</td>\n",
       "    </tr>\n",
       "    <tr>\n",
       "      <th>8</th>\n",
       "      <td>23</td>\n",
       "      <td>A101D</td>\n",
       "      <td>skin</td>\n",
       "      <td>malignant_melanoma</td>\n",
       "      <td>NS</td>\n",
       "      <td>DMEM001</td>\n",
       "      <td>SNP-matched-reference</td>\n",
       "      <td>4.677</td>\n",
       "    </tr>\n",
       "    <tr>\n",
       "      <th>9</th>\n",
       "      <td>25</td>\n",
       "      <td>A172</td>\n",
       "      <td>central_nervous_system</td>\n",
       "      <td>glioma</td>\n",
       "      <td>astrocytoma_Grade_IV</td>\n",
       "      <td>DMEM001</td>\n",
       "      <td>SNP-matched-reference</td>\n",
       "      <td>2.751</td>\n",
       "    </tr>\n",
       "  </tbody>\n",
       "</table>\n",
       "</div>"
      ],
      "text/plain": [
       "   Cclid Cellline                   Sites           Histology  \\\n",
       "0      3     5637           urinary_tract           carcinoma   \n",
       "1      7    22RV1                prostate           carcinoma   \n",
       "2     10   42MGBA  central_nervous_system              glioma   \n",
       "3     15     647V           urinary_tract           carcinoma   \n",
       "4     16     769P                  kidney           carcinoma   \n",
       "5     19     786O                  kidney           carcinoma   \n",
       "6     21    8505C                 thyroid           carcinoma   \n",
       "7     22    8MGBA  central_nervous_system              glioma   \n",
       "8     23    A101D                    skin  malignant_melanoma   \n",
       "9     25     A172  central_nervous_system              glioma   \n",
       "\n",
       "                      Subhistology     Culture                    SNP    AUC  \n",
       "0                               NS     RPMI001  SNP-matched-reference  2.473  \n",
       "1                               NS     RPMI001  SNP-matched-reference  2.142  \n",
       "2             astrocytoma_Grade_IV  RPMIMEM001  SNP-matched-reference  3.380  \n",
       "3      transitional_cell_carcinoma     DMEM011  SNP-matched-reference  3.374  \n",
       "4  clear_cell_renal_cell_carcinoma     RPMI001  SNP-matched-reference  3.123  \n",
       "5  clear_cell_renal_cell_carcinoma     RPMI001  SNP-matched-reference  3.779  \n",
       "6             anaplastic_carcinoma     EMEM001  SNP-matched-reference  3.471  \n",
       "7             astrocytoma_Grade_IV     EMEM005  SNP-matched-reference  2.625  \n",
       "8                               NS     DMEM001  SNP-matched-reference  4.677  \n",
       "9             astrocytoma_Grade_IV     DMEM001  SNP-matched-reference  2.751  "
      ]
     },
     "execution_count": 8,
     "metadata": {},
     "output_type": "execute_result"
    }
   ],
   "source": [
    "auc_pd = pd.read_csv('dataset1.csv', skiprows = [0,1], sep =\",\", \n",
    "                          names = [\"Cclid\", \"Cellline\", \"Sites\", \"Histology\", \"Subhistology\", \"Culture\", \"SNP\", \"AUC\"])\n",
    "auc = auc_pd.as_matrix()\n",
    "auc_pd.head(n=10)"
   ]
  },
  {
   "cell_type": "code",
   "execution_count": 9,
   "metadata": {
    "collapsed": true
   },
   "outputs": [],
   "source": [
    "def intersect (first, second, combined, toggle, type_var):\n",
    "    if toggle == 1:\n",
    "        first = list(set(first[:,0]))\n",
    "        second = list(set(second[:,0]))\n",
    "    for row in first:\n",
    "        if type_var == \"str\":\n",
    "            if str(row) in second:\n",
    "                combined.append(row)\n",
    "        if type_var == \"float\":\n",
    "            if float(row) in second:\n",
    "                combined.append(row)\n",
    "        if type_var == \"int\":\n",
    "            if int(row) in second:\n",
    "                combined.append(row)\n",
    "    return combined, len(combined)"
   ]
  },
  {
   "cell_type": "code",
   "execution_count": 10,
   "metadata": {
    "collapsed": false
   },
   "outputs": [
    {
     "name": "stdout",
     "output_type": "stream",
     "text": [
      "Total Number of Master CCL Ids: 472\n"
     ]
    }
   ],
   "source": [
    "auc_mut, mut_copynum, auc_mut_copynum = [], [], []\n",
    "\n",
    "auc_mut_lst, auc_mut_len = intersect (auc, mut_sorted, auc_mut, 1, \"str\")\n",
    "mut_copynum_lst, mut_copynum_len = intersect (auc, copynum, mut_copynum, 1, \"float\")\n",
    "all_overlap, all_len = intersect (auc_mut_lst, mut_copynum_lst, auc_mut_copynum, 0, \"int\")\n",
    "\n",
    "print \"Total Number of Master CCL Ids: \" + str(all_len)"
   ]
  },
  {
   "cell_type": "code",
   "execution_count": null,
   "metadata": {
    "collapsed": true
   },
   "outputs": [],
   "source": []
  }
 ],
 "metadata": {
  "kernelspec": {
   "display_name": "Python 2",
   "language": "python",
   "name": "python2"
  },
  "language_info": {
   "codemirror_mode": {
    "name": "ipython",
    "version": 2
   },
   "file_extension": ".py",
   "mimetype": "text/x-python",
   "name": "python",
   "nbconvert_exporter": "python",
   "pygments_lexer": "ipython2",
   "version": "2.7.13"
  }
 },
 "nbformat": 4,
 "nbformat_minor": 2
}
