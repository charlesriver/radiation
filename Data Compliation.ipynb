{
 "cells": [
  {
   "cell_type": "code",
   "execution_count": 1,
   "metadata": {
    "collapsed": false
   },
   "outputs": [
    {
     "data": {
      "text/html": [
       "<script>\n",
       "code_show=true; \n",
       "function code_toggle() {\n",
       " if (code_show){\n",
       " $('div.input').hide();\n",
       " } else {\n",
       " $('div.input').show();\n",
       " }\n",
       " code_show = !code_show\n",
       "} \n",
       "$( document ).ready(code_toggle);\n",
       "</script>\n",
       "<form action=\"javascript:code_toggle()\"><input type=\"submit\" value=\"Click here to toggle on/off the raw code.\"></form>"
      ],
      "text/plain": [
       "<IPython.core.display.HTML object>"
      ]
     },
     "execution_count": 1,
     "metadata": {},
     "output_type": "execute_result"
    }
   ],
   "source": [
    "from IPython.display import HTML\n",
    "\n",
    "HTML('''<script>\n",
    "code_show=true; \n",
    "function code_toggle() {\n",
    " if (code_show){\n",
    " $('div.input').hide();\n",
    " } else {\n",
    " $('div.input').show();\n",
    " }\n",
    " code_show = !code_show\n",
    "} \n",
    "$( document ).ready(code_toggle);\n",
    "</script>\n",
    "<form action=\"javascript:code_toggle()\"><input type=\"submit\" value=\"Click here to toggle on/off the raw code.\"></form>''')"
   ]
  },
  {
   "cell_type": "markdown",
   "metadata": {},
   "source": [
    "<h1 align=\"center\"> Data Compliation </h1>\n",
    "<h4 align=\"center\"> Christine Zhang </h4>"
   ]
  },
  {
   "cell_type": "markdown",
   "metadata": {},
   "source": [
    "---"
   ]
  },
  {
   "cell_type": "code",
   "execution_count": 3,
   "metadata": {
    "collapsed": true
   },
   "outputs": [],
   "source": [
    "import numpy as np\n",
    "import pandas as pd"
   ]
  },
  {
   "cell_type": "code",
   "execution_count": 74,
   "metadata": {
    "collapsed": false
   },
   "outputs": [
    {
     "data": {
      "text/html": [
       "<div>\n",
       "<table border=\"1\" class=\"dataframe\">\n",
       "  <thead>\n",
       "    <tr style=\"text-align: right;\">\n",
       "      <th></th>\n",
       "      <th>mutation_call</th>\n",
       "      <th>hugo_gene_symbol</th>\n",
       "      <th>cell_line_feature</th>\n",
       "      <th>index_ccl</th>\n",
       "    </tr>\n",
       "  </thead>\n",
       "  <tbody>\n",
       "    <tr>\n",
       "      <th>0</th>\n",
       "      <td>CCLE Hybrid Capture Mutations</td>\n",
       "      <td>AAK1</td>\n",
       "      <td>AAK1_p._ANY_CODING_MUTATION</td>\n",
       "      <td>2;3;4;6;7;8;10;12;13;15;16;18;19;20;22;23;24;2...</td>\n",
       "    </tr>\n",
       "    <tr>\n",
       "      <th>1</th>\n",
       "      <td>CCLE Hybrid Capture Mutations</td>\n",
       "      <td>AAK1</td>\n",
       "      <td>AAK1_p.Q541</td>\n",
       "      <td>2;3;4;6;7;8;10;12;13;15;16;18;19;20;22;23;24;2...</td>\n",
       "    </tr>\n",
       "    <tr>\n",
       "      <th>2</th>\n",
       "      <td>CCLE Hybrid Capture Mutations</td>\n",
       "      <td>AAK1</td>\n",
       "      <td>AAK1_p.Q541indel2&gt;Q</td>\n",
       "      <td>2;3;4;6;7;8;10;12;13;15;16;18;19;20;22;23;24;2...</td>\n",
       "    </tr>\n",
       "    <tr>\n",
       "      <th>3</th>\n",
       "      <td>CCLE Hybrid Capture Mutations</td>\n",
       "      <td>AATK</td>\n",
       "      <td>AATK_p._ANY_CODING_MUTATION</td>\n",
       "      <td>38;60;72;114;126;145;149;157;183;207;226;269;3...</td>\n",
       "    </tr>\n",
       "    <tr>\n",
       "      <th>4</th>\n",
       "      <td>CCLE Hybrid Capture Mutations</td>\n",
       "      <td>ABCA3</td>\n",
       "      <td>ABCA3_p._ANY_CODING_MUTATION</td>\n",
       "      <td>8;36;52;67;113;126;127;128;130;131;132;133;135...</td>\n",
       "    </tr>\n",
       "    <tr>\n",
       "      <th>5</th>\n",
       "      <td>CCLE Hybrid Capture Mutations</td>\n",
       "      <td>ABCA3</td>\n",
       "      <td>ABCA3_p.L654</td>\n",
       "      <td>36;113;171;209</td>\n",
       "    </tr>\n",
       "    <tr>\n",
       "      <th>6</th>\n",
       "      <td>CCLE Hybrid Capture Mutations</td>\n",
       "      <td>ABCA3</td>\n",
       "      <td>ABCA3_p.L654V</td>\n",
       "      <td>36;113;171;209</td>\n",
       "    </tr>\n",
       "    <tr>\n",
       "      <th>7</th>\n",
       "      <td>CCLE Hybrid Capture Mutations</td>\n",
       "      <td>ABCA3</td>\n",
       "      <td>ABCA3_p.N124</td>\n",
       "      <td>127;343;556</td>\n",
       "    </tr>\n",
       "    <tr>\n",
       "      <th>8</th>\n",
       "      <td>CCLE Hybrid Capture Mutations</td>\n",
       "      <td>ABCA3</td>\n",
       "      <td>ABCA3_p.N124S</td>\n",
       "      <td>127;343;556</td>\n",
       "    </tr>\n",
       "    <tr>\n",
       "      <th>9</th>\n",
       "      <td>CCLE Hybrid Capture Mutations</td>\n",
       "      <td>ABCC3</td>\n",
       "      <td>ABCC3_p._ANY_CODING_MUTATION</td>\n",
       "      <td>17;66;128;131;133;135;157;168;182;193;198;202;...</td>\n",
       "    </tr>\n",
       "  </tbody>\n",
       "</table>\n",
       "</div>"
      ],
      "text/plain": [
       "                   mutation_call hugo_gene_symbol  \\\n",
       "0  CCLE Hybrid Capture Mutations             AAK1   \n",
       "1  CCLE Hybrid Capture Mutations             AAK1   \n",
       "2  CCLE Hybrid Capture Mutations             AAK1   \n",
       "3  CCLE Hybrid Capture Mutations             AATK   \n",
       "4  CCLE Hybrid Capture Mutations            ABCA3   \n",
       "5  CCLE Hybrid Capture Mutations            ABCA3   \n",
       "6  CCLE Hybrid Capture Mutations            ABCA3   \n",
       "7  CCLE Hybrid Capture Mutations            ABCA3   \n",
       "8  CCLE Hybrid Capture Mutations            ABCA3   \n",
       "9  CCLE Hybrid Capture Mutations            ABCC3   \n",
       "\n",
       "              cell_line_feature  \\\n",
       "0   AAK1_p._ANY_CODING_MUTATION   \n",
       "1                   AAK1_p.Q541   \n",
       "2           AAK1_p.Q541indel2>Q   \n",
       "3   AATK_p._ANY_CODING_MUTATION   \n",
       "4  ABCA3_p._ANY_CODING_MUTATION   \n",
       "5                  ABCA3_p.L654   \n",
       "6                 ABCA3_p.L654V   \n",
       "7                  ABCA3_p.N124   \n",
       "8                 ABCA3_p.N124S   \n",
       "9  ABCC3_p._ANY_CODING_MUTATION   \n",
       "\n",
       "                                           index_ccl  \n",
       "0  2;3;4;6;7;8;10;12;13;15;16;18;19;20;22;23;24;2...  \n",
       "1  2;3;4;6;7;8;10;12;13;15;16;18;19;20;22;23;24;2...  \n",
       "2  2;3;4;6;7;8;10;12;13;15;16;18;19;20;22;23;24;2...  \n",
       "3  38;60;72;114;126;145;149;157;183;207;226;269;3...  \n",
       "4  8;36;52;67;113;126;127;128;130;131;132;133;135...  \n",
       "5                                     36;113;171;209  \n",
       "6                                     36;113;171;209  \n",
       "7                                        127;343;556  \n",
       "8                                        127;343;556  \n",
       "9  17;66;128;131;133;135;157;168;182;193;198;202;...  "
      ]
     },
     "execution_count": 74,
     "metadata": {},
     "output_type": "execute_result"
    }
   ],
   "source": [
    "mut_pd = pd.read_csv('../Seashore-ludlow/v22.anno.ccl_mut_features.txt', sep =\"\\t\")\n",
    "mut = mut_pd.as_matrix()\n",
    "mut_pd.head(n=10)"
   ]
  },
  {
   "cell_type": "code",
   "execution_count": 76,
   "metadata": {
    "collapsed": false
   },
   "outputs": [
    {
     "name": "stdout",
     "output_type": "stream",
     "text": [
      "[['1' 'CCLE Hybrid Capture Mutations' 'AKAP9' 'AKAP9_p.X1335']\n",
      " ['1' 'CCLE Hybrid Capture Mutations' 'AKAP9' 'AKAP9_p.X1335ins']\n",
      " ['1' 'CCLE Hybrid Capture Mutations' 'AKAP9' 'AKAP9_p.X1335insQ']\n",
      " ..., \n",
      " ['664' 'CCLE Oncomap (v3) Mutations' 'TP53' 'TP53_p.R175']\n",
      " ['664' 'CCLE Oncomap (v3) Mutations' 'TP53' 'TP53_p.R175H']\n",
      " ['664' 'CCLE Oncomap (v3) Mutations' 'TP53' 'TP53_p._ANY_CODING_MUTATION']]\n"
     ]
    }
   ],
   "source": [
    "mut_by_ccl = []\n",
    "for row in range(0, len(mut)):\n",
    "    for each_mut in mut[row][-1].split(\";\"):\n",
    "        mut_by_ccl.append([int(each_mut), mut[row][0], mut[row][1], mut[row][2]])\n",
    "mut_by_ccl_sorted = sorted(mut_by_ccl)\n",
    "print np.array(mut_by_ccl_sorted)"
   ]
  },
  {
   "cell_type": "code",
   "execution_count": 75,
   "metadata": {
    "collapsed": false
   },
   "outputs": [
    {
     "data": {
      "text/html": [
       "<div>\n",
       "<table border=\"1\" class=\"dataframe\">\n",
       "  <thead>\n",
       "    <tr style=\"text-align: right;\">\n",
       "      <th></th>\n",
       "      <th>master_ccl_id</th>\n",
       "      <th>entrez_gene_id</th>\n",
       "      <th>copy_number_var_avg_log2</th>\n",
       "    </tr>\n",
       "  </thead>\n",
       "  <tbody>\n",
       "    <tr>\n",
       "      <th>0</th>\n",
       "      <td>1</td>\n",
       "      <td>1</td>\n",
       "      <td>0.0661</td>\n",
       "    </tr>\n",
       "    <tr>\n",
       "      <th>1</th>\n",
       "      <td>1</td>\n",
       "      <td>503538</td>\n",
       "      <td>0.0661</td>\n",
       "    </tr>\n",
       "    <tr>\n",
       "      <th>2</th>\n",
       "      <td>1</td>\n",
       "      <td>29974</td>\n",
       "      <td>-0.0080</td>\n",
       "    </tr>\n",
       "    <tr>\n",
       "      <th>3</th>\n",
       "      <td>1</td>\n",
       "      <td>2</td>\n",
       "      <td>-0.0233</td>\n",
       "    </tr>\n",
       "    <tr>\n",
       "      <th>4</th>\n",
       "      <td>1</td>\n",
       "      <td>144571</td>\n",
       "      <td>-0.0233</td>\n",
       "    </tr>\n",
       "    <tr>\n",
       "      <th>5</th>\n",
       "      <td>1</td>\n",
       "      <td>144568</td>\n",
       "      <td>-0.0233</td>\n",
       "    </tr>\n",
       "    <tr>\n",
       "      <th>6</th>\n",
       "      <td>1</td>\n",
       "      <td>3</td>\n",
       "      <td>-0.0233</td>\n",
       "    </tr>\n",
       "    <tr>\n",
       "      <th>7</th>\n",
       "      <td>1</td>\n",
       "      <td>53947</td>\n",
       "      <td>0.0229</td>\n",
       "    </tr>\n",
       "    <tr>\n",
       "      <th>8</th>\n",
       "      <td>1</td>\n",
       "      <td>51146</td>\n",
       "      <td>-0.0459</td>\n",
       "    </tr>\n",
       "    <tr>\n",
       "      <th>9</th>\n",
       "      <td>1</td>\n",
       "      <td>100506677</td>\n",
       "      <td>-0.0143</td>\n",
       "    </tr>\n",
       "  </tbody>\n",
       "</table>\n",
       "</div>"
      ],
      "text/plain": [
       "   master_ccl_id  entrez_gene_id  copy_number_var_avg_log2\n",
       "0              1               1                    0.0661\n",
       "1              1          503538                    0.0661\n",
       "2              1           29974                   -0.0080\n",
       "3              1               2                   -0.0233\n",
       "4              1          144571                   -0.0233\n",
       "5              1          144568                   -0.0233\n",
       "6              1               3                   -0.0233\n",
       "7              1           53947                    0.0229\n",
       "8              1           51146                   -0.0459\n",
       "9              1       100506677                   -0.0143"
      ]
     },
     "execution_count": 75,
     "metadata": {},
     "output_type": "execute_result"
    }
   ],
   "source": [
    "copynum = pd.read_csv('../Rees/v21.data.cnv_avg_log2.txt', skiprows = [], sep =\"\\t\")\n",
    "copynum.head(n=10)"
   ]
  },
  {
   "cell_type": "code",
   "execution_count": null,
   "metadata": {
    "collapsed": true
   },
   "outputs": [],
   "source": []
  }
 ],
 "metadata": {
  "kernelspec": {
   "display_name": "Python 2",
   "language": "python",
   "name": "python2"
  },
  "language_info": {
   "codemirror_mode": {
    "name": "ipython",
    "version": 2
   },
   "file_extension": ".py",
   "mimetype": "text/x-python",
   "name": "python",
   "nbconvert_exporter": "python",
   "pygments_lexer": "ipython2",
   "version": "2.7.13"
  }
 },
 "nbformat": 4,
 "nbformat_minor": 2
}
