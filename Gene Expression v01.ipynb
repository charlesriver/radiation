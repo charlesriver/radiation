{
 "cells": [
  {
   "cell_type": "code",
   "execution_count": 2,
   "metadata": {
    "collapsed": false
   },
   "outputs": [
    {
     "data": {
      "text/html": [
       "<script>\n",
       "code_show=true; \n",
       "function code_toggle() {\n",
       " if (code_show){\n",
       " $('div.input').hide();\n",
       " } else {\n",
       " $('div.input').show();\n",
       " }\n",
       " code_show = !code_show\n",
       "} \n",
       "$( document ).ready(code_toggle);\n",
       "</script>\n",
       "<form action=\"javascript:code_toggle()\"><input type=\"submit\" value=\"Click here to toggle on/off the raw code.\"></form>"
      ],
      "text/plain": [
       "<IPython.core.display.HTML object>"
      ]
     },
     "execution_count": 2,
     "metadata": {},
     "output_type": "execute_result"
    }
   ],
   "source": [
    "from IPython.display import HTML\n",
    "\n",
    "HTML('''<script>\n",
    "code_show=true; \n",
    "function code_toggle() {\n",
    " if (code_show){\n",
    " $('div.input').hide();\n",
    " } else {\n",
    " $('div.input').show();\n",
    " }\n",
    " code_show = !code_show\n",
    "} \n",
    "$( document ).ready(code_toggle);\n",
    "</script>\n",
    "<form action=\"javascript:code_toggle()\"><input type=\"submit\" value=\"Click here to toggle on/off the raw code.\"></form>''')"
   ]
  },
  {
   "cell_type": "markdown",
   "metadata": {},
   "source": [
    "<h1 align=\"center\"> Gene Expression </h1>\n",
    "<h3 align=\"center\"> Christine Zhang </h3>"
   ]
  },
  {
   "cell_type": "markdown",
   "metadata": {},
   "source": [
    "---"
   ]
  },
  {
   "cell_type": "code",
   "execution_count": 3,
   "metadata": {
    "collapsed": true
   },
   "outputs": [],
   "source": [
    "import numpy as np\n",
    "import pandas as pd\n",
    "import scipy as sp\n",
    "import pickle\n",
    "from sklearn import preprocessing\n",
    "from sklearn.linear_model import LinearRegression\n",
    "from sklearn.ensemble import RandomForestRegressor\n",
    "from sklearn import linear_model\n",
    "from sklearn.model_selection import train_test_split\n",
    "from sklearn.svm import SVR\n",
    "import matplotlib.pyplot as plt\n",
    "from sklearn.decomposition import PCA\n",
    "%matplotlib inline"
   ]
  },
  {
   "cell_type": "code",
   "execution_count": 7,
   "metadata": {
    "collapsed": false
   },
   "outputs": [
    {
     "data": {
      "text/html": [
       "<div>\n",
       "<table border=\"1\" class=\"dataframe\">\n",
       "  <thead>\n",
       "    <tr style=\"text-align: right;\">\n",
       "      <th></th>\n",
       "      <th>master_ccl_id</th>\n",
       "      <th>entrez_id</th>\n",
       "      <th>gene_exp</th>\n",
       "    </tr>\n",
       "  </thead>\n",
       "  <tbody>\n",
       "    <tr>\n",
       "      <th>0</th>\n",
       "      <td>1</td>\n",
       "      <td>1</td>\n",
       "      <td>5.489103</td>\n",
       "    </tr>\n",
       "    <tr>\n",
       "      <th>1</th>\n",
       "      <td>1</td>\n",
       "      <td>3</td>\n",
       "      <td>5.979812</td>\n",
       "    </tr>\n",
       "    <tr>\n",
       "      <th>2</th>\n",
       "      <td>1</td>\n",
       "      <td>4</td>\n",
       "      <td>6.583266</td>\n",
       "    </tr>\n",
       "    <tr>\n",
       "      <th>3</th>\n",
       "      <td>1</td>\n",
       "      <td>7</td>\n",
       "      <td>6.079415</td>\n",
       "    </tr>\n",
       "    <tr>\n",
       "      <th>4</th>\n",
       "      <td>1</td>\n",
       "      <td>8</td>\n",
       "      <td>5.195413</td>\n",
       "    </tr>\n",
       "  </tbody>\n",
       "</table>\n",
       "</div>"
      ],
      "text/plain": [
       "   master_ccl_id  entrez_id  gene_exp\n",
       "0              1          1  5.489103\n",
       "1              1          3  5.979812\n",
       "2              1          4  6.583266\n",
       "3              1          7  6.079415\n",
       "4              1          8  5.195413"
      ]
     },
     "execution_count": 7,
     "metadata": {},
     "output_type": "execute_result"
    }
   ],
   "source": [
    "gene_pd = pd.read_csv('../Rees/v21.data.gex_avg_log2.txt', skiprows = [0], sep =\"\\t\", names = [\"master_ccl_id\", \"entrez_id\", \"gene_exp\"])\n",
    "gene = gene_pd.as_matrix()\n",
    "gene_pd.head()"
   ]
  },
  {
   "cell_type": "code",
   "execution_count": 9,
   "metadata": {
    "collapsed": false
   },
   "outputs": [
    {
     "data": {
      "text/html": [
       "<div>\n",
       "<table border=\"1\" class=\"dataframe\">\n",
       "  <thead>\n",
       "    <tr style=\"text-align: right;\">\n",
       "      <th></th>\n",
       "      <th>Cclid</th>\n",
       "      <th>Cellline</th>\n",
       "      <th>Sites</th>\n",
       "      <th>Histology</th>\n",
       "      <th>Subhistology</th>\n",
       "      <th>Culture</th>\n",
       "      <th>SNP</th>\n",
       "      <th>AUC</th>\n",
       "    </tr>\n",
       "  </thead>\n",
       "  <tbody>\n",
       "    <tr>\n",
       "      <th>0</th>\n",
       "      <td>3</td>\n",
       "      <td>5637</td>\n",
       "      <td>urinary_tract</td>\n",
       "      <td>carcinoma</td>\n",
       "      <td>NS</td>\n",
       "      <td>RPMI001</td>\n",
       "      <td>SNP-matched-reference</td>\n",
       "      <td>2.473</td>\n",
       "    </tr>\n",
       "    <tr>\n",
       "      <th>1</th>\n",
       "      <td>7</td>\n",
       "      <td>22RV1</td>\n",
       "      <td>prostate</td>\n",
       "      <td>carcinoma</td>\n",
       "      <td>NS</td>\n",
       "      <td>RPMI001</td>\n",
       "      <td>SNP-matched-reference</td>\n",
       "      <td>2.142</td>\n",
       "    </tr>\n",
       "    <tr>\n",
       "      <th>2</th>\n",
       "      <td>10</td>\n",
       "      <td>42MGBA</td>\n",
       "      <td>central_nervous_system</td>\n",
       "      <td>glioma</td>\n",
       "      <td>astrocytoma_Grade_IV</td>\n",
       "      <td>RPMIMEM001</td>\n",
       "      <td>SNP-matched-reference</td>\n",
       "      <td>3.380</td>\n",
       "    </tr>\n",
       "    <tr>\n",
       "      <th>3</th>\n",
       "      <td>15</td>\n",
       "      <td>647V</td>\n",
       "      <td>urinary_tract</td>\n",
       "      <td>carcinoma</td>\n",
       "      <td>transitional_cell_carcinoma</td>\n",
       "      <td>DMEM011</td>\n",
       "      <td>SNP-matched-reference</td>\n",
       "      <td>3.374</td>\n",
       "    </tr>\n",
       "    <tr>\n",
       "      <th>4</th>\n",
       "      <td>16</td>\n",
       "      <td>769P</td>\n",
       "      <td>kidney</td>\n",
       "      <td>carcinoma</td>\n",
       "      <td>clear_cell_renal_cell_carcinoma</td>\n",
       "      <td>RPMI001</td>\n",
       "      <td>SNP-matched-reference</td>\n",
       "      <td>3.123</td>\n",
       "    </tr>\n",
       "    <tr>\n",
       "      <th>5</th>\n",
       "      <td>19</td>\n",
       "      <td>786O</td>\n",
       "      <td>kidney</td>\n",
       "      <td>carcinoma</td>\n",
       "      <td>clear_cell_renal_cell_carcinoma</td>\n",
       "      <td>RPMI001</td>\n",
       "      <td>SNP-matched-reference</td>\n",
       "      <td>3.779</td>\n",
       "    </tr>\n",
       "    <tr>\n",
       "      <th>6</th>\n",
       "      <td>21</td>\n",
       "      <td>8505C</td>\n",
       "      <td>thyroid</td>\n",
       "      <td>carcinoma</td>\n",
       "      <td>anaplastic_carcinoma</td>\n",
       "      <td>EMEM001</td>\n",
       "      <td>SNP-matched-reference</td>\n",
       "      <td>3.471</td>\n",
       "    </tr>\n",
       "    <tr>\n",
       "      <th>7</th>\n",
       "      <td>22</td>\n",
       "      <td>8MGBA</td>\n",
       "      <td>central_nervous_system</td>\n",
       "      <td>glioma</td>\n",
       "      <td>astrocytoma_Grade_IV</td>\n",
       "      <td>EMEM005</td>\n",
       "      <td>SNP-matched-reference</td>\n",
       "      <td>2.625</td>\n",
       "    </tr>\n",
       "    <tr>\n",
       "      <th>8</th>\n",
       "      <td>23</td>\n",
       "      <td>A101D</td>\n",
       "      <td>skin</td>\n",
       "      <td>malignant_melanoma</td>\n",
       "      <td>NS</td>\n",
       "      <td>DMEM001</td>\n",
       "      <td>SNP-matched-reference</td>\n",
       "      <td>4.677</td>\n",
       "    </tr>\n",
       "    <tr>\n",
       "      <th>9</th>\n",
       "      <td>25</td>\n",
       "      <td>A172</td>\n",
       "      <td>central_nervous_system</td>\n",
       "      <td>glioma</td>\n",
       "      <td>astrocytoma_Grade_IV</td>\n",
       "      <td>DMEM001</td>\n",
       "      <td>SNP-matched-reference</td>\n",
       "      <td>2.751</td>\n",
       "    </tr>\n",
       "  </tbody>\n",
       "</table>\n",
       "</div>"
      ],
      "text/plain": [
       "   Cclid Cellline                   Sites           Histology  \\\n",
       "0      3     5637           urinary_tract           carcinoma   \n",
       "1      7    22RV1                prostate           carcinoma   \n",
       "2     10   42MGBA  central_nervous_system              glioma   \n",
       "3     15     647V           urinary_tract           carcinoma   \n",
       "4     16     769P                  kidney           carcinoma   \n",
       "5     19     786O                  kidney           carcinoma   \n",
       "6     21    8505C                 thyroid           carcinoma   \n",
       "7     22    8MGBA  central_nervous_system              glioma   \n",
       "8     23    A101D                    skin  malignant_melanoma   \n",
       "9     25     A172  central_nervous_system              glioma   \n",
       "\n",
       "                      Subhistology     Culture                    SNP    AUC  \n",
       "0                               NS     RPMI001  SNP-matched-reference  2.473  \n",
       "1                               NS     RPMI001  SNP-matched-reference  2.142  \n",
       "2             astrocytoma_Grade_IV  RPMIMEM001  SNP-matched-reference  3.380  \n",
       "3      transitional_cell_carcinoma     DMEM011  SNP-matched-reference  3.374  \n",
       "4  clear_cell_renal_cell_carcinoma     RPMI001  SNP-matched-reference  3.123  \n",
       "5  clear_cell_renal_cell_carcinoma     RPMI001  SNP-matched-reference  3.779  \n",
       "6             anaplastic_carcinoma     EMEM001  SNP-matched-reference  3.471  \n",
       "7             astrocytoma_Grade_IV     EMEM005  SNP-matched-reference  2.625  \n",
       "8                               NS     DMEM001  SNP-matched-reference  4.677  \n",
       "9             astrocytoma_Grade_IV     DMEM001  SNP-matched-reference  2.751  "
      ]
     },
     "execution_count": 9,
     "metadata": {},
     "output_type": "execute_result"
    }
   ],
   "source": [
    "auc_pd = pd.read_csv('dataset1.csv', skiprows = [0,1], sep =\",\", \n",
    "                          names = [\"Cclid\", \"Cellline\", \"Sites\", \"Histology\", \"Subhistology\", \"Culture\", \"SNP\", \"AUC\"])\n",
    "auc = auc_pd.as_matrix()\n",
    "auc_pd.head(n=10)"
   ]
  },
  {
   "cell_type": "code",
   "execution_count": 13,
   "metadata": {
    "collapsed": true
   },
   "outputs": [],
   "source": [
    "def intersect (first, second, combined, toggle, type_var):\n",
    "    if toggle == 1:\n",
    "        first = list(set(first[:,0]))\n",
    "        second = list(set(second[:,0]))\n",
    "    for row in first:\n",
    "        if type_var == \"str\":\n",
    "            if str(row) in second:\n",
    "                combined.append(row)\n",
    "        if type_var == \"float\":\n",
    "            if float(row) in second:\n",
    "                combined.append(row)\n",
    "        if type_var == \"int\":\n",
    "            if int(row) in second:\n",
    "                combined.append(row)\n",
    "    return combined, len(combined)"
   ]
  },
  {
   "cell_type": "code",
   "execution_count": 36,
   "metadata": {
    "collapsed": false
   },
   "outputs": [
    {
     "name": "stdout",
     "output_type": "stream",
     "text": [
      "472\n"
     ]
    }
   ],
   "source": [
    "file_name = \"all_overlap\"\n",
    "file_object = open(file_name,'r')  \n",
    "ccl_lst = pickle.load(file_object)\n",
    "print len(ccl_lst.index.values)"
   ]
  },
  {
   "cell_type": "code",
   "execution_count": 38,
   "metadata": {
    "collapsed": false
   },
   "outputs": [
    {
     "data": {
      "text/plain": [
       "282"
      ]
     },
     "execution_count": 38,
     "metadata": {},
     "output_type": "execute_result"
    }
   ],
   "source": [
    "auc_gene, all_gene = [], []\n",
    "auc_gene_lst, auc_gene_len = intersect (auc, gene, auc_gene, 1, \"float\")\n",
    "all_gene_lst, all_gene_len = intersect (auc_gene_lst, ccl_lst, all_gene, 0, \"float\")\n",
    "all_gene_len"
   ]
  },
  {
   "cell_type": "code",
   "execution_count": 42,
   "metadata": {
    "collapsed": true
   },
   "outputs": [],
   "source": [
    "gene_lst_print = sorted(all_gene_lst)\n",
    "np.savetxt('ccl_gene_exp.csv', gene_lst_print, delimiter=',')"
   ]
  },
  {
   "cell_type": "code",
   "execution_count": null,
   "metadata": {
    "collapsed": true
   },
   "outputs": [],
   "source": []
  }
 ],
 "metadata": {
  "kernelspec": {
   "display_name": "Python 2",
   "language": "python",
   "name": "python2"
  },
  "language_info": {
   "codemirror_mode": {
    "name": "ipython",
    "version": 2
   },
   "file_extension": ".py",
   "mimetype": "text/x-python",
   "name": "python",
   "nbconvert_exporter": "python",
   "pygments_lexer": "ipython2",
   "version": "2.7.13"
  }
 },
 "nbformat": 4,
 "nbformat_minor": 2
}
