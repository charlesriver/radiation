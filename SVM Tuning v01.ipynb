{
 "cells": [
  {
   "cell_type": "code",
   "execution_count": 116,
   "metadata": {
    "collapsed": false
   },
   "outputs": [
    {
     "data": {
      "text/html": [
       "<script>\n",
       "code_show=true; \n",
       "function code_toggle() {\n",
       " if (code_show){\n",
       " $('div.input').hide();\n",
       " } else {\n",
       " $('div.input').show();\n",
       " }\n",
       " code_show = !code_show\n",
       "} \n",
       "$( document ).ready(code_toggle);\n",
       "</script>\n",
       "<form action=\"javascript:code_toggle()\"><input type=\"submit\" value=\"Click here to toggle on/off the raw code.\"></form>"
      ],
      "text/plain": [
       "<IPython.core.display.HTML object>"
      ]
     },
     "execution_count": 116,
     "metadata": {},
     "output_type": "execute_result"
    }
   ],
   "source": [
    "from IPython.display import HTML\n",
    "\n",
    "HTML('''<script>\n",
    "code_show=true; \n",
    "function code_toggle() {\n",
    " if (code_show){\n",
    " $('div.input').hide();\n",
    " } else {\n",
    " $('div.input').show();\n",
    " }\n",
    " code_show = !code_show\n",
    "} \n",
    "$( document ).ready(code_toggle);\n",
    "</script>\n",
    "<form action=\"javascript:code_toggle()\"><input type=\"submit\" value=\"Click here to toggle on/off the raw code.\"></form>''')"
   ]
  },
  {
   "cell_type": "markdown",
   "metadata": {},
   "source": [
    "<h1 align=\"center\"> SVM Tuning </h1>\n",
    "<h3 align=\"center\"> Christine Zhang </h3>"
   ]
  },
  {
   "cell_type": "markdown",
   "metadata": {},
   "source": [
    "---"
   ]
  },
  {
   "cell_type": "code",
   "execution_count": 1,
   "metadata": {
    "collapsed": true
   },
   "outputs": [],
   "source": [
    "import numpy as np\n",
    "import pandas as pd\n",
    "import scipy as sp\n",
    "import pickle\n",
    "from sklearn import preprocessing\n",
    "from sklearn.linear_model import LinearRegression\n",
    "from sklearn.ensemble import RandomForestRegressor\n",
    "from sklearn import linear_model\n",
    "from sklearn.model_selection import train_test_split\n",
    "from sklearn.svm import SVR\n",
    "import matplotlib.pyplot as plt\n",
    "from sklearn.decomposition import PCA\n",
    "%matplotlib inline"
   ]
  },
  {
   "cell_type": "markdown",
   "metadata": {},
   "source": [
    "### SVM Tuning"
   ]
  },
  {
   "cell_type": "markdown",
   "metadata": {},
   "source": [
    "---"
   ]
  },
  {
   "cell_type": "code",
   "execution_count": 2,
   "metadata": {
    "collapsed": false
   },
   "outputs": [
    {
     "data": {
      "text/html": [
       "<div>\n",
       "<table border=\"1\" class=\"dataframe\">\n",
       "  <thead>\n",
       "    <tr style=\"text-align: right;\">\n",
       "      <th></th>\n",
       "      <th>1_x</th>\n",
       "      <th>503538_x</th>\n",
       "      <th>29974_x</th>\n",
       "      <th>2_x</th>\n",
       "      <th>144571_x</th>\n",
       "      <th>144568_x</th>\n",
       "      <th>3</th>\n",
       "      <th>53947_x</th>\n",
       "      <th>51146_x</th>\n",
       "      <th>100506677</th>\n",
       "      <th>...</th>\n",
       "      <th>Sites_pancreas</th>\n",
       "      <th>Sites_pleura</th>\n",
       "      <th>Sites_prostate</th>\n",
       "      <th>Sites_salivary_gland</th>\n",
       "      <th>Sites_skin</th>\n",
       "      <th>Sites_soft_tissue</th>\n",
       "      <th>Sites_stomach</th>\n",
       "      <th>Sites_thyroid</th>\n",
       "      <th>Sites_upper_aerodigestive_tract</th>\n",
       "      <th>Sites_urinary_tract</th>\n",
       "    </tr>\n",
       "  </thead>\n",
       "  <tbody>\n",
       "    <tr>\n",
       "      <th>3</th>\n",
       "      <td>-0.0324</td>\n",
       "      <td>-0.0324</td>\n",
       "      <td>-0.4928</td>\n",
       "      <td>-0.0657</td>\n",
       "      <td>-0.0657</td>\n",
       "      <td>-0.0657</td>\n",
       "      <td>-0.0657</td>\n",
       "      <td>-0.0390</td>\n",
       "      <td>0.0518</td>\n",
       "      <td>0.4291</td>\n",
       "      <td>...</td>\n",
       "      <td>0</td>\n",
       "      <td>0</td>\n",
       "      <td>0</td>\n",
       "      <td>0</td>\n",
       "      <td>0</td>\n",
       "      <td>0</td>\n",
       "      <td>0</td>\n",
       "      <td>0</td>\n",
       "      <td>0</td>\n",
       "      <td>1</td>\n",
       "    </tr>\n",
       "    <tr>\n",
       "      <th>7</th>\n",
       "      <td>-0.0762</td>\n",
       "      <td>-0.0762</td>\n",
       "      <td>-0.0025</td>\n",
       "      <td>0.4486</td>\n",
       "      <td>0.4486</td>\n",
       "      <td>0.4486</td>\n",
       "      <td>0.4486</td>\n",
       "      <td>-0.0574</td>\n",
       "      <td>-0.0303</td>\n",
       "      <td>-0.0712</td>\n",
       "      <td>...</td>\n",
       "      <td>0</td>\n",
       "      <td>0</td>\n",
       "      <td>1</td>\n",
       "      <td>0</td>\n",
       "      <td>0</td>\n",
       "      <td>0</td>\n",
       "      <td>0</td>\n",
       "      <td>0</td>\n",
       "      <td>0</td>\n",
       "      <td>0</td>\n",
       "    </tr>\n",
       "    <tr>\n",
       "      <th>10</th>\n",
       "      <td>0.0346</td>\n",
       "      <td>0.0346</td>\n",
       "      <td>-0.0522</td>\n",
       "      <td>-0.3816</td>\n",
       "      <td>-0.3816</td>\n",
       "      <td>-0.3816</td>\n",
       "      <td>-0.3816</td>\n",
       "      <td>-0.0155</td>\n",
       "      <td>-0.2675</td>\n",
       "      <td>-0.7758</td>\n",
       "      <td>...</td>\n",
       "      <td>0</td>\n",
       "      <td>0</td>\n",
       "      <td>0</td>\n",
       "      <td>0</td>\n",
       "      <td>0</td>\n",
       "      <td>0</td>\n",
       "      <td>0</td>\n",
       "      <td>0</td>\n",
       "      <td>0</td>\n",
       "      <td>0</td>\n",
       "    </tr>\n",
       "    <tr>\n",
       "      <th>15</th>\n",
       "      <td>0.2934</td>\n",
       "      <td>0.2934</td>\n",
       "      <td>-0.3050</td>\n",
       "      <td>0.1603</td>\n",
       "      <td>0.1603</td>\n",
       "      <td>0.1603</td>\n",
       "      <td>0.1603</td>\n",
       "      <td>-0.2881</td>\n",
       "      <td>0.2831</td>\n",
       "      <td>0.0613</td>\n",
       "      <td>...</td>\n",
       "      <td>0</td>\n",
       "      <td>0</td>\n",
       "      <td>0</td>\n",
       "      <td>0</td>\n",
       "      <td>0</td>\n",
       "      <td>0</td>\n",
       "      <td>0</td>\n",
       "      <td>0</td>\n",
       "      <td>0</td>\n",
       "      <td>1</td>\n",
       "    </tr>\n",
       "    <tr>\n",
       "      <th>16</th>\n",
       "      <td>0.0463</td>\n",
       "      <td>0.0463</td>\n",
       "      <td>0.0436</td>\n",
       "      <td>-0.0112</td>\n",
       "      <td>-0.0112</td>\n",
       "      <td>-0.0112</td>\n",
       "      <td>-0.0112</td>\n",
       "      <td>0.0834</td>\n",
       "      <td>0.0468</td>\n",
       "      <td>0.0528</td>\n",
       "      <td>...</td>\n",
       "      <td>0</td>\n",
       "      <td>0</td>\n",
       "      <td>0</td>\n",
       "      <td>0</td>\n",
       "      <td>0</td>\n",
       "      <td>0</td>\n",
       "      <td>0</td>\n",
       "      <td>0</td>\n",
       "      <td>0</td>\n",
       "      <td>0</td>\n",
       "    </tr>\n",
       "  </tbody>\n",
       "</table>\n",
       "<p>5 rows × 43269 columns</p>\n",
       "</div>"
      ],
      "text/plain": [
       "       1_x  503538_x  29974_x     2_x  144571_x  144568_x       3  53947_x  \\\n",
       "3  -0.0324   -0.0324  -0.4928 -0.0657   -0.0657   -0.0657 -0.0657  -0.0390   \n",
       "7  -0.0762   -0.0762  -0.0025  0.4486    0.4486    0.4486  0.4486  -0.0574   \n",
       "10  0.0346    0.0346  -0.0522 -0.3816   -0.3816   -0.3816 -0.3816  -0.0155   \n",
       "15  0.2934    0.2934  -0.3050  0.1603    0.1603    0.1603  0.1603  -0.2881   \n",
       "16  0.0463    0.0463   0.0436 -0.0112   -0.0112   -0.0112 -0.0112   0.0834   \n",
       "\n",
       "    51146_x  100506677         ...           Sites_pancreas  Sites_pleura  \\\n",
       "3    0.0518     0.4291         ...                        0             0   \n",
       "7   -0.0303    -0.0712         ...                        0             0   \n",
       "10  -0.2675    -0.7758         ...                        0             0   \n",
       "15   0.2831     0.0613         ...                        0             0   \n",
       "16   0.0468     0.0528         ...                        0             0   \n",
       "\n",
       "    Sites_prostate  Sites_salivary_gland  Sites_skin  Sites_soft_tissue  \\\n",
       "3                0                     0           0                  0   \n",
       "7                1                     0           0                  0   \n",
       "10               0                     0           0                  0   \n",
       "15               0                     0           0                  0   \n",
       "16               0                     0           0                  0   \n",
       "\n",
       "    Sites_stomach  Sites_thyroid  Sites_upper_aerodigestive_tract  \\\n",
       "3               0              0                                0   \n",
       "7               0              0                                0   \n",
       "10              0              0                                0   \n",
       "15              0              0                                0   \n",
       "16              0              0                                0   \n",
       "\n",
       "    Sites_urinary_tract  \n",
       "3                     1  \n",
       "7                     0  \n",
       "10                    0  \n",
       "15                    1  \n",
       "16                    0  \n",
       "\n",
       "[5 rows x 43269 columns]"
      ]
     },
     "execution_count": 2,
     "metadata": {},
     "output_type": "execute_result"
    }
   ],
   "source": [
    "file_name = \"datasets/cn_mut_exp_bin_pd\"\n",
    "file_object = open(file_name,'r')  \n",
    "cn_mut_exp_bin_pd = pickle.load(file_object)\n",
    "cn_mut_exp_bin = cn_mut_exp_bin_pd.as_matrix()\n",
    "entrez_id_lst = cn_mut_exp_bin_pd.index\n",
    "cn_mut_exp_bin_pd.head()"
   ]
  },
  {
   "cell_type": "code",
   "execution_count": 3,
   "metadata": {
    "collapsed": false
   },
   "outputs": [
    {
     "data": {
      "text/html": [
       "<div>\n",
       "<table border=\"1\" class=\"dataframe\">\n",
       "  <thead>\n",
       "    <tr style=\"text-align: right;\">\n",
       "      <th></th>\n",
       "      <th>100009676</th>\n",
       "      <th>10000</th>\n",
       "      <th>10001</th>\n",
       "      <th>10002</th>\n",
       "      <th>10003</th>\n",
       "      <th>100048912</th>\n",
       "      <th>10004</th>\n",
       "      <th>10005</th>\n",
       "      <th>10006</th>\n",
       "      <th>10007</th>\n",
       "      <th>...</th>\n",
       "      <th>Sites_pancreas</th>\n",
       "      <th>Sites_pleura</th>\n",
       "      <th>Sites_prostate</th>\n",
       "      <th>Sites_salivary_gland</th>\n",
       "      <th>Sites_skin</th>\n",
       "      <th>Sites_soft_tissue</th>\n",
       "      <th>Sites_stomach</th>\n",
       "      <th>Sites_thyroid</th>\n",
       "      <th>Sites_upper_aerodigestive_tract</th>\n",
       "      <th>Sites_urinary_tract</th>\n",
       "    </tr>\n",
       "  </thead>\n",
       "  <tbody>\n",
       "    <tr>\n",
       "      <th>3</th>\n",
       "      <td>5.979812</td>\n",
       "      <td>6.595651</td>\n",
       "      <td>9.663415</td>\n",
       "      <td>4.040661</td>\n",
       "      <td>4.159523</td>\n",
       "      <td>4.099417</td>\n",
       "      <td>4.518963</td>\n",
       "      <td>8.236260</td>\n",
       "      <td>8.543386</td>\n",
       "      <td>10.146590</td>\n",
       "      <td>...</td>\n",
       "      <td>0</td>\n",
       "      <td>0</td>\n",
       "      <td>0</td>\n",
       "      <td>0</td>\n",
       "      <td>0</td>\n",
       "      <td>0</td>\n",
       "      <td>0</td>\n",
       "      <td>0</td>\n",
       "      <td>0</td>\n",
       "      <td>1</td>\n",
       "    </tr>\n",
       "    <tr>\n",
       "      <th>7</th>\n",
       "      <td>6.079415</td>\n",
       "      <td>4.521625</td>\n",
       "      <td>8.845639</td>\n",
       "      <td>3.768181</td>\n",
       "      <td>4.044822</td>\n",
       "      <td>4.151676</td>\n",
       "      <td>4.201540</td>\n",
       "      <td>7.922227</td>\n",
       "      <td>9.147535</td>\n",
       "      <td>8.564433</td>\n",
       "      <td>...</td>\n",
       "      <td>0</td>\n",
       "      <td>0</td>\n",
       "      <td>1</td>\n",
       "      <td>0</td>\n",
       "      <td>0</td>\n",
       "      <td>0</td>\n",
       "      <td>0</td>\n",
       "      <td>0</td>\n",
       "      <td>0</td>\n",
       "      <td>0</td>\n",
       "    </tr>\n",
       "    <tr>\n",
       "      <th>10</th>\n",
       "      <td>5.373842</td>\n",
       "      <td>6.631749</td>\n",
       "      <td>10.001350</td>\n",
       "      <td>3.610522</td>\n",
       "      <td>4.242035</td>\n",
       "      <td>3.859894</td>\n",
       "      <td>4.561051</td>\n",
       "      <td>8.697279</td>\n",
       "      <td>8.833257</td>\n",
       "      <td>8.895942</td>\n",
       "      <td>...</td>\n",
       "      <td>0</td>\n",
       "      <td>0</td>\n",
       "      <td>0</td>\n",
       "      <td>0</td>\n",
       "      <td>0</td>\n",
       "      <td>0</td>\n",
       "      <td>0</td>\n",
       "      <td>0</td>\n",
       "      <td>0</td>\n",
       "      <td>0</td>\n",
       "    </tr>\n",
       "    <tr>\n",
       "      <th>15</th>\n",
       "      <td>6.025009</td>\n",
       "      <td>7.510764</td>\n",
       "      <td>9.289334</td>\n",
       "      <td>3.685390</td>\n",
       "      <td>3.656942</td>\n",
       "      <td>4.138587</td>\n",
       "      <td>4.599801</td>\n",
       "      <td>8.492029</td>\n",
       "      <td>9.341341</td>\n",
       "      <td>9.578695</td>\n",
       "      <td>...</td>\n",
       "      <td>0</td>\n",
       "      <td>0</td>\n",
       "      <td>0</td>\n",
       "      <td>0</td>\n",
       "      <td>0</td>\n",
       "      <td>0</td>\n",
       "      <td>0</td>\n",
       "      <td>0</td>\n",
       "      <td>0</td>\n",
       "      <td>1</td>\n",
       "    </tr>\n",
       "    <tr>\n",
       "      <th>16</th>\n",
       "      <td>5.444892</td>\n",
       "      <td>7.544216</td>\n",
       "      <td>8.715909</td>\n",
       "      <td>4.173643</td>\n",
       "      <td>3.663081</td>\n",
       "      <td>4.069507</td>\n",
       "      <td>4.523500</td>\n",
       "      <td>7.735855</td>\n",
       "      <td>9.247934</td>\n",
       "      <td>10.152180</td>\n",
       "      <td>...</td>\n",
       "      <td>0</td>\n",
       "      <td>0</td>\n",
       "      <td>0</td>\n",
       "      <td>0</td>\n",
       "      <td>0</td>\n",
       "      <td>0</td>\n",
       "      <td>0</td>\n",
       "      <td>0</td>\n",
       "      <td>0</td>\n",
       "      <td>0</td>\n",
       "    </tr>\n",
       "  </tbody>\n",
       "</table>\n",
       "<p>5 rows × 18565 columns</p>\n",
       "</div>"
      ],
      "text/plain": [
       "    100009676     10000      10001     10002     10003  100048912     10004  \\\n",
       "3    5.979812  6.595651   9.663415  4.040661  4.159523   4.099417  4.518963   \n",
       "7    6.079415  4.521625   8.845639  3.768181  4.044822   4.151676  4.201540   \n",
       "10   5.373842  6.631749  10.001350  3.610522  4.242035   3.859894  4.561051   \n",
       "15   6.025009  7.510764   9.289334  3.685390  3.656942   4.138587  4.599801   \n",
       "16   5.444892  7.544216   8.715909  4.173643  3.663081   4.069507  4.523500   \n",
       "\n",
       "       10005     10006      10007         ...           Sites_pancreas  \\\n",
       "3   8.236260  8.543386  10.146590         ...                        0   \n",
       "7   7.922227  9.147535   8.564433         ...                        0   \n",
       "10  8.697279  8.833257   8.895942         ...                        0   \n",
       "15  8.492029  9.341341   9.578695         ...                        0   \n",
       "16  7.735855  9.247934  10.152180         ...                        0   \n",
       "\n",
       "    Sites_pleura  Sites_prostate  Sites_salivary_gland  Sites_skin  \\\n",
       "3              0               0                     0           0   \n",
       "7              0               1                     0           0   \n",
       "10             0               0                     0           0   \n",
       "15             0               0                     0           0   \n",
       "16             0               0                     0           0   \n",
       "\n",
       "    Sites_soft_tissue  Sites_stomach  Sites_thyroid  \\\n",
       "3                   0              0              0   \n",
       "7                   0              0              0   \n",
       "10                  0              0              0   \n",
       "15                  0              0              0   \n",
       "16                  0              0              0   \n",
       "\n",
       "    Sites_upper_aerodigestive_tract  Sites_urinary_tract  \n",
       "3                                 0                    1  \n",
       "7                                 0                    0  \n",
       "10                                0                    0  \n",
       "15                                0                    1  \n",
       "16                                0                    0  \n",
       "\n",
       "[5 rows x 18565 columns]"
      ]
     },
     "execution_count": 3,
     "metadata": {},
     "output_type": "execute_result"
    }
   ],
   "source": [
    "file_name = \"datasets/gene_exp_bin_pd\"\n",
    "file_object = open(file_name,'r')  \n",
    "gene_exp_bin_pd = pickle.load(file_object)\n",
    "gene_exp_bin = gene_exp_bin_pd.as_matrix()\n",
    "gene_exp_bin_pd.head()"
   ]
  },
  {
   "cell_type": "code",
   "execution_count": 4,
   "metadata": {
    "collapsed": false
   },
   "outputs": [
    {
     "name": "stdout",
     "output_type": "stream",
     "text": [
      "(471, 1)\n"
     ]
    }
   ],
   "source": [
    "auc_pd = pd.read_csv('dataset1.csv', skiprows = [0,1], sep =\",\", \n",
    "                          names = [\"Cclid\", \"Cellline\", \"Sites\", \"Histology\", \"Subhistology\", \"Culture\", \"SNP\", \"AUC\"])\n",
    "auc_lst = []\n",
    "for index, cclid in enumerate(auc_pd[\"Cclid\"]):\n",
    "    if str(cclid) in entrez_id_lst:\n",
    "        auc_lst.append(auc_pd[\"AUC\"][index])\n",
    "auc_lst = np.array(auc_lst)\n",
    "auc_lst = auc_lst.reshape([471,1])\n",
    "print np.shape(auc_lst)"
   ]
  },
  {
   "cell_type": "code",
   "execution_count": 5,
   "metadata": {
    "collapsed": true
   },
   "outputs": [],
   "source": [
    "svr_rbf = SVR(kernel = \"rbf\")\n",
    "\n",
    "def test_model (model):\n",
    "    clf = model\n",
    "    clf.fit(x_train, y_train)\n",
    "    y_pred = clf.predict(x_test)\n",
    "    r2 = clf.score(x_test, y_test)\n",
    "    return y_pred, r2"
   ]
  },
  {
   "cell_type": "markdown",
   "metadata": {},
   "source": [
    "### C"
   ]
  },
  {
   "cell_type": "markdown",
   "metadata": {},
   "source": [
    "---"
   ]
  },
  {
   "cell_type": "code",
   "execution_count": 6,
   "metadata": {
    "collapsed": false
   },
   "outputs": [
    {
     "data": {
      "image/png": "[encoded data removed]",
      "text/plain": [
       "<matplotlib.figure.Figure at 0x1138ebe90>"
      ]
     },
     "metadata": {},
     "output_type": "display_data"
    }
   ],
   "source": [
    "all_onehot_scaled = preprocessing.scale(cn_mut_exp_bin)\n",
    "master_auc_scaled = preprocessing.scale(auc_lst)\n",
    "\n",
    "x_train, x_test, y_train, y_test = train_test_split(all_onehot_scaled, master_auc_scaled, test_size=0.2, random_state=42)\n",
    "y_test = y_test.flatten()\n",
    "y_train = y_train.flatten()\n",
    "\n",
    "# default C = 1.0, default epsilon = 0.1\n",
    "C_range = np.logspace(-2, 10, 13)\n",
    "r_2_lst = []\n",
    "for index, c_val in enumerate(C_range):\n",
    "    svr_rbf = SVR(kernel = \"rbf\", C = c_val)\n",
    "    svr_rbf_y_pred, r2_svr_rbf = test_model (svr_rbf)\n",
    "    r_2_lst.append(r2_svr_rbf)\n",
    "plt.semilogx(C_range, r_2_lst)\n",
    "plt.title(\"SVM RBF, Max C Value: %s\" % (C_range[np.argmax(r_2_lst)]))\n",
    "plt.xlabel(\"C Value\")\n",
    "plt.ylabel(\"R^2\")\n",
    "plt.show()"
   ]
  },
  {
   "cell_type": "code",
   "execution_count": 7,
   "metadata": {
    "collapsed": false
   },
   "outputs": [
    {
     "data": {
      "image/png": "[encoded data removed]",
      "text/plain": [
       "<matplotlib.figure.Figure at 0x108f85090>"
      ]
     },
     "metadata": {},
     "output_type": "display_data"
    }
   ],
   "source": [
    "all_onehot_scaled = preprocessing.scale(gene_exp_bin)\n",
    "master_auc_scaled = preprocessing.scale(auc_lst)\n",
    "\n",
    "x_train, x_test, y_train, y_test = train_test_split(all_onehot_scaled, master_auc_scaled, test_size=0.2, random_state=42)\n",
    "y_test = y_test.flatten()\n",
    "y_train = y_train.flatten()\n",
    "\n",
    "# default C = 1.0, default epsilon = 0.1\n",
    "C_range = np.logspace(-2, 10, 13)\n",
    "r_2_lst = []\n",
    "for index, c_val in enumerate(C_range):\n",
    "    svr_rbf = SVR(kernel = \"rbf\", C = c_val)\n",
    "    svr_rbf_y_pred, r2_svr_rbf = test_model (svr_rbf)\n",
    "    r_2_lst.append(r2_svr_rbf)\n",
    "plt.semilogx(C_range, r_2_lst)\n",
    "plt.title(\"SVM RBF, Max C Value: %s\" % (C_range[np.argmax(r_2_lst)]))\n",
    "plt.xlabel(\"C Value\")\n",
    "plt.ylabel(\"R^2\")\n",
    "plt.show()"
   ]
  },
  {
   "cell_type": "markdown",
   "metadata": {},
   "source": [
    "### Gamma"
   ]
  },
  {
   "cell_type": "markdown",
   "metadata": {},
   "source": [
    "---"
   ]
  },
  {
   "cell_type": "code",
   "execution_count": 8,
   "metadata": {
    "collapsed": false
   },
   "outputs": [
    {
     "name": "stdout",
     "output_type": "stream",
     "text": [
      "Default All Data Gamma:  2.3111234371e-05\n",
      "Default Gene Expression Gamma:  5.38647993536e-05\n"
     ]
    }
   ],
   "source": [
    "print \"Default All Data Gamma: \", float(1)/43269\n",
    "print \"Default Gene Expression Gamma: \", float(1)/18565  "
   ]
  },
  {
   "cell_type": "code",
   "execution_count": 9,
   "metadata": {
    "collapsed": false
   },
   "outputs": [
    {
     "data": {
      "image/png": "[encoded data removed]",
      "text/plain": [
       "<matplotlib.figure.Figure at 0x108f850d0>"
      ]
     },
     "metadata": {},
     "output_type": "display_data"
    }
   ],
   "source": [
    "all_onehot_scaled = preprocessing.scale(cn_mut_exp_bin)\n",
    "master_auc_scaled = preprocessing.scale(auc_lst)\n",
    "\n",
    "x_train, x_test, y_train, y_test = train_test_split(all_onehot_scaled, master_auc_scaled, test_size=0.2, random_state=42)\n",
    "y_test = y_test.flatten()\n",
    "y_train = y_train.flatten()\n",
    "\n",
    "# default C = 1.0, default epsilon = 0.1, default gamma = 2.31e-05\n",
    "Gamma_range = np.logspace(-10, 0, 10)\n",
    "r_2_lst = []\n",
    "for index, gamma_val in enumerate(Gamma_range):\n",
    "    svr_rbf = SVR(kernel = \"rbf\", gamma = gamma_val)\n",
    "    svr_rbf_y_pred, r2_svr_rbf = test_model (svr_rbf)\n",
    "    r_2_lst.append(r2_svr_rbf)\n",
    "plt.semilogx(Gamma_range, r_2_lst)\n",
    "plt.title(\"SVM RBF, Max Gamma Value: %s\" % (Gamma_range[np.argmax(r_2_lst)]))\n",
    "plt.xlabel(\"Gamma Value\")\n",
    "plt.ylabel(\"R^2\")\n",
    "plt.show()"
   ]
  },
  {
   "cell_type": "code",
   "execution_count": 10,
   "metadata": {
    "collapsed": false
   },
   "outputs": [
    {
     "data": {
      "image/png": "[encoded data removed]",
      "text/plain": [
       "<matplotlib.figure.Figure at 0x1138eb690>"
      ]
     },
     "metadata": {},
     "output_type": "display_data"
    }
   ],
   "source": [
    "all_onehot_scaled = preprocessing.scale(gene_exp_bin)\n",
    "master_auc_scaled = preprocessing.scale(auc_lst)\n",
    "\n",
    "x_train, x_test, y_train, y_test = train_test_split(all_onehot_scaled, master_auc_scaled, test_size=0.2, random_state=42)\n",
    "y_test = y_test.flatten()\n",
    "y_train = y_train.flatten()\n",
    "\n",
    "# default C = 1.0, default epsilon = 0.1, default gamma = 5.39 e-05\n",
    "Gamma_range = np.logspace(-10, 0, 10)\n",
    "r_2_lst = []\n",
    "for index, gamma_val in enumerate(Gamma_range):\n",
    "    svr_rbf = SVR(kernel = \"rbf\", gamma = gamma_val)\n",
    "    svr_rbf_y_pred, r2_svr_rbf = test_model (svr_rbf)\n",
    "    r_2_lst.append(r2_svr_rbf)\n",
    "plt.semilogx(Gamma_range, r_2_lst)\n",
    "plt.title(\"SVM RBF, Max Gamma Value: %s\" % (Gamma_range[np.argmax(r_2_lst)]))\n",
    "plt.xlabel(\"Gamma Value\")\n",
    "plt.ylabel(\"R^2\")\n",
    "plt.show()"
   ]
  },
  {
   "cell_type": "code",
   "execution_count": null,
   "metadata": {
    "collapsed": true
   },
   "outputs": [],
   "source": []
  }
 ],
 "metadata": {
  "kernelspec": {
   "display_name": "Python 2",
   "language": "python",
   "name": "python2"
  },
  "language_info": {
   "codemirror_mode": {
    "name": "ipython",
    "version": 2
   },
   "file_extension": ".py",
   "mimetype": "text/x-python",
   "name": "python",
   "nbconvert_exporter": "python",
   "pygments_lexer": "ipython2",
   "version": "2.7.13"
  }
 },
 "nbformat": 4,
 "nbformat_minor": 2
}
